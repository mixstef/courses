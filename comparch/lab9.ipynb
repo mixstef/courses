{
 "cells": [
  {
   "cell_type": "markdown",
   "id": "0529654b",
   "metadata": {},
   "source": [
    "# Εργαστήριο 9\n",
    "Όπως και στα προηγούμενα εργαστήρια συνεχίζουμε στο περιβάλλον του [online chisel bootcamp](https://mybinder.org/v2/gh/freechipsproject/chisel-bootcamp/master).\n",
    "\n",
    "Πριν ξεκινήσετε, εκτελέστε τα επόμενα 2 κελιά:"
   ]
  },
  {
   "cell_type": "code",
   "execution_count": null,
   "id": "7068aa27-1cce-40f4-a0da-0fa555842407",
   "metadata": {},
   "outputs": [],
   "source": [
    "val path = System.getProperty(\"user.dir\") + \"/source/load-ivy.sc\"\n",
    "interp.load.module(ammonite.ops.Path(java.nio.file.FileSystems.getDefault().getPath(path)))"
   ]
  },
  {
   "cell_type": "code",
   "execution_count": null,
   "id": "66ca42e1-fb27-4865-963f-b13efa3a3906",
   "metadata": {
    "scrolled": true
   },
   "outputs": [],
   "source": [
    "import chisel3._\n",
    "import chisel3.util._\n",
    "import chisel3.tester._\n",
    "import chisel3.tester.RawTester.test\n",
    "import dotvisualizer._"
   ]
  },
  {
   "cell_type": "markdown",
   "id": "25a246d0",
   "metadata": {
    "tags": []
   },
   "source": [
    "## Μνήμη εντολών\n",
    "Στη συνέχεια του εργαστηρίου θα χρειαστούμε μια μνήμη μόνο για ανάγνωση (ROM) για να αποθηκεύουμε τις εντολές προς εκτέλεση. Στην Chisel αυτό μπορεί να γίνει με τη χρήση του `VecInit()` όπως στο επόμενο παράδειγμα:\n",
    "\n",
    "~~~scala\n",
    "val content = Vector(33.U,1256.U,555.U) \n",
    "val rom = VecInit(content)\n",
    "~~~\n",
    "\n",
    "Ο πιο πάνω κώδικας, όταν θα μεταφερθεί η σχεδίαση σε ένα πραγματικό κύκλωμα, θα δημιουργήσει ένα τμήμα υλικού που δέχεται μια είσοδο επιλογής (διεύθυνση) και παράγει την αντίστοιχη τιμή. Στο προηγούμενο παράδειγμα θα είναι rom(0)=33, rom(1)=1256 και rom(2)=555.\n",
    "\n",
    "*Σημ.: Ανάλογα με την τεχνολογία κατασκευής, το κύκλωμα του VecInit θα υλοποιηθεί με ως πίνακας αναζήτησης (lookup table) ή με απλές πύλες.* \n",
    "\n",
    "### Γενικό module μνήμης εντολών\n",
    "Στη συνέχεια δίνεται ένα *παραμετρικό* module `InstructionMemory` που περιέχει ένα τμήμα ROM για εντολές. Οι παράμετροι δημιουργίας είναι οι ακόλουθες:\n",
    "\n",
    "* `addr_width`: εύρος διεύθυνσης (πόσα bits έχουν οι διευθύνσεις της μνήμης εντολών)\n",
    "\n",
    "* `instr_width`: εύρος εντολών (πόσα bits έχει κάθε εντολή)\n",
    "\n",
    "* `content`: ακολουθία με το περιεχόμενο της μνήμης εντολών (σε μορφή UInt)\n",
    "\n",
    "Εκτελέστε το επόμενο κελί:"
   ]
  },
  {
   "cell_type": "code",
   "execution_count": null,
   "id": "1940a75c",
   "metadata": {},
   "outputs": [],
   "source": [
    "class InstructionMemory(addr_width: Int, instr_width: Int, content: Seq[UInt]) extends Module {\n",
    "  val io = IO(new Bundle {\n",
    "    val address = Input(UInt(addr_width.W))\n",
    "    val data_out = Output(UInt(instr_width.W))\n",
    "  })\n",
    "  val rom = VecInit(content)\n",
    "    \n",
    "  io.data_out := rom(io.address)\n",
    "}"
   ]
  },
  {
   "cell_type": "markdown",
   "id": "215eff76-f572-48b0-a55e-320290e61206",
   "metadata": {},
   "source": [
    "Δοκιμάστε το επόμενο κελί, όπου δημιουργούμε ένα InstructionMemory instance με εύρος διευθύνσεων 8 bits, εύρος εντολών 16 bits και αρχικοποίηση από ένα Vector με 3 τιμές και στη συνέχεια, για κάθε γραμμή της μνήμης ROM εισάγουμε τη διεύθυνσή της με poke και ελέγχουμε αν παίρνουμε το επιθυμητό αποτέλεσμα: "
   ]
  },
  {
   "cell_type": "code",
   "execution_count": null,
   "id": "ddd63cce-11a2-4a13-ae85-7a32dba43bf9",
   "metadata": {},
   "outputs": [],
   "source": [
    "val instructions = Vector(33.U,1256.U,555.U)\n",
    "test(new InstructionMemory(8,16,instructions)) { c =>\n",
    "  for (i <- 0 until instructions.length) {\n",
    "    c.io.address.poke(i.U)\n",
    "    c.io.data_out.expect(instructions(i))\n",
    "  }\n",
    "}\n",
    "println(\"SUCCESS!!\")"
   ]
  },
  {
   "cell_type": "markdown",
   "id": "98ffd775",
   "metadata": {},
   "source": [
    "## Άσκηση\n",
    "Σκοπός της άσκησης είναι να κατασκευάσετε τη μονάδα\n",
    "του program counter και της μνήμης εντολών της ΚΜΕ. Το module θα ονομάζεται `FetchUnit` και θα υλοποιεί\n",
    "την εξής λειτουργικότητα:\n",
    "\n",
    "* Το module θα είναι παραμετρικό ως προς το εύρος των διευθύνσεων (παράμετρος `addr_width`), το εύρος των εντολών (παράμετρος `instr_width`) και το περιεχόμενο της μνήμης εντολών (παράμετρος `content`).\n",
    "\n",
    "* Θα περιέχει καταχωρητή `pcReg` με εύρος λέξης `addr_width` που θα κρατά την τιμή της διεύθυνσης της επόμενης εντολής. Με την έναρξη λειτουργίας ο καταχωρητής `pcReg` θα αρχικοποιείται στην τιμή 0.U\n",
    "\n",
    "* Η έξοδος του καταχωρητή θα οδηγείται σε ένα `InstructionMemory` instance.\n",
    "\n",
    "* Το module θα διαθέτει επίσης τις εξής εισόδους:\n",
    "\n",
    "  * `branch_pc` (εύρος addr_width)\n",
    "  * `pc_sel` (εύρος 1 bit)\n",
    "  \n",
    "  Σε κάθε κύκλο ρολογιού, η νέα τιμή του καταχωρητή `pcReg`θα ισούται:\n",
    "  \n",
    "  * Με την παλιά τιμή + 1, όταν το `pc_sel` είναι 0\n",
    "  * Με το `branch_pc`, όταν το `pc_sel` είναι 1\n",
    "  \n",
    "* Παρατηρήστε τη χρήση του σήματος `addr_plus_1` για το σημείο του κυκλώματος μετά τον αθροιστή + 1\n",
    "  \n",
    "Υλοποιήστε το module `PcLogic` στο κελί που ακολουθεί σύμφωνα με το επόμενο σχήμα:\n",
    "\n",
    "![fetchunit.png](https://mixstef.github.io/courses/comparch/labimg/fetchunit.png)"
   ]
  },
  {
   "cell_type": "code",
   "execution_count": null,
   "id": "a3e98b88",
   "metadata": {},
   "outputs": [],
   "source": [
    "class FetchUnit(addr_width: Int, instr_width: Int, content: Seq[UInt]) extends Module {\n",
    "  val io = IO(new Bundle {\n",
    "    val branch_pc = Input(UInt(addr_width.W))\n",
    "    val pc_sel = Input(UInt(1.W))\n",
    "    val next_pc = Output(UInt(addr_width.W))\n",
    "    val instruction = Output(UInt(instr_width.W))\n",
    "  })\n",
    "  \n",
    "  // instruction memory instance  \n",
    "  val iMem = Module(new InstructionMemory(addr_width,instr_width,content))\n",
    "  // pc register\n",
    "  val pcReg = RegInit(0.U(addr_width.W))  \n",
    "  // temp signal, output of +1 adder\n",
    "  val addr_plus_1 = Wire(UInt())\n",
    "\n",
    "  // συμπληρώστε τις συνδέσεις των σημάτων σύμφωνα με το σχήμα\n",
    "    \n",
    "}"
   ]
  },
  {
   "cell_type": "markdown",
   "id": "25c4a57c-1d8c-470e-a350-98a7d08f1b83",
   "metadata": {},
   "source": [
    "Δοκιμάστε την ορθή λειτουργία του κυκλώματός σας με τον παρακάτω κώδικα:"
   ]
  },
  {
   "cell_type": "code",
   "execution_count": null,
   "id": "1a57e688-40e9-4e5d-bf23-e8d5abf46164",
   "metadata": {
    "tags": []
   },
   "outputs": [],
   "source": [
    "val instructions = Vector(33.U,1256.U,555.U)\n",
    "test(new FetchUnit(8,16,instructions)) { c =>\n",
    "  // test instr output when incrementing pc  \n",
    "  c.io.pc_sel.poke(0.U)\n",
    "  for (i <- 0 until instructions.length) {\n",
    "    c.io.instruction.expect(instructions(i))\n",
    "    c.clock.step()  \n",
    "  }\n",
    "  // test instr output with input branch pc  \n",
    "  c.io.pc_sel.poke(1.U)\n",
    "  c.io.branch_pc.poke(1.U)\n",
    "  c.clock.step()\n",
    "  c.io.instruction.expect(instructions(1))\n",
    "}\n",
    "println(\"SUCCESS!!\")"
   ]
  }
 ],
 "metadata": {
  "kernelspec": {
   "display_name": "Scala",
   "language": "scala",
   "name": "scala"
  },
  "language_info": {
   "codemirror_mode": "text/x-scala",
   "file_extension": ".scala",
   "mimetype": "text/x-scala",
   "name": "scala",
   "nbconvert_exporter": "script",
   "version": "2.12.10"
  }
 },
 "nbformat": 4,
 "nbformat_minor": 5
}
