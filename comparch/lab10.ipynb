{
 "cells": [
  {
   "cell_type": "markdown",
   "id": "0529654b",
   "metadata": {},
   "source": [
    "# Εργαστήριο 10\n",
    "Όπως και στα προηγούμενα εργαστήρια συνεχίζουμε στο περιβάλλον του [online chisel bootcamp](https://mybinder.org/v2/gh/freechipsproject/chisel-bootcamp/master).\n",
    "\n",
    "Πριν ξεκινήσετε, εκτελέστε τα επόμενα 2 κελιά:"
   ]
  },
  {
   "cell_type": "code",
   "execution_count": null,
   "id": "7068aa27-1cce-40f4-a0da-0fa555842407",
   "metadata": {
    "scrolled": true
   },
   "outputs": [],
   "source": [
    "val path = System.getProperty(\"user.dir\") + \"/source/load-ivy.sc\"\n",
    "interp.load.module(ammonite.ops.Path(java.nio.file.FileSystems.getDefault().getPath(path)))"
   ]
  },
  {
   "cell_type": "code",
   "execution_count": null,
   "id": "66ca42e1-fb27-4865-963f-b13efa3a3906",
   "metadata": {
    "scrolled": false
   },
   "outputs": [],
   "source": [
    "import chisel3._\n",
    "import chisel3.util._\n",
    "import chisel3.tester._\n",
    "import chisel3.tester.RawTester.test\n",
    "import dotvisualizer._"
   ]
  },
  {
   "cell_type": "markdown",
   "id": "59a380da",
   "metadata": {},
   "source": [
    "## Άσκηση 1: αποκωδικοποίηση εντολών\n",
    "Στην απλή ΚΜΕ που σχεδιάζετε, το κύκλωμα της **αποκωδικοποίησης** των εντολών μηχανής θα μετατρέπει τα bits των υποστηριζόμενων εντολών στα αντίστοιχα σήματα ελέγχου προς τα κυκλώματα εκτέλεσης των πράξεων και το register file του datapath.\n",
    "\n",
    "Στο σημείο αυτό θα πρέπει να προσδιοριστούν ακριβώς (κι όχι παραμετρικά όπως σε προηγούμενα εργαστήρια) τα χαρακτηριστικά της ΚΜΕ υπό σχεδίαση. Τα χαρακτηριστικά αυτά θα είναι:\n",
    "\n",
    "* 8 καταχωρητές γενικού σκοπού, των 16 bits ο καθένας.\n",
    "* Program counter επίσης των 16 bits.\n",
    "* Εντολές σταθερού μήκους, 16 bits η καθεμία.\n",
    "\n",
    "### Κωδικοποίηση εντολών\n",
    "Έστω ότι το σύστημά σας διαθέτει εντολές σταθερού μήκους **16 bits** και αναγνωρίζει (προς το παρόν) 2 κατηγορίες εντολών:\n",
    "* Αριθμητικές-λογικές πράξεις\n",
    "* Ανάθεση σταθεράς σε καταχωρητή\n",
    "\n",
    "#### Αριθμητικές-λογικές πράξεις\n",
    "Οι αριθμητικές-λογικές πράξεις έχουν τη μορφή:\n",
    "\n",
    "`Rdst <- Rsrc1 Funct Rsrc2`\n",
    "\n",
    "όπου είναι:\n",
    "\n",
    "* `Rdst`: καταχωρητής προορισμού αποτελέσματος (3 bits)\n",
    "* `Rsrc1`: καταχωρητής εισόδου δεδομένων 1 (3 bits)\n",
    "* `Rsrc2`: καταχωρητής εισόδου δεδομένων 2 (3 bits)\n",
    "* `Funct`: bits επιλογής πράξης (4 bits)\n",
    "\n",
    "Η κωδικοποίηση των εντολών αυτών έχει ως εξής:\n",
    "\n",
    "| `bits 15-13` | `bits 12-9` | `bits 8-6` | `bits 5-3` | `bits 2-0` |\n",
    "| --- | --- | --- | --- | --- |\n",
    "| `000` | `Funct` | `Rsrc1` | `Rsrc2` | `Rdst` |\n",
    "\n",
    "\n",
    "Τα bits επιλογής πράξης (`Funct`) έχουν την ακόλουθη μορφή:\n",
    "\n",
    "| `Funct` | `Πράξη` |\n",
    "| - | - |\n",
    "| `0000` | `AND` |\n",
    "| `0001` | `OR` |\n",
    "| `0010` | `XOR` |\n",
    "| `0011` | `+` |\n",
    "| `0111` | `-` |\n",
    "\n",
    "Παρατηρήστε ότι τα bits 0-1 του `Funct` (bits 9-10 της συνολικής εντολής) αντιστοιχούν στο σήμα `sel` του datapath ενώ το bit 2 (bit 11 της συνολικής εντολής) αντιστοιχεί στο σήμα `sub` του datapath.\n",
    "\n",
    "### Ανάθεση σταθεράς (immediate) σε καταχωρητή\n",
    "H μορφή αυτής της εντολής είναι η ακόλουθη:\n",
    "\n",
    "`Rdst <- Immediate`\n",
    "\n",
    "όπου:\n",
    "\n",
    "* `Rdst`: καταχωρητής προορισμού αποτελέσματος (3 bits)\n",
    "* `Immediate`: σταθερά 10 bits\n",
    "\n",
    "Η κωδικοποίηση της εντολής αυτής έχει ως εξής:\n",
    "\n",
    "| `bits 15-13` | `bits 12-3` | `bits 2-0` |\n",
    "| --- | --- | --- |\n",
    "| `001` | `Immediate` | `Rdst` |\n",
    "\n",
    "**Προσοχή:** Το μήκος της σταθεράς immediate είναι 10 bits, οπότε πριν την αποθήκευση στον `Rdst` θα πρέπει να επεκταθεί στα 16 bits (εύρος καταχωρητών). Η επέκταση γίνεται λαμβάνοντας υπόψη το πρόσημο (bit 9) της σταθεράς για να μπορούμε να χρησιμοποιήσουμε και αρνητικούς αριθμούς (*ο κώδικας για την επέκταση προσήμου δίνεται*).\n",
    "\n",
    "\n",
    "### Ζητούμενο\n",
    "Το κύκλωμα αποκωδικοποίησης (module `DecodeUnit`) θα δέχεται ως είσοδο τα bits κάθε εντολής (είσοδος `instruction`, εύρος 16 bits) και θα παράγει τα σήματα ελέγχου του module `DataPath`, δηλαδή τα εξής:\n",
    "* `im`, εύρος 16 bits\n",
    "* `sel`, εύρος 2 bits\n",
    "* `sub`, εύρος 1 bit\n",
    "* `alu_a_sel`, εύρος 1 bit\n",
    "* `read_sel_a`, εύρος 3 bits\n",
    "* `read_sel_b`, εύρος 3 bits\n",
    "* `write_sel`, εύρος 3 bits\n",
    "\n",
    "Στο επόμενο κελί κάποια από τα ζητούμενα έχουν ήδη δοθεί ως υπόδειγμα. Συμπληρώστε τα σημεία που λείπουν: "
   ]
  },
  {
   "cell_type": "code",
   "execution_count": null,
   "id": "fe086bf8",
   "metadata": {},
   "outputs": [],
   "source": [
    "class DecodeUnit extends Module {\n",
    "  val io = IO(new Bundle {\n",
    "    // input  \n",
    "    val instruction = Input(UInt(16.W))\n",
    "    // outputs  \n",
    "    val im = Output(UInt(16.W))\n",
    "    val sel = Output(UInt(2.W))\n",
    "    val sub = Output(UInt(1.W))\n",
    "    var alu_a_sel = Output(UInt(1.W))\n",
    "    val read_sel_a = Output(UInt(3.W))\n",
    "    val read_sel_b = Output(UInt(3.W))\n",
    "    val write_sel = Output(UInt(3.W))\n",
    "  })\n",
    "    \n",
    "  // output default values\n",
    "  io.write_sel := 0.U\n",
    "  io.read_sel_a := io.instruction(8,6)\n",
    "  io.read_sel_b := io.instruction(5,3)\n",
    "  io.alu_a_sel := 1.U\n",
    "  io.im := 0.U\n",
    "  io.sel := 0.U\n",
    "  io.sub := 0.U\n",
    "    \n",
    "  // decoding of instructions\n",
    "  val instr_type = io.instruction(15,13)\n",
    "  \n",
    "  switch(instr_type) {\n",
    "    is(\"b000\".U) {  // logic-arithmetic\n",
    "      io.sel := io.instruction(10,9)\n",
    "      io.sub := // ..συμπληρώστε..\n",
    "      io.write_sel := // ..συμπληρώστε..  \n",
    "    }\n",
    "    is(\"b001\".U) {  // load immediate\n",
    "      io.im := io.instruction(12,3).asSInt.pad(16).asUInt  // sign-extend to 16 bits\n",
    "      \n",
    "      // ..συμπληρώστε κατάλληλα δίνοντας τιμές στα σήματα io.alu_a_sel, io.read_sel_b, io.sel και io.write_sel..\n",
    "        \n",
    "    }  \n",
    "  }  \n",
    "}"
   ]
  },
  {
   "cell_type": "code",
   "execution_count": null,
   "id": "a67f6861",
   "metadata": {
    "scrolled": true
   },
   "outputs": [],
   "source": [
    "test(new DecodeUnit) { c =>\n",
    "  // test logic-arithmetic instr\n",
    "  c.io.instruction.poke(\"b0000011001010011\".U)  // r3 = r1 + r2\n",
    "  c.io.alu_a_sel.expect(1.U)\n",
    "  c.io.read_sel_a.expect(1.U)\n",
    "  c.io.read_sel_b.expect(2.U)\n",
    "  c.io.sel.expect(\"b11\".U)\n",
    "  c.io.sub.expect(0.U)  \n",
    "  c.io.write_sel.expect(3.U)    \n",
    "  // test load immediate instr  \n",
    "  c.io.instruction.poke(\"b0010000100001001\".U)  // r1 = 33\n",
    "  c.io.im.expect(\"b0000000000100001\".U)\n",
    "  c.io.alu_a_sel.expect(0.U)\n",
    "  c.io.read_sel_b.expect(0.U)\n",
    "  c.io.sel.expect(\"b01\".U)\n",
    "  c.io.write_sel.expect(1.U)\n",
    "  // test sign extension in load immediate instr  \n",
    "  c.io.instruction.poke(\"b0011111011110010\".U)  // r2 = -34\n",
    "  c.io.im.expect(\"b1111111111011110\".U)\n",
    "}\n",
    "println(\"SUCCESS!!\")"
   ]
  },
  {
   "cell_type": "markdown",
   "id": "b3b780d9",
   "metadata": {},
   "source": [
    "## Προαπαιτούμενα για την επόμενη άσκηση\n",
    "Για τη συνέχεια θα χρειαστείτε:\n",
    "* Το module `DataPath` ([εργαστήριο 8](https://nbviewer.org/urls/mixstef.github.io/courses/comparch/lab8.ipynb)) και τα submodules αυτού, `Alu` και `Registerfile`.\n",
    "* Το module `FetchUnit` ([εργαστήριο 9](https://nbviewer.org/urls/mixstef.github.io/courses/comparch/lab9.ipynb)) και το submodule αυτού, `InstructionMemory`.\n",
    "\n",
    "Αντιγράψτε το κώδικά σας για τα modules αυτά στα επόμενα κελιά:"
   ]
  },
  {
   "cell_type": "code",
   "execution_count": null,
   "id": "4c2a0c91",
   "metadata": {},
   "outputs": [],
   "source": [
    "class RegisterFile(register_width: Int, register_number: Int) extends Module {\n",
    "  \n",
    "  // ..συμπληρώστε (από προηγούμενο εργαστήριο)..\n",
    "    \n",
    "}"
   ]
  },
  {
   "cell_type": "code",
   "execution_count": null,
   "id": "9cdd844d",
   "metadata": {},
   "outputs": [],
   "source": [
    "class Alu(n: Int) extends Module {\n",
    "    \n",
    "  // ..συμπληρώστε (από προηγούμενο εργαστήριο)..\n",
    "}"
   ]
  },
  {
   "cell_type": "code",
   "execution_count": null,
   "id": "0311560b",
   "metadata": {},
   "outputs": [],
   "source": [
    "class DataPath(word_width: Int, register_number: Int) extends Module {\n",
    "    \n",
    "  // ..συμπληρώστε (από προηγούμενο εργαστήριο)..\n",
    "    \n",
    "}"
   ]
  },
  {
   "cell_type": "code",
   "execution_count": null,
   "id": "9777111b",
   "metadata": {},
   "outputs": [],
   "source": [
    "class InstructionMemory(addr_width: Int, instr_width: Int, content: Seq[UInt]) extends Module {\n",
    "    \n",
    "  // ..συμπληρώστε (από προηγούμενο εργαστήριο)..\n",
    "    \n",
    "}"
   ]
  },
  {
   "cell_type": "code",
   "execution_count": null,
   "id": "e63babe7",
   "metadata": {},
   "outputs": [],
   "source": [
    "class FetchUnit(addr_width: Int, instr_width: Int, content: Seq[UInt]) extends Module {\n",
    "    \n",
    "  // ..συμπληρώστε (από προηγούμενο εργαστήριο)..\n",
    "    \n",
    "}"
   ]
  },
  {
   "cell_type": "markdown",
   "id": "84fdd0ce",
   "metadata": {},
   "source": [
    "## Άσκηση 2: η πρώτη μορφή της ΚΜΕ\n",
    "Ζητούμενο είναι ο συνδυασμός των modules `FetchUnit`, `DecodeUnit` και `Datapath` για την κατασκευή της 1ης μορφής μιας απλής ΚΜΕ (θα επεκταθεί σε επόμενα εργαστήρια) σε νέο module με ονομασία `Cpu`.\n",
    "\n",
    "Στο νέο module η μόνη παράμετρος εισόδου είναι η ακολουθία `instructions` που θα παρέχει τα περιεχόμενα της μνήμης εντολών. Τα υπόλοιπα χαρακτηριστικά της ΚΜΕ είναι σταθερά ορισμένα (λόγω του module `DecodeUnit`):\n",
    "\n",
    "* Το εύρος λέξης είναι 16 bits, τό ίδιο και το εύρος του program counter.\n",
    "* Υπάρχουν 8 καταχωρητές γενικού σκοπού.\n",
    "* Κάθε εντολή είναι 16 bits.\n",
    "\n",
    "Συμπληρώστε τα σημεία που λείπουν στο επόμενο κελί, συνδέοντας μεταξύ τους τα modules `FetchUnit`, `DecodeUnit` και `Datapath` (τα σήματα δηλαδή με το ίδιο όνομα):"
   ]
  },
  {
   "cell_type": "code",
   "execution_count": null,
   "id": "c9399b2a",
   "metadata": {},
   "outputs": [],
   "source": [
    "class Cpu(instructions: Seq[UInt]) extends Module {\n",
    "  val io = IO(new Bundle {\n",
    "    // no inputs/outputs\n",
    "      \n",
    "    // output for debugging\n",
    "    val results = Output(UInt(16.W))\n",
    "      \n",
    "  })\n",
    "  \n",
    "  val fUnit = Module(new FetchUnit(16,16,instructions))\n",
    "  val dUnit = Module(new DecodeUnit)\n",
    "  val dPath = Module(new DataPath(16,8))\n",
    "  \n",
    "  // these signals will be defined later\n",
    "  fUnit.io.pc_sel := 0.U\n",
    "  fUnit.io.branch_pc := 0.U\n",
    "    \n",
    "  // connect fetched instruction to decoder\n",
    "    \n",
    "  // ..συνδέστε το σήμα instruction του fetch unit με το ομώνυμο του decode unit..   \n",
    "  \n",
    "    \n",
    "  // connect decoded output signals to datapath input counterparts\n",
    "    \n",
    "  // ..συνδέστε τα σήματα im, alu_a_sel, read_sel_a, read_sel_b, write_sel, sel και sub\n",
    "  // του decode unit με τα ομώνυμα του datapath..   \n",
    "    \n",
    "  // connect debugging output\n",
    "  io.results := dPath.io.results  \n",
    "}"
   ]
  },
  {
   "cell_type": "markdown",
   "id": "a1501c08",
   "metadata": {},
   "source": [
    "### Έλεγχος\n",
    "Το παρακάτω κελί περιέχει τον κώδικα για την εκτέλεση 3 εντολών στην απλή ΚΜΕ που σχεδιάσατε. Παρατηρήστε ότι η 1η εντολή εκτελείται στην αρχή, *πριν το πρώτο βήμα ρολογιού*. Έτσι χρειάζονται μόνο 2 βήματα ρολογιού (`c.clock.step()`) για να ολοκληρωθούν και οι 3 εντολές.\n",
    "\n",
    "Εάν τα προηγούμενα modules που φτιάξατε είναι λειτουργικά ορθά, ο επόμενος έλεγχος θα πρέπει να είναι επιτυχής:"
   ]
  },
  {
   "cell_type": "code",
   "execution_count": null,
   "id": "062cd1fb",
   "metadata": {},
   "outputs": [],
   "source": [
    "val instructions = List(\"b0010000100001001\".U,  // r1 = 33\n",
    "                        \"b0011111011110010\".U,  // r2 = -34\n",
    "                        \"b0000011001010011\".U,  // r3 = r1 + r2\n",
    "                       )\n",
    "test(new Cpu(instructions)) { c =>\n",
    "  for (i <- 0 until instructions.length-1) { // nth instruction executed after clock n-1\n",
    "    c.clock.step()\n",
    "  }\n",
    "  c.io.results.expect(\"b1111111111111111\".U) // 33 + (-34) = -1  \n",
    "}\n",
    "println(\"SUCCESS!!\")"
   ]
  },
  {
   "cell_type": "markdown",
   "id": "990b6797",
   "metadata": {},
   "source": [
    "## Ανεβάστε τη λύση σας στο opencourses\n",
    "Ανεβάστε το τελικό σας notebook στο opencourses (**Εργασία 3**) έως και τη **Δευτέρα 19/12**.\n",
    "\n",
    "*(Ίσως χρειαστεί να κάνετε zip το αρχείο ipynb για να γίνει αποδεκτό από το σύστημα)*\n"
   ]
  }
 ],
 "metadata": {
  "kernelspec": {
   "display_name": "Scala",
   "language": "scala",
   "name": "scala"
  },
  "language_info": {
   "codemirror_mode": "text/x-scala",
   "file_extension": ".scala",
   "mimetype": "text/x-scala",
   "name": "scala",
   "nbconvert_exporter": "script",
   "version": "2.12.10"
  }
 },
 "nbformat": 4,
 "nbformat_minor": 5
}
