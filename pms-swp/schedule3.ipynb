{
 "cells": [
  {
   "cell_type": "markdown",
   "metadata": {
    "deletable": true,
    "editable": true
   },
   "source": [
    "# Γράφοι τριάδων και URIs\n",
    "\n",
    "Συνέχεια της προηγούμενης άσκησης. Θα πρέπει να έχετε ήδη έτοιμο το csv με το ωρολόγιο πρόγραμμα σε μορφή τριάδων (τρεις στήλες, χωρίς επικεφαλίδες) με **επισημείωση τύπου (blank nodes, entities, literals)**.\n",
    "\n",
    "\n",
    "\n",
    "## 1. Φορτώστε το csv σε μια λίστα\n",
    "Τώρα πια πρέπει να ξέρετε πώς να το κάνετε. Συμπληρώστε στο επόμενο κελί.\n"
   ]
  },
  {
   "cell_type": "code",
   "execution_count": 1,
   "metadata": {
    "collapsed": false,
    "deletable": true,
    "editable": true
   },
   "outputs": [],
   "source": [
    "# φορτώστε εδώ το csv σας σε μια λίστα\n"
   ]
  },
  {
   "cell_type": "markdown",
   "metadata": {
    "deletable": true,
    "editable": true
   },
   "source": [
    "## 2. Αντικαταστήστε τους μη επιτρεπόμενους χαρακτήρες στα URIs\n",
    "\n",
    "Είναι φανερό ότι τα αναγνωριστικά ονόματα των **οντοτήτων** της λίστας πρέπει να μετατραπούν σε **URIs**.\n",
    "\n",
    "Δημιουργήστε μια καινούργια λίστα τριάδων, έχοντας αντικαταστήσει όλους τους μη επιτρεπόμενους χαρακτήρες στα ονόματα των **οντοτήτων** με τη βοήθεια της Python. Χρησιμοποιήστε τη συνάρτηση `uri_quote` από το επόμενο κελί.\n",
    "\n",
    "**Υπενθύμιση:** δεν αντιπροσωπεύουν όλα τα μέρη των τριάδων οντότητες (χρησιμοποιήστε την επισημείωση).\n",
    "\n",
    "* Το υποκείμενο (πρώτο μέρος κάθε τριάδας, id Διάλεξης) είναι ανώνυμος κόμβος\n",
    "* Το κατηγόρημα είναι πάντα URI\n",
    "* Τα αντικείμενα των σχέσεων Ημέρα, Ωρα Έναρξης/Λήξης, Εξάμηνο είναι απλές τιμές (literals)\n",
    "\n",
    "\n",
    "Σημείωση: Μην χρησιμοποιήστε τη συνάρτηση `urllib.parse.quote` της Python3: δεν είναι κατάλληλη για URIs! "
   ]
  },
  {
   "cell_type": "code",
   "execution_count": 3,
   "metadata": {
    "collapsed": false,
    "deletable": true,
    "editable": true
   },
   "outputs": [],
   "source": [
    "# μην αλλάξετε το κελί αυτό, απλώς εκτελέστε το!\n",
    "import re\n",
    "\n",
    "rexp = re.compile(\"[:/\\\\?#\\\\[\\\\]@!\\\\$&'\\\\(\\\\)\\\\*\\\\+,;=< >\\\" \\\\{\\\\}\\\\|\\\\\\\\^`]\")\n",
    "\n",
    "def q_f(m):\n",
    "    return '%{:02X}'.format(ord(m.group(0)))\n",
    "\n",
    "def uri_quote(s):\n",
    "    return rexp.sub(q_f,s)"
   ]
  },
  {
   "cell_type": "code",
   "execution_count": 1,
   "metadata": {
    "collapsed": false,
    "deletable": true,
    "editable": true
   },
   "outputs": [],
   "source": [
    "# η μετατροπή σας εδώ, φτιάξτε μια νέα λίστα\n",
    "\n",
    "# τυπώστε τη νέα λίστα\n"
   ]
  },
  {
   "cell_type": "markdown",
   "metadata": {
    "deletable": true,
    "editable": true
   },
   "source": [
    "## 3. Ολοκληρώστε τη μετατροπή σε URIs\n",
    "\n",
    "Στο μέρος (2) προετοιμάσατε τα ονόματά σας για να μετατραπούν σε URIs. Ολοκληρώστε εδώ τη μετατροπή σε πρότυπα URIs. Φτιάξτε μια νέα λίστα:\n",
    "\n",
    "* Τα URIs των κατηγορημάτων (p) θα έχουν ως πρόθεμα τον χώρο ονομάτων\n",
    "  \n",
    "  `http://dilab77.ionio.gr/swp/you/vocab#`\n",
    "  \n",
    "  όπου `you` πρέπει να είναι το username που έχετε στο JupyterHub.\n",
    "  \n",
    "  Σημ: εδώ φτιάχνετε το δικό σας **λεξιλόγιο**. Σε πραγματικές συνθήκες αυτό δεν συνιστάται!\n",
    "  \n",
    "* Τα URIs των αντικειμένων (προσοχή! όχι τα literals) θα έχουν το πρόθεμα\n",
    "\n",
    "  `http://dilab77.ionio.gr/swp/you/resource/`\n",
    "\n",
    "  όπου `you` πρέπει πάλι να είναι το username που έχετε στο JupyterHub.\n",
    "\n",
    "**Προσοχή:** Τώρα δεν χρειάζεστε πλέον την επισημείωση των οντοτήτων! **Αφαιρέστε κατά τη μετατροπή το πρόθεμα `@:`**."
   ]
  },
  {
   "cell_type": "code",
   "execution_count": 3,
   "metadata": {
    "collapsed": false,
    "deletable": true,
    "editable": true
   },
   "outputs": [],
   "source": [
    "# η μετατροπή σας εδώ\n",
    "\n",
    "# τυπώστε τη λίστα που προκύπτει\n"
   ]
  },
  {
   "cell_type": "markdown",
   "metadata": {
    "deletable": true,
    "editable": true
   },
   "source": [
    "# 4. Τι περιέχουν οι δύο χώροι ονομάτων;\n",
    "Χρησιμοποιώντας τεχνικές που έχετε ήδη μάθει (χρήση sets) τυπώστε τα URIs που περιέχονται στους δύο χώρους ονομάτων που χρησιμοποιείτε."
   ]
  },
  {
   "cell_type": "code",
   "execution_count": 4,
   "metadata": {
    "collapsed": false,
    "deletable": true,
    "editable": true
   },
   "outputs": [],
   "source": [
    "resources = set()\n",
    "vocabulary = set()\n",
    "\n"
   ]
  },
  {
   "cell_type": "markdown",
   "metadata": {
    "deletable": true,
    "editable": true
   },
   "source": [
    "## 5. Αποθηκεύστε τις νέες τριάδες.\n",
    "\n",
    "Αποθηκεύστε τις τελικές τριάδες σε νέο csv. \n",
    "\n",
    "*Πρέπει να ξέρετε πώς θα το κάνετε. Δείτε τις λύσεις των προηγούμενων ασκήσεων.*\n",
    "\n",
    "**Θυμηθείτε:** δεν θέλουμε επικεφαλίδες στο csv αυτό!\n"
   ]
  },
  {
   "cell_type": "code",
   "execution_count": 5,
   "metadata": {
    "collapsed": false,
    "deletable": true,
    "editable": true
   },
   "outputs": [],
   "source": [
    "# αποθηκεύστε την τελική λίστα εδώ"
   ]
  }
 ],
 "metadata": {
  "kernelspec": {
   "display_name": "Python 3",
   "language": "python",
   "name": "python3"
  },
  "language_info": {
   "codemirror_mode": {
    "name": "ipython",
    "version": 3
   },
   "file_extension": ".py",
   "mimetype": "text/x-python",
   "name": "python",
   "nbconvert_exporter": "python",
   "pygments_lexer": "ipython3",
   "version": "3.5.2"
  }
 },
 "nbformat": 4,
 "nbformat_minor": 0
}
