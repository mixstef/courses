{
 "cells": [
  {
   "cell_type": "markdown",
   "id": "0529654b",
   "metadata": {},
   "source": [
    "# Εργαστήριο 12\n",
    "Όπως και στα προηγούμενα εργαστήρια συνεχίζουμε στο περιβάλλον του [online chisel bootcamp](https://mybinder.org/v2/gh/freechipsproject/chisel-bootcamp/master).\n",
    "\n",
    "Πριν ξεκινήσετε, εκτελέστε τα επόμενα 2 κελιά:"
   ]
  },
  {
   "cell_type": "code",
   "execution_count": null,
   "id": "7068aa27-1cce-40f4-a0da-0fa555842407",
   "metadata": {
    "scrolled": true
   },
   "outputs": [],
   "source": [
    "val path = System.getProperty(\"user.dir\") + \"/source/load-ivy.sc\"\n",
    "interp.load.module(ammonite.ops.Path(java.nio.file.FileSystems.getDefault().getPath(path)))"
   ]
  },
  {
   "cell_type": "code",
   "execution_count": null,
   "id": "66ca42e1-fb27-4865-963f-b13efa3a3906",
   "metadata": {
    "scrolled": true
   },
   "outputs": [],
   "source": [
    "import chisel3._\n",
    "import chisel3.util._\n",
    "import chisel3.tester._\n",
    "import chisel3.tester.RawTester.test\n",
    "import dotvisualizer._"
   ]
  },
  {
   "cell_type": "markdown",
   "id": "7e821a29",
   "metadata": {},
   "source": [
    "## Εντολές ανάγνωσης/εγγραφής (load/store) στη μνήμη δεδομένων\n",
    "Στο εργαστήριο αυτό (και το επόμενο) θα κάνετε προσθήκες στα υπάρχοντα modules για να υλοποιήσετε τις εντολές **ανάγνωσης (load)** και **εγγραφής (store)** μιας λέξης στη μνήμη δεδομένων (data memory).\n",
    "\n",
    "Η υλοποίηση θα γίνει σε 2 μέρη:\n",
    "\n",
    "* Στο εργαστήριο αυτό θα τροποποιήσετε τα modules `FetchUnit` και `DataPath` για να προσθέσετε τη **μνήμη δεδομένων** στο σύστημα.\n",
    "\n",
    "* Στο επόμενο εργαστήριο θα προσθέσετε λειτουργικότητα στα modules `DecodeUnit` και `Cpu` για την **εκτέλεση των εντολών load και store**.\n",
    "\n",
    "Στις επόμενες ενότητες περιγράφεται η κωδικοποίηση και η αναμενόμενη λειτουργία των εντολών load και store.\n",
    "\n",
    "### Εντολή load (ανάγνωση από τη μνήμη δεδομένων)\n",
    "\n",
    "`load Dst,Rsrc2,Offset`\n",
    "\n",
    "Η εντολή αυτή θα έχει την εξής λειτουργικότητα:\n",
    "\n",
    "`Dst <- memory[address = Rsrc2 + Offset]`\n",
    "\n",
    "όπου είναι:\n",
    "\n",
    "* `Dst`: καταχωρητής προορισμού (3 bits)\n",
    "* `Rsrc2`: καταχωρητής εισόδου δεδομένων 2 (3 bits)\n",
    "* `Offset`: σταθερά (ακέραιος με πρόσημο, 7 bits), προστίθεται στο περιεχόμενο του Rsrc2 για το σχηματισμό της διεύθυνσης μνήμης για ανάγνωση\n",
    "\n",
    "Η κωδικοποίηση της εντολής αυτής έχει ως εξής:\n",
    "\n",
    "| `bits 15-13` | `bits 12-6` | `bits 5-3` | `bits 2-0` |\n",
    "| --- | --- | --- | --- |\n",
    "| `011` | `Offset[6:0]` | `Rsrc2` | `Dst` |\n",
    "\n",
    "\n",
    "### Εντολή store (εγγραφή στη μνήμη δεδομένων)\n",
    "\n",
    "`store Rsrc1,Rsrc2,Offset`\n",
    "\n",
    "Η εντολή αυτή θα έχει την εξής λειτουργικότητα:\n",
    "\n",
    "`memory[address = Rsrc2 + Offset] <- Rsrc1`\n",
    "\n",
    "όπου είναι:\n",
    "\n",
    "* `Rsrc1`: καταχωρητής εισόδου δεδομένων 1 (3 bits)\n",
    "* `Rsrc2`: καταχωρητής εισόδου δεδομένων 2 (3 bits)\n",
    "* `Offset`: σταθερά (ακέραιος με πρόσημο, 7 bits), προστίθεται στο περιεχόμενο του Rsrc2 για το σχηματισμό της διεύθυνσης μνήμης για ανάγνωση\n",
    "\n",
    "Η κωδικοποίηση της εντολής αυτής έχει ως εξής:\n",
    "\n",
    "| `bits 15-13` | `bits 12-9` | `bits 8-6` | `bits 5-3` | `bits 2-0` |\n",
    "| --- | --- | --- | --- | --- |\n",
    "| `111` | `Offset[6:3]` | `Rsrc2` | `Rsrc1` | `Offset[2:0]` |\n"
   ]
  },
  {
   "cell_type": "markdown",
   "id": "9bf41459",
   "metadata": {},
   "source": [
    "## Υλοποίηση της μνήμης δεδομένων\n",
    "Για την υλοποίηση της μνήμης δεδομένων θα χρησιμοποιηθεί η δομή `SyncReadMem` της Chisel:\n",
    "\n",
    "~~~scala\n",
    "// παράδειγμα κατασκευής μνήμης με 1024 λέξεις\n",
    "// όπου κάθε λέξη περιέχει μη προσημασμένο αριθμό των 16 bits\n",
    "val mem = SyncReadMem(1024,UInt(16.W))\n",
    "\n",
    "// παράδειγμα ανάγνωσης μιας λέξης από τη διεύθυνση address\n",
    "dataOut := mem.read(address)\n",
    "\n",
    "// παράδειγμα εγγραφής της λέξης dataIn στη διεύθυνση address\n",
    "mem.write(io.address,io.dataIn)\n",
    "~~~\n",
    "\n",
    "Με τη χρήση της `SyncReadMem`, και ανάλογα με την τεχνολογία κατασκευής, η μνήμη που προδιαγράφουμε υλοποιείται συνήθως ως στατική μνήμη (SRAM) μέσα στο τελικό chip. Το ταίριασμα των ζητούμενων χαρακτηριστικών της `SyncReadMem` με εκείνα που πραγματικά προσφέρει η τεχνολογία υλοποίησης είναι σύνθετη διαδικασία, δεν θα την καλύψουμε όμως στο εργαστήριο.\n",
    "\n",
    "### Πολύ σημαντικό: η λειτουργικότητα της SyncReadMem\n",
    "Η μνήμη που σχεδιάζεται με τη βοήθεια της `SyncReadMem` είναι **σύγχρονη**, λειτουργεί δηλαδή σε συγχρονισμό με το **σήμα ρολογιού** (clock) του συστήματος ως εξής:\n",
    "\n",
    "1. Για την **εγγραφή**, πρώτα παρέχουμε τη *διεύθυνση εγγραφής* και τα *δεδομένα εγγραφής*. Στη συνέχεια η εγγραφή εκτελείται **στην έναρξη του επόμενου κύκλου ρολογιού**.\n",
    "\n",
    "2. Για την **ανάγνωση**, πρώτα παρέχουμε τη *διεύθυνση ανάγνωσης*. Στη συνέχεια η ανάγνωση εκτελείται και **στην έναρξη του επόμενου κύκλου ρολογιού** εμφανίζονται στην έξοδο τα *δεδομένα ανάγνωσης*.\n",
    "\n",
    "Το (2) είναι ιδιαίτερα σημαντικό γιατί **προϋποθέτει την εκτέλεση 2 κύκλων ρολογιού για την εντολή ανάγνωσης** (έναν κύκλο για να υπολογίσουμε τη διεύθυνση μνήμης και έναν δεύτερο κύκλο για να πάρουμε τα δεδομένα της ανάγνωσης), σε αντίθεση με όλες τις άλλες εντολές που ολοκληρώνονται σε έναν και μοναδικό κύκλο!\n",
    "\n",
    "### Το module DataMemory\n",
    "Στο επόμενο κελί εμφανίζεται το module `DataMemory` που περικλείει μια μνήμη τύπου `SyncReadMem`. Το μέγεθος της μνήμης σε λέξεις (`word_number`) και το εύρος κάθε λέξης (`word_width`) περιγράφονται παραμετρικά.\n",
    "\n",
    "Το module `DataMemory` έχει τις εξής εισόδους και εξόδους:\n",
    "\n",
    "* `address`: είσοδος εύρους log2Ceil(word_number) bits, η διεύθυνση εγγραφής ή ανάγνωσης.\n",
    "* `dataIn`: είσοδος εύρους word_width bits, εδώ δίνονται τα δεδομένα εγγραφής.\n",
    "* `wrEnable`: είσοδος 1 bit. Εκτελείται εγγραφή αν έχει την τιμή 1.\n",
    "* `dataOut`: έξοδος εύρους word_width bits, εδώ εμφανίζονται τα δεδομένα ανάγνωσης.\n",
    "\n",
    "Η συμπεριφορά της μνήμης όταν γίνεται ταυτόχρονη ανάγνωση και εγγραφή στην ίδια θέση μνήμης είναι *απροσδιόριστη*. Στη σχεδίαση του εργαστηρίου δεν έχουμε ποτέ ταυτόχρονη ανάγνωση και εγγραφή, συνεπώς δεν μας απασχολεί αυτό.\n",
    "\n",
    "**Εκτελέστε** το επόμενο κελί:"
   ]
  },
  {
   "cell_type": "code",
   "execution_count": null,
   "id": "84396310",
   "metadata": {},
   "outputs": [],
   "source": [
    "class DataMemory(word_number: Int,word_width: Int) extends Module {\n",
    "  val io = IO(new Bundle {\n",
    "    val address = Input(UInt(log2Ceil(word_number).W))\n",
    "    val dataIn = Input(UInt(word_width.W))\n",
    "    val wrEnable = Input(UInt(1.W))\n",
    "    val dataOut = Output(UInt(word_width.W))        \n",
    "  })\n",
    "    \n",
    "  val mem = SyncReadMem(word_number,UInt(word_width.W))\n",
    "    \n",
    "  io.dataOut := mem.read(io.address)\n",
    "    \n",
    "  when(io.wrEnable === 1.U) {\n",
    "    mem.write(io.address,io.dataIn)    \n",
    "  }\n",
    "}"
   ]
  },
  {
   "cell_type": "markdown",
   "id": "1bbcba21",
   "metadata": {},
   "source": [
    "## Άσκηση 1: τροποποίηση του module FetchUnit\n",
    "\n",
    "**Αντιγράψτε χωρίς αλλαγές** το module `InstructionMemory` από προηγούμενα εργαστήρια στο επόμενο κελί:"
   ]
  },
  {
   "cell_type": "code",
   "execution_count": null,
   "id": "9777111b",
   "metadata": {},
   "outputs": [],
   "source": [
    "class InstructionMemory(addr_width: Int, instr_width: Int, content: Seq[UInt]) extends Module {\n",
    "\n",
    "  // ..συμπληρώστε..  \n",
    " \n",
    "}"
   ]
  },
  {
   "cell_type": "markdown",
   "id": "8d3ff744",
   "metadata": {},
   "source": [
    "Στο επόμενο κελί **τροποποιήστε**  τον κώδικα του module `FetchUnit` από τα προηγούμενα εργαστήρια, έτσι ώστε να προστεθεί μια είσοδος του 1 bit με όνομα `freeze_pc`. Όταν η είσοδος `freeze_pc` είναι 1 δεν θα ενημερώνεται ο program counter (δεν θα προχωράει στην επόμενη τιμή). Με `freeze_pc` ίσο με 0, το `FetchUnit` θα λειτουργεί «κανονικά» (όπως στα προηγούμενα εργαστήρια).\n",
    "\n",
    "Τι χρειάζεται το `freeze_pc`; Θυμηθείτε ότι έχουμε ως στόχο την προσθήκη μιας εντολής load που θα διαρκεί 2 κύκλους ρολογιού. Στον πρώτο κύκλο θα χρειαστεί να «παγώσουμε» τον pc, έτσι ώστε στον δεύτερο κύκλο να μην περάσουμε ακόμα στην επόμενη εντολή!"
   ]
  },
  {
   "cell_type": "code",
   "execution_count": null,
   "id": "e63babe7",
   "metadata": {},
   "outputs": [],
   "source": [
    "class FetchUnit(addr_width: Int, instr_width: Int, content: Seq[UInt]) extends Module {\n",
    "\n",
    "  // ..συμπληρώστε..  \n",
    " \n",
    "}"
   ]
  },
  {
   "cell_type": "markdown",
   "id": "4dbe2d9e",
   "metadata": {},
   "source": [
    "Δοκιμάστε την ορθή λειτουργία του νέου `FetchUnit`:"
   ]
  },
  {
   "cell_type": "code",
   "execution_count": null,
   "id": "1a27256a",
   "metadata": {},
   "outputs": [],
   "source": [
    "val instructions = Vector(33.U,1256.U,555.U)\n",
    "test(new FetchUnit(8,16,instructions)) { c =>\n",
    "  // δοκιμή με το freeze_pc ανενεργό  \n",
    "  c.io.freeze_pc.poke(0.U)  \n",
    "  // αύξηση pc κατά 1 και έλεγχος αντίστοιχης εξόδου  \n",
    "  c.io.pc_sel.poke(0.U)\n",
    "  for (i <- 0 until instructions.length) {\n",
    "    c.io.instruction.expect(instructions(i))\n",
    "    c.clock.step()  \n",
    "  }\n",
    "  // έλεγχος εξόδου με χρήση του branch pc  \n",
    "  c.io.pc_sel.poke(1.U)\n",
    "  c.io.branch_pc.poke(1.U)  // μεταπήδηση στη θέση 1\n",
    "  c.clock.step()\n",
    "  c.io.instruction.expect(instructions(1))\n",
    "    \n",
    "  // έλεγχος με το freeze_pc ενεργό\n",
    "  c.io.freeze_pc.poke(1.U)\n",
    "  c.clock.step()\n",
    "  c.io.instruction.expect(instructions(1)) // πρέπει να παραμείνει στην προηγούμενη θέση (=1)  \n",
    "}\n",
    "println(\"SUCCESS!!\")"
   ]
  },
  {
   "cell_type": "markdown",
   "id": "200b7f9d",
   "metadata": {},
   "source": [
    "## Άσκηση 2: τροποποίηση του module DataPath\n",
    "\n",
    "**Αντιγράψτε χωρίς αλλαγές** τα modules `RegisterFile` και `Alu` στα επόμενα δύο κελιά:"
   ]
  },
  {
   "cell_type": "code",
   "execution_count": null,
   "id": "4c2a0c91",
   "metadata": {},
   "outputs": [],
   "source": [
    "class RegisterFile(register_number: Int, register_width: Int) extends Module {\n",
    "\n",
    "  // ..συμπληρώστε..  \n",
    " \n",
    "}"
   ]
  },
  {
   "cell_type": "code",
   "execution_count": null,
   "id": "9cdd844d",
   "metadata": {},
   "outputs": [],
   "source": [
    "class Alu(n: Int) extends Module {\n",
    "\n",
    "  // ..συμπληρώστε..  \n",
    " \n",
    "}"
   ]
  },
  {
   "cell_type": "markdown",
   "id": "4fb7875b",
   "metadata": {},
   "source": [
    "Στη συνέχεια, **τροποποιήστε** το module `DataPath` σύμφωνα με το επόμενο σχήμα, εκτελώντας τα βήματα που περιγράφονται αμέσως μετά:\n",
    "\n",
    "![datapath1.png](https://mixstef.github.io/courses/comparch/labimg/datapath2.png)\n",
    "\n",
    "* **Βήμα 1ο**: το module `DataPath` θα έχει και τρίτη παράμετρο `memory_size` που θα περιγράφει το μέγεθος της μνήμης δεδομένων.\n",
    "  ~~~scala\n",
    "  class DataPath(register_number: Int, register_width: Int, memory_size: Int) extends Module {\n",
    "  ~~~\n",
    "\n",
    "* **Βήμα 2ο**: Προσθέσετε δύο νέες εισόδους του 1 bit η καθεμία, `write_en` και `result_sel` (βλ. στο σχήμα).\n",
    "  * `write_en`: αν είναι 1, η μνήμη δεδομένων εκτελεί εγγραφή.\n",
    "  * `result_sel`: επιλογή τελικού αποτελέσματος (0 = από alu, 1 = από μνήμη δεδομένων).\n",
    "  \n",
    "  \n",
    "* **Βήμα 3ο**: Προσθέστε ένα instance του module `DataMemory`\n",
    "  ~~~scala\n",
    "  val dmem = Module(new DataMemory(memory_size,register_width))\n",
    "  ~~~\n",
    "  \n",
    "  \n",
    "* **Βήμα 4ο**: Ορίστε τον κόμβο `out_value` ως εξής:\n",
    "  ~~~scala\n",
    "  val out_value = Wire(UInt())\n",
    "  ~~~\n",
    "  και στη συνέχεια υλοποιήστε τις νέες συνδέσεις (φαίνονται με έντονο μαύρο στο σχήμα). Θυμηθείτε να αλλάξετε τη σύνδεση της εξόδου `io.results` (τώρα παίρνει τιμή από το `out_value`).\n",
    "  \n",
    "  **Σημείωση:** Στη σύνδεση του `dmem.io.address` με το `alu.io.out`, το `dmem.io.address` έχει λιγότερα bits από το `alu.io.out` και η Chisel, **στην παρούσα έκδοση**, θα φροντίσει να συνδέσει μόνο τα αντίστοιχα σήματα που υπάρχουν. Συνεπώς μπορείτε απλώς να γράψετε:\n",
    "    ~~~scala\n",
    "    dmem.io.address := alu.io.out\n",
    "    ~~~\n"
   ]
  },
  {
   "cell_type": "code",
   "execution_count": null,
   "id": "2547c52d",
   "metadata": {},
   "outputs": [],
   "source": [
    "class DataPath(register_number: Int, register_width: Int, memory_size: Int) extends Module {\n",
    "\n",
    "  // ..συμπληρώστε..  \n",
    " \n",
    "}"
   ]
  },
  {
   "cell_type": "markdown",
   "id": "470cea90",
   "metadata": {},
   "source": [
    "Δοκιμάστε τη λειτουργία του νέου module `DataPath` εκτελώντας το επόμενο κελί:"
   ]
  },
  {
   "cell_type": "code",
   "execution_count": null,
   "id": "8b0e25f9",
   "metadata": {
    "scrolled": true
   },
   "outputs": [],
   "source": [
    "test(new DataPath(8,16,1024)) { c =>\n",
    "  // σήματα εισόδου για τις δοκιμαστικές \"λειτουργίες\" και τις αναμενόμενες εξόδους \"results\" και \"zero\"\n",
    "  val cmdbits = List(Map(\"READ_SEL_A\" -> 0.U,    // λειτουργία: r1 <- 33\n",
    "                         \"READ_SEL_B\" -> 0.U,\n",
    "                         \"ALU_A_SEL\" -> 0.U,\n",
    "                         \"IM\" -> 33.U,\n",
    "                         \"SEL\" -> \"b01\".U,\n",
    "                         \"SUB\" -> 0.U,\n",
    "                         \"WRITE_SEL\" -> 1.U,\n",
    "                         \"WRITE_EN\" -> 0.U,\n",
    "                         \"RESULT_SEL\" -> 0.U,\n",
    "                         \"zero\" -> 0.U,\n",
    "                         \"results\" -> 33.U),\n",
    "                     \n",
    "                     Map(\"READ_SEL_A\" -> 1.U,    // λειτουργία: r0 <- r1 - r1\n",
    "                         \"READ_SEL_B\" -> 1.U,\n",
    "                         \"ALU_A_SEL\" -> 1.U,\n",
    "                         \"IM\" -> 0.U,\n",
    "                         \"SEL\" -> \"b11\".U,\n",
    "                         \"SUB\" -> 1.U,\n",
    "                         \"WRITE_SEL\" -> 0.U,\n",
    "                         \"WRITE_EN\" -> 0.U,\n",
    "                         \"RESULT_SEL\" -> 0.U,\n",
    "                         \"zero\" -> 1.U,\n",
    "                         \"results\" -> 0.U),\n",
    "                     \n",
    "                     Map(\"READ_SEL_A\" -> 1.U,    // λειτουργία: store mem[r0+1] <- r1 \n",
    "                         \"READ_SEL_B\" -> 0.U,\n",
    "                         \"ALU_A_SEL\" -> 0.U,\n",
    "                         \"IM\" -> 1.U,\n",
    "                         \"SEL\" -> \"b11\".U,\n",
    "                         \"SUB\" -> 0.U,\n",
    "                         \"WRITE_SEL\" -> 0.U,\n",
    "                         \"WRITE_EN\" -> 1.U,\n",
    "                         \"RESULT_SEL\" -> 0.U,\n",
    "                         \"zero\" -> 0.U,\n",
    "                         \"results\" -> 1.U),  // results = διεύθυνση store (= r0+1 = 1)\n",
    "                     \n",
    "                     Map(\"READ_SEL_A\" -> 1.U,    // λειτουργία: load r2 <- mem[r0+1] (1ος κύκλος)\n",
    "                         \"READ_SEL_B\" -> 0.U,\n",
    "                         \"ALU_A_SEL\" -> 0.U,\n",
    "                         \"IM\" -> 1.U,\n",
    "                         \"SEL\" -> \"b11\".U,\n",
    "                         \"SUB\" -> 0.U,\n",
    "                         \"WRITE_SEL\" -> 0.U,\n",
    "                         \"WRITE_EN\" -> 0.U,\n",
    "                         \"RESULT_SEL\" -> 0.U,\n",
    "                         \"zero\" -> 0.U,\n",
    "                         \"results\" -> 1.U),   // results = διεύθυνση load (= r0+1 = 1)\n",
    "                     \n",
    "                     Map(\"READ_SEL_A\" -> 0.U,    // λειτουργία: load r2 <- mem[r0+1] (2ος κύκλος)\n",
    "                         \"READ_SEL_B\" -> 0.U,\n",
    "                         \"ALU_A_SEL\" -> 1.U,\n",
    "                         \"IM\" -> 0.U,\n",
    "                         \"SEL\" -> \"b00\".U,\n",
    "                         \"SUB\" -> 0.U,\n",
    "                         \"WRITE_SEL\" -> 0.U,\n",
    "                         \"WRITE_EN\" -> 0.U,\n",
    "                         \"RESULT_SEL\" -> 1.U,  \n",
    "                         \"zero\" -> 1.U,       // το zero παράγεται από το module alu, όχι από τη μνήμη\n",
    "                         \"results\" -> 33.U) \n",
    "                    )\n",
    "      \n",
    "  for ((bits,i) <- cmdbits.zipWithIndex) {\n",
    "    c.io.read_sel_a.poke(bits(\"READ_SEL_A\"))\n",
    "    c.io.read_sel_b.poke(bits(\"READ_SEL_B\"))\n",
    "    c.io.alu_a_sel.poke(bits(\"ALU_A_SEL\"))\n",
    "    c.io.im.poke(bits(\"IM\"))\n",
    "    c.io.sel.poke(bits(\"SEL\"))\n",
    "    c.io.sub.poke(bits(\"SUB\"))\n",
    "    c.io.write_sel.poke(bits(\"WRITE_SEL\"))\n",
    "    c.io.write_en.poke(bits(\"WRITE_EN\"))\n",
    "    c.io.result_sel.poke(bits(\"RESULT_SEL\"))\n",
    "    println(s\"testing cycle $i, expecting zero=${bits(\"zero\")},results=${bits(\"results\")}\")  \n",
    "    c.io.zero.expect(bits(\"zero\"))\n",
    "    c.io.results.expect(bits(\"results\"))\n",
    "    c.clock.step()\n",
    "  }  \n",
    "}\n",
    "println(\"SUCCESS!!\")"
   ]
  },
  {
   "cell_type": "markdown",
   "id": "f6297313",
   "metadata": {},
   "source": [
    "## Τελειώνοντας...\n",
    "Κατεβάσετε και πάρτε μαζί σας το σημερινό notebook, **θα το χρειαστείτε στο επόμενο εργαστήριο**.\n",
    "\n",
    "**Δεν ανήκει στα παραδοτέα του εργαστηρίου.**"
   ]
  }
 ],
 "metadata": {
  "kernelspec": {
   "display_name": "Scala",
   "language": "scala",
   "name": "scala"
  },
  "language_info": {
   "codemirror_mode": "text/x-scala",
   "file_extension": ".scala",
   "mimetype": "text/x-scala",
   "name": "scala",
   "nbconvert_exporter": "script",
   "version": "2.12.10"
  }
 },
 "nbformat": 4,
 "nbformat_minor": 5
}
