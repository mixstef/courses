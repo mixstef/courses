{
 "cells": [
  {
   "cell_type": "markdown",
   "metadata": {},
   "source": [
    "# Δοκιμάζοντας την SPARQL offline\n",
    "\n",
    "Στην άσκηση αυτή θα δοκιμάσετε τη **βασική χρήση** της SPARQL (ερώτημα **SELECT**) με τα δεδομένα του ωρολογίου προγράμματος που έχετε ήδη (αρχείο ntriples).\n",
    "\n",
    "\n",
    "## 1. Το εργαλείο arq\n",
    "Θα χρησιμοποιήσετε το εξωτερικό εργαλείο arq (μέρος της σουίτας [Apache Jena](https://jena.apache.org/)) που είναι ήδη εγκατεστημένο στο σύστημα του εργαστηρίου.\n",
    "\n",
    "Η διαδικασία για κάθε ένα από τα ερωτήματα που ακολουθούν είναι η εξής:\n",
    "\n",
    "1. Γράψτε πρώτα το ερώτημα SPARQL σε ένα αρχείο κειμένου (χρησιμοποιήστε την προτεινόμενη κατάληξη `.rq`), χρησιμοποιώντας τον editor του συστήματος.\n",
    "\n",
    "2. Τυπώστε στο notebook τα περιεχόμενα του αρχείου sparql:\n",
    "\n",
    "    ```\n",
    "    !cat your-sparql-file.rq\n",
    "    ```\n",
    "\n",
    "3. Δώστε το ερώτημα και τα δεδομένα στο εργαλείο arq:\n",
    "\n",
    "    ```\n",
    "    !arq --query your-sparql-file.rq --data your-data-triples-file\n",
    "    ```"
   ]
  },
  {
   "cell_type": "markdown",
   "metadata": {},
   "source": [
    "## 2. Απλά ερωτήματα\n",
    "Πριν ξεκινήσετε, εκτελέστε το επόμενο για να δείτε τον χρόνο αρχικοποίησης του arq."
   ]
  },
  {
   "cell_type": "code",
   "execution_count": 1,
   "metadata": {
    "collapsed": false
   },
   "outputs": [
    {
     "name": "stdout",
     "output_type": "stream",
     "text": [
      "Jena:       VERSION: 2.13.0\r\n",
      "Jena:       BUILD_DATE: 2015-03-08T09:49:20+0000\r\n",
      "ARQ:        VERSION: 2.13.0\r\n",
      "ARQ:        BUILD_DATE: 2015-03-08T09:49:20+0000\r\n",
      "RIOT:       VERSION: 2.13.0\r\n",
      "RIOT:       BUILD_DATE: 2015-03-08T09:49:20+0000\r\n"
     ]
    }
   ],
   "source": [
    "!arq --version"
   ]
  },
  {
   "cell_type": "markdown",
   "metadata": {},
   "source": [
    "### 2.1 Ποια μαθήματα γίνονται την Τρίτη;\n",
    "\n",
    "Ρωτήστε μέσω του arq. Θυμηθείτε ότι θέλουμε τα URIs των μαθημάτων!"
   ]
  },
  {
   "cell_type": "code",
   "execution_count": 1,
   "metadata": {
    "collapsed": false
   },
   "outputs": [],
   "source": [
    "#!cat your-sparql-file.rq"
   ]
  },
  {
   "cell_type": "code",
   "execution_count": 12,
   "metadata": {
    "collapsed": false,
    "scrolled": true
   },
   "outputs": [],
   "source": [
    "#!arq --query your-sparql-file.rq --data your-data-triples-file"
   ]
  },
  {
   "cell_type": "markdown",
   "metadata": {},
   "source": [
    "### 2.2 Ποιες οι διαλέξεις την Τρίτη και σε ποιες ώρες;\n",
    "Είναι οι διαλέξεις ταξινομημένες κατά ώρα έναρξης;"
   ]
  },
  {
   "cell_type": "code",
   "execution_count": 2,
   "metadata": {
    "collapsed": false
   },
   "outputs": [],
   "source": [
    "#!cat your-sparql-file.rq"
   ]
  },
  {
   "cell_type": "code",
   "execution_count": 13,
   "metadata": {
    "collapsed": false
   },
   "outputs": [],
   "source": [
    "#!arq --query your-sparql-file.rq --data your-data-triples-file"
   ]
  },
  {
   "cell_type": "markdown",
   "metadata": {},
   "source": [
    "### 2.3 Όπως το προηγούμενο αλλά ταξινομήστε με την ώρα έναρξης!\n",
    "Χρησιμοποιήστε το `ORDER BY`."
   ]
  },
  {
   "cell_type": "code",
   "execution_count": 3,
   "metadata": {
    "collapsed": false
   },
   "outputs": [],
   "source": [
    "#!cat your-sparql-file.rq"
   ]
  },
  {
   "cell_type": "code",
   "execution_count": 14,
   "metadata": {
    "collapsed": false
   },
   "outputs": [],
   "source": [
    "#!arq --query your-sparql-file.rq --data your-data-triples-file"
   ]
  },
  {
   "cell_type": "markdown",
   "metadata": {},
   "source": [
    "### 2.4 Ημέρες που γίνονται μαθήματα\n",
    "Θυμηθήκατε το DISTINCT;"
   ]
  },
  {
   "cell_type": "code",
   "execution_count": 4,
   "metadata": {
    "collapsed": false
   },
   "outputs": [],
   "source": [
    "#!cat your-sparql-file.rq"
   ]
  },
  {
   "cell_type": "code",
   "execution_count": 15,
   "metadata": {
    "collapsed": false
   },
   "outputs": [],
   "source": [
    "#!arq --query your-sparql-file.rq --data your-data-triples-file"
   ]
  },
  {
   "cell_type": "markdown",
   "metadata": {},
   "source": [
    "### 2.5 Ποια τα κατηγορήματα που χρησιμοποιεί το σετ δεδομένων;\n",
    "Μια \"εξερευνητική\" ερώτηση που πολλές φορές κάνουμε σε άγνωστο σετ δεδομένων."
   ]
  },
  {
   "cell_type": "code",
   "execution_count": 5,
   "metadata": {
    "collapsed": false
   },
   "outputs": [],
   "source": [
    "#!cat your-sparql-file.rq"
   ]
  },
  {
   "cell_type": "code",
   "execution_count": 16,
   "metadata": {
    "collapsed": false
   },
   "outputs": [],
   "source": [
    "#!arq --query your-sparql-file.rq --data your-data-triples-file"
   ]
  },
  {
   "cell_type": "markdown",
   "metadata": {},
   "source": [
    "### 2.6 Ποιες οι κλάσεις;\n",
    "Όπως και πριν, \"εξερευνητική\" ερώτηση."
   ]
  },
  {
   "cell_type": "code",
   "execution_count": 6,
   "metadata": {
    "collapsed": false
   },
   "outputs": [],
   "source": [
    "#!cat your-sparql-file.rq"
   ]
  },
  {
   "cell_type": "code",
   "execution_count": 17,
   "metadata": {
    "collapsed": false
   },
   "outputs": [],
   "source": [
    "#!arq --query your-sparql-file.rq --data your-data-triples-file"
   ]
  },
  {
   "cell_type": "markdown",
   "metadata": {},
   "source": [
    "### 2.7 Ποιοι διδάσκοντες ξεκινάνε στις 3 το μεσημέρι και ποιες μέρες;"
   ]
  },
  {
   "cell_type": "code",
   "execution_count": 7,
   "metadata": {
    "collapsed": false
   },
   "outputs": [],
   "source": [
    "#!cat your-sparql-file.rq"
   ]
  },
  {
   "cell_type": "code",
   "execution_count": 18,
   "metadata": {
    "collapsed": false
   },
   "outputs": [],
   "source": [
    "#!arq --query your-sparql-file.rq --data your-data-triples-file"
   ]
  },
  {
   "cell_type": "markdown",
   "metadata": {},
   "source": [
    "### 2.8 Τα δεδομένα κάθε διάλεξης (μάθημα, ημέρα,έναρξη, λήξη, διδάσκων)\n",
    "Με ταξινόμηση κατά μάθημα!"
   ]
  },
  {
   "cell_type": "code",
   "execution_count": 8,
   "metadata": {
    "collapsed": false
   },
   "outputs": [],
   "source": [
    "#!cat your-sparql-file.rq"
   ]
  },
  {
   "cell_type": "code",
   "execution_count": 19,
   "metadata": {
    "collapsed": false
   },
   "outputs": [],
   "source": [
    "#!arq --query your-sparql-file.rq --data your-data-triples-file"
   ]
  },
  {
   "cell_type": "markdown",
   "metadata": {},
   "source": [
    "## 3. Ερωτήματα με τη βοήθεια του FILTER\n",
    "Χρησιμοποιήστε το FILTER στα παρακάτω ερωτήματα SPARQL.\n",
    "\n",
    "### 3.1 Μαθήματα που έχουν διαλέξεις πριν τις 6μμ\n",
    "Η έναρξη πρέπει να είναι πριν τις 6μμ."
   ]
  },
  {
   "cell_type": "code",
   "execution_count": 9,
   "metadata": {
    "collapsed": false
   },
   "outputs": [],
   "source": [
    "#!cat your-sparql-file.rq"
   ]
  },
  {
   "cell_type": "code",
   "execution_count": 20,
   "metadata": {
    "collapsed": false
   },
   "outputs": [],
   "source": [
    "#!arq --query your-sparql-file.rq --data your-data-triples-file"
   ]
  },
  {
   "cell_type": "markdown",
   "metadata": {},
   "source": [
    "### 3.2 Ποιοι διδάσκουν στις 5μμ, ποια μέρα και ποιο μάθημα;\n",
    "Σε διαλέξεις που ξεκινούν πριν/στις τις 5μμ και τελειώνουν μετά τις 5μμ."
   ]
  },
  {
   "cell_type": "code",
   "execution_count": 10,
   "metadata": {
    "collapsed": false
   },
   "outputs": [],
   "source": [
    "#!cat your-sparql-file.rq"
   ]
  },
  {
   "cell_type": "code",
   "execution_count": 21,
   "metadata": {
    "collapsed": false
   },
   "outputs": [],
   "source": [
    "#!arq --query your-sparql-file.rq --data your-data-triples-file"
   ]
  },
  {
   "cell_type": "markdown",
   "metadata": {},
   "source": [
    "### 3.3 Ποιοι διδάσκοντες δεν έχουν διαλέξεις την Τρίτη;"
   ]
  },
  {
   "cell_type": "code",
   "execution_count": 11,
   "metadata": {
    "collapsed": false
   },
   "outputs": [],
   "source": [
    "#!cat your-sparql-file.rq"
   ]
  },
  {
   "cell_type": "code",
   "execution_count": 22,
   "metadata": {
    "collapsed": false
   },
   "outputs": [],
   "source": [
    "#!arq --query your-sparql-file.rq --data your-data-triples-file"
   ]
  }
 ],
 "metadata": {
  "kernelspec": {
   "display_name": "Python 3",
   "language": "python",
   "name": "python3"
  },
  "language_info": {
   "codemirror_mode": {
    "name": "ipython",
    "version": 3
   },
   "file_extension": ".py",
   "mimetype": "text/x-python",
   "name": "python",
   "nbconvert_exporter": "python",
   "pygments_lexer": "ipython3",
   "version": "3.4.4"
  }
 },
 "nbformat": 4,
 "nbformat_minor": 0
}
