{
 "cells": [
  {
   "cell_type": "markdown",
   "id": "2ceefbe1-81dd-4f71-b674-31f7571d52f2",
   "metadata": {
    "tags": []
   },
   "source": [
    "# Εργαστήριο 6\n",
    "Όπως και στα προηγούμενα εργαστήρια συνεχίζουμε στο περιβάλλον του [online chisel bootcamp](https://mybinder.org/v2/gh/freechipsproject/chisel-bootcamp/master).\n",
    "\n",
    "Πριν ξεκινήσετε, εκτελέστε τα επόμενα 2 κελιά:"
   ]
  },
  {
   "cell_type": "code",
   "execution_count": null,
   "id": "ed047637-c0d3-4845-be49-7af190e53efd",
   "metadata": {},
   "outputs": [],
   "source": [
    "val path = System.getProperty(\"user.dir\") + \"/source/load-ivy.sc\"\n",
    "interp.load.module(ammonite.ops.Path(java.nio.file.FileSystems.getDefault().getPath(path)))"
   ]
  },
  {
   "cell_type": "code",
   "execution_count": null,
   "id": "a8b90467-e569-4795-b6f9-c24f9f529c09",
   "metadata": {},
   "outputs": [],
   "source": [
    "import chisel3._\n",
    "import chisel3.util._\n",
    "import chisel3.tester._\n",
    "import chisel3.tester.RawTester.test\n",
    "import dotvisualizer._"
   ]
  },
  {
   "cell_type": "markdown",
   "id": "e1ffb431-62ca-4446-84a9-edb53cc4680f",
   "metadata": {},
   "source": [
    "## Επίτρεψη εγγραφής (enable) σε καταχωρητές\n",
    "Στα παραδείγματα με καταχωρητές που είδαμε ως τώρα, σε κάθε νέο βήμα (step) του ρολογιού (clock), ο καταχωρητής αποθηκεύει ό,τι βρίσκεται στην είσοδό του τη στιγμή εκείνη.\n",
    "\n",
    "Σε έναν επεξεργαστή συχνά η εγγραφή σε καταχωρητές δεν θέλουμε να γίνεται σε κάθε βήμα του ρολογιού, παρά μόνο αν επιτρέπεται από κάποια συνθήκη.\n",
    "\n",
    "Στην Chisel μπορούμε πολύ εύκολα να επιλέξουμε πότε θα γίνει εγγραφή δεδομένων σε έναν καταχωρητή χρησιμοποιώντας τη δομή `when`. Στο παράδειγμα που ακολουθεί, τα δεδομένα εισόδου εγγράφονται στον καταχωρητή μόνο αν το επιτρέπει το εξωτερικό σήμα `enable` (1 bit, 1 = επίτρεψη εγγραφής, 0 = όχι):"
   ]
  },
  {
   "cell_type": "code",
   "execution_count": null,
   "id": "2baec67e-7b42-434c-a528-524aaae6e5f9",
   "metadata": {},
   "outputs": [],
   "source": [
    "class EnableExample(n: Int) extends Module {\n",
    "  val io = IO(new Bundle {\n",
    "    val in = Input(UInt(n.W))\n",
    "    val enable = Input(UInt(1.W))\n",
    "    val out = Output(UInt(n.W))\n",
    "  })\n",
    "    \n",
    "  val testReg = Reg(UInt(n.W))\n",
    "  \n",
    "  when(io.enable===1.U) {\n",
    "    testReg := io.in    \n",
    "  }\n",
    "    \n",
    "  io.out := testReg\n",
    "}"
   ]
  },
  {
   "cell_type": "markdown",
   "id": "3159a135-ac88-4cb4-a494-dddb949bd9f1",
   "metadata": {},
   "source": [
    "### Σημείωση:  Όταν δεν προσδιορίζεται η είσοδος σε καταχωρητή\n",
    "Στο προηγούμενο παράδειγμα με τον καταχωρητή, παρατηρήστε ότι **δεν προσδιορίζεται** η είσοδος στον `testReg`\n",
    "όταν το `io.enable` δεν είναι `1.U` (δεν χρησιμοποιείται δηλαδή `otherwise` ή `elsewhen)`: στην περίπτωση αυτή απλά **διατηρείται η τρέχουσα τιμή του καταχωρητή**\n",
    "(όποια κι αν είναι αυτή).\n",
    "\n",
    "\n",
    "Δοκιμάστε το προηγούμενο κύκλωμα εκτελώντας το επόμενο κελί:"
   ]
  },
  {
   "cell_type": "code",
   "execution_count": null,
   "id": "4f7fa238-286f-43e5-8264-2e710b6d01bd",
   "metadata": {},
   "outputs": [],
   "source": [
    "test(new EnableExample(8)) { c =>\n",
    "  c.io.enable.poke(0.U)     // θέτουμε το enable=0, δεν επιτρέπεται η εγγραφή στον καταχωρητή\n",
    "  c.io.in.poke(33.U)        // βάζουμε στην είσοδο τυχαία τιμή 33\n",
    "  c.clock.step()            // δημιουργούμε έναν παλμό ρολογιού\n",
    "  println(c.io.out.peek())  // το 33 δεν θα αποθηκευτεί ούτε θα εμφανιστεί στην έξοδο του καταχωρητή\n",
    "    \n",
    "  c.io.enable.poke(1.U)     // θέτουμε το enable=1, επιτρέπεται η εγγραφή στο επόμενο clock\n",
    "  c.clock.step()            // δημιουργούμε έναν παλμό ρολογιού\n",
    "  println(c.io.out.peek())  // το 33 θα αποθηκευτεί στον καταχωρητή και θα εμφανιστεί στην έξοδο\n",
    "}"
   ]
  },
  {
   "cell_type": "markdown",
   "id": "fcbf2b54-4615-4cb5-b0a0-5510f975df8d",
   "metadata": {},
   "source": [
    "## Άσκηση 1\n",
    "Κατασκευάστε κύκλωμα με έναν καταχωρητή εύρους `n` bits (παραμετρική υλοποίηση) και τις αντίστοιχες εισόδους-εξόδους:\n",
    "* `in` (εύρος `n` bits): είσοδος δεδομένων\n",
    "* `out` (εύρος `n` bits): έξοδος δεδομένων\n",
    "\n",
    "Σε κάθε βήμα (κύκλο) ρολογιού εισάγεται στο κύκλωμα μια νέα τιμή στην είσοδο `in` αλλά **ο καταχωρητής συγκρατεί μόνο τιμές μεγαλύτερες από αυτήν που έχει ως αποθηκευμένη ως τώρα**. Συνεπώς ο καταχωρητής θα εμφανίζει κάθε στιγμή στην έξοδο `out` **τη μέγιστη** από τις τιμές που έχουν εμφανιστεί ως τώρα.\n",
    "\n",
    "Ο καταχωρητής θα πρέπει να είναι αρχικοποιημένος με την τιμή `0.U`.\n",
    "\n",
    "Η Chisel διαθέτει τους εξής τελεστές σύγκρισης:\n",
    "\n",
    "| τελεστές | έλεγχος |\n",
    "| --- | --- |\n",
    "| === | ισότητα |\n",
    "| =/= | ανισότητα |\n",
    "| >, >=, <, <= | σύγκριση |\n",
    "\n",
    "Συμπληρώστε το επόμενο κελί."
   ]
  },
  {
   "cell_type": "code",
   "execution_count": null,
   "id": "d7f06a59-9865-4c50-957b-6672596f696a",
   "metadata": {},
   "outputs": [],
   "source": [
    "class MaxRegister(n: Int) extends Module {\n",
    "  val io = IO(new Bundle {\n",
    "    val in = Input(UInt(n.W))\n",
    "    val out = Output(UInt(n.W))\n",
    "  })\n",
    "    \n",
    "  // ..συμπληρώστε..\n",
    "    \n",
    "}"
   ]
  },
  {
   "cell_type": "markdown",
   "id": "09ce6db8-c8b5-4b0c-a307-ce5df4b554f9",
   "metadata": {},
   "source": [
    "Δοκιμάστε τη λειτουργία του κυκλώματός σας με τον παρακάτω κώδικα ελέγχου: "
   ]
  },
  {
   "cell_type": "code",
   "execution_count": null,
   "id": "1f4977db-7d9d-42d0-aa9f-9960f13d73bd",
   "metadata": {},
   "outputs": [],
   "source": [
    "test(new MaxRegister(8)) { c =>\n",
    "  val numbers = List(10,20,5,7,22,9,44,2,43)  // λίστα με τυχαίες τιμές εισόδου\n",
    "  for (number <- numbers) {                   // κάθε μία από τις τιμές της λίστας\n",
    "    c.io.in.poke(number.U)                    // εισάγεται στην είσοδο in\n",
    "    c.clock.step()                            // και δημιουργείται ένας παλμός ρολογιού\n",
    "  }\n",
    "  println(c.io.out.peek())       // τυπώνουμε την τιμή της εξόδου out στο τέλος (θα πρέπει να είναι 44)\n",
    "  c.io.out.expect(numbers.max.U) // ελέγχουμε αν η αναμενόμενη τιμή ισούται με το numbers.max (44)\n",
    "\n",
    "}\n",
    "println(\"SUCCESS!!\")"
   ]
  },
  {
   "cell_type": "markdown",
   "id": "95675869-55da-4cb8-96c2-4802071ae866",
   "metadata": {},
   "source": [
    "## Συστοιχία καταχωρητών (register file)\n",
    "Σε έναν επεξεργαστή οι εντολές μηχανής χρησιμοποιούν έναν αριθμό καταχωρητών για την αποθήκευση προσωρινών αποτελεσμάτων. Η *συστοιχία καταχωρητών* (register file) είναι στην ουσία ένα «array» από καταχωρητές της Chisel.\n",
    "\n",
    "### Πώς δηλώνουμε μια συστοιχία καταχωρητών\n",
    "\n",
    "Για να δημιουργήσουμε στην Chisel μια συστοιχία καταχωρητών χρησιμοποιούμε τη σύνταξη:\n",
    "~~~scala\n",
    "val regFile = Reg(Vec(m,UInt(n.W)))\n",
    "~~~\n",
    "Η πιο πάνω εντολή θα δημιουργήσει `m` καταχωρητές, με εύρος λέξης `n` ο καθένας, π.χ. για να δημιουργήσουμε 8 καταχωρητές με εύρος λέξης 32 bits θα γράψουμε:\n",
    "~~~scala\n",
    "val regFile = Reg(Vec(8,UInt(32.W)))\n",
    "~~~\n",
    "\n",
    "### Πώς δηλώνουμε μια συστοιχία καταχωρητών με συγκεκριμένη αρχική τιμή\n",
    "\n",
    "Αν θέλουμε οι καταχωρητές να έχουν **συγκεκριμένη αρχική τιμή**, η σύνταξη είναι λίγο πιο σύνθετη. Για `m` καταχωρητές, με εύρος λέξης `n` ο καθένας και αρχική τιμή `k` σε όλους γράφουμε:\n",
    "~~~scala\n",
    "val regFile = RegInit(VecInit(Seq.fill(m)(k.U(n.W))))\n",
    "~~~\n",
    "\n",
    "Για παράδειγμα, αν θέλουμε 8 καταχωρητές με εύρος λέξης 32 bits αρχικοποιημένους στο 0, θα γράψουμε:\n",
    "~~~scala\n",
    "val regFile = RegInit(VecInit(Seq.fill(8)(0.U(32.W))))\n",
    "~~~\n",
    "*Σημ.: η έκφραση `Seq.fill(8)(0.U(n.W))` είναι της υποκείμενης γλώσσας (Scala) και δημιουργεί μια λίστα 8 στοιχείων με τιμή `0.U(32.W)` το καθένα.*\n",
    "\n",
    "### Πώς συνδέουμε τον i-οστό καταχωρητή της συστοιχίας\n",
    "\n",
    "Όταν το `regFile` οριστεί όπως στα δύο προηγούμενες περιπτώσεις, τότε μπορούμε να συνδέσουμε τον **i-οστό καταχωρητή** της συστοιχίας όπως στα επόμενα παραδείγματα:\n",
    "~~~scala\n",
    "x := regFile(i) // σύνδεση του x στην έξοδο του i-οστού καταχωρητή του regFile\n",
    "                // δηλαδή: το σήμα x οδηγείται (παίρνει τιμή) από το περιεχόμενο του i-οστου καταχωρητή\n",
    "\n",
    "regFile(i) := y // σύνδεση της εισόδου του i-οστού καταχωρητή του regFile στο y\n",
    "                // δηλαδή: ο i-οστός καταχωρητής οδηγείται (παίρνει τιμή) από το σήμα y \n",
    "~~~\n"
   ]
  },
  {
   "cell_type": "markdown",
   "id": "f9c619b0",
   "metadata": {},
   "source": [
    "### Παράδειγμα register file\n",
    "Δείτε το επόμενο παράδειγμα υλοποίησης ενός module με register file. Υπάρχουν `register_number` καταχωρητές, ενώ το εύρος λέξης κάθε καταχωρητή είναι `register_width` (τα `register_number` και `register_width` ορίζονται παραμετρικά). Η τιμή αρχικοποίησης των καταχωρητών είναι `0`.\n",
    "\n",
    "Περιγραφή εισόδων-εξόδων:\n",
    "* `in` (με εύρος `n` bits): είσοδος δεδομένων\n",
    "* `out` (με εύρος `n` bits): έξοδος δεδομένων\n",
    "* `read_select` (με εύρος `log2(register_number)` bits): επιλογή καταχωρητή για ανάγνωση, τα δεδομένα του εμφανίζονται στην έξοδο\n",
    "* `write_select` (με εύρος `log2(register_number)` bits): επιλογή καταχωρητή για εγγραφή, τα δεδομένα εισόδου θα εγγραφούν σε αυτόν στο επόμενο βήμα ρολογιού.\n",
    "\n",
    "*Σημ.: τα σήματα select έχουν εύρος log2(register_number) bits με στρογγυλοποίηση προς τα πάνω (συνάρτηση `log2Ceil()`) για να εξασφαλιστεί ότι «χωράνε» τον αριθμό κάθε καταχωρητή (0...register_number-1).*"
   ]
  },
  {
   "cell_type": "code",
   "execution_count": null,
   "id": "540b6774-fe34-4de6-8841-486a5e390dac",
   "metadata": {},
   "outputs": [],
   "source": [
    "class SimpleRegisterFile(register_number: Int, register_width: Int) extends Module {\n",
    "  val io = IO(new Bundle {\n",
    "    val in = Input(UInt(register_width.W))\n",
    "    val read_select = Input(UInt(log2Ceil(register_number).W))\n",
    "    val write_select = Input(UInt(log2Ceil(register_number).W))      \n",
    "    val out = Output(UInt(register_width.W))\n",
    "  })\n",
    "    \n",
    "  val regFile = RegInit(VecInit(Seq.fill(register_number)(0.U(register_width.W))))\n",
    "    \n",
    "  regFile(io.write_select) := io.in    // εγγραφή δεδομένων στον καταχωρητή που επιλέγει το io.write_select\n",
    "    \n",
    "  io.out := regFile(io.read_select)    // ανάγνωση δεδομένων από τον καταχωρητή που επιλέγει το io.read_select\n",
    "  \n",
    "}"
   ]
  },
  {
   "cell_type": "markdown",
   "id": "34204197",
   "metadata": {},
   "source": [
    "Στο επόμενο κελί δημιουργούμε μια δοκιμαστική συστοιχία 8 καταχωρητών με μήκος λέξης 16 bits. Στη συνέχεια γράφουμε δοκιμαστικές τιμές σε καθένα από τους καταχωρητές (r0...r7) και στο τέλος τις διαβάζουμε ξανά και τις τυπώνουμε με την ίδια σειρά:"
   ]
  },
  {
   "cell_type": "code",
   "execution_count": null,
   "id": "ea39157b-c1a4-48ef-85f3-8a7adf9eb043",
   "metadata": {},
   "outputs": [],
   "source": [
    "test(new SimpleRegisterFile(8,16)) { c =>\n",
    "  // δοκιμαστική εγγραφή δεδομένων, r0 = 333, r1 = 334, r2 = 335 κλπ\n",
    "  for (i <- 0 to 7) {\n",
    "    c.io.write_select.poke(i.U)      // επιλέγουμε τον i-οστό καταχωρητή για εγγραφή\n",
    "    c.io.in.poke((333+i).U)          // βάζουμε στην είσοδο την τιμή 333+i\n",
    "    c.clock.step()                   // δημιουργούμε ένα παλμό ρολογιού για εγγραφή\n",
    "  }\n",
    "  // ανάγνωση δεδομένων από όλους τους καταχωρητές    \n",
    "  for (i <- 0 to 7) {\n",
    "    c.io.read_select.poke(i.U)       // επιλέγουμε τον i-οστό καταχωρητή για ανάγνωση\n",
    "    println(i,c.io.out.peek())       // τυπώνουμε την τιμή που πήραμε από τον i-οστό καταχωρητή\n",
    "    c.io.out.expect((333+i).U)         // πρέπει να έχει τιμή 333+i\n",
    "  }\n",
    "\n",
    "}\n",
    "println(\"SUCCESS!!\")"
   ]
  },
  {
   "cell_type": "markdown",
   "id": "ee04f21d-401f-48d3-b73f-1cbc91082d92",
   "metadata": {},
   "source": [
    "## Άσκηση 2\n",
    "Τροποποιήστε το προηγούμενο παράδειγμα, έτσι ώστε η εγγραφή να πραγματοποιείται **μόνο όταν το `write_select` είναι διάφορο του 0**. Ο καταχωρητής 0 δηλαδή, δεν εγγράφεται αλλά διατηρεί πάντα την αρχική του τιμή (0).\n",
    "\n",
    "Συμπληρώστε στο επόμενο κελί:"
   ]
  },
  {
   "cell_type": "code",
   "execution_count": null,
   "id": "61303d4b-b335-4bfd-ae94-baeaa29378f0",
   "metadata": {},
   "outputs": [],
   "source": [
    "class RegisterFileZeroReg(register_number: Int, register_width: Int) extends Module {\n",
    "  val io = IO(new Bundle {\n",
    "    val in = Input(UInt(register_width.W))\n",
    "    val read_select = Input(UInt(log2Ceil(register_number).W))\n",
    "    val write_select = Input(UInt(log2Ceil(register_number).W))      \n",
    "    val out = Output(UInt(register_width.W))\n",
    "  })\n",
    "    \n",
    "  // ..συμπληρώστε..\n",
    "    \n",
    "}"
   ]
  },
  {
   "cell_type": "markdown",
   "id": "d7faf176-1aad-46fd-aa59-d3f016f73a81",
   "metadata": {},
   "source": [
    "Δοκιμάστε την ορθότητα της υλοποίησής σας με τον επόμενο κώδικα ελέγχου:"
   ]
  },
  {
   "cell_type": "code",
   "execution_count": null,
   "id": "d7d82baf-23ac-421f-b4f3-db2085a6fe8c",
   "metadata": {},
   "outputs": [],
   "source": [
    "test(new RegisterFileZeroReg(8,16)) { c =>\n",
    "\n",
    "  for (i <- 0 to 7) {\n",
    "    c.io.write_select.poke(i.U)\n",
    "    c.io.in.poke((333+i).U)\n",
    "    c.clock.step()\n",
    "  }\n",
    "    \n",
    "  for (i <- 0 to 7) {\n",
    "    c.io.read_select.poke(i.U)\n",
    "    c.io.out.expect( if (i>0) (333+i).U else 0.U)   // εδώ ο r0 θα πρέπει να είναι 0 κι όχι 333\n",
    "  }\n",
    "\n",
    "}\n",
    "println(\"SUCCESS!!\")"
   ]
  },
  {
   "cell_type": "markdown",
   "id": "111911ef",
   "metadata": {},
   "source": [
    "## Τελειώνοντας...\n",
    "Μπορείτε να κατεβάσετε και να πάρετε μαζί σας το σημερινό notebook για να το έχετε στο αρχείο σας.\n",
    "\n",
    "**Δεν ανήκει στα παραδοτέα του εργαστηρίου.**"
   ]
  }
 ],
 "metadata": {
  "kernelspec": {
   "display_name": "Scala",
   "language": "scala",
   "name": "scala"
  },
  "language_info": {
   "codemirror_mode": "text/x-scala",
   "file_extension": ".scala",
   "mimetype": "text/x-scala",
   "name": "scala",
   "nbconvert_exporter": "script",
   "version": "2.12.10"
  }
 },
 "nbformat": 4,
 "nbformat_minor": 5
}
