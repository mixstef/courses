{
 "cells": [
  {
   "cell_type": "code",
   "execution_count": 9,
   "id": "189031da",
   "metadata": {},
   "outputs": [],
   "source": [
    "from compilerlabs import ASTNode"
   ]
  },
  {
   "cell_type": "code",
   "execution_count": 10,
   "id": "027d2272",
   "metadata": {},
   "outputs": [],
   "source": [
    "a = ASTNode(attributes={'name':'a'})\n",
    "b = ASTNode(attributes={'name':'b'})"
   ]
  },
  {
   "cell_type": "code",
   "execution_count": 11,
   "id": "616c47cd",
   "metadata": {},
   "outputs": [],
   "source": [
    "c = ASTNode(subnodes=[a,b],attributes={'name':'c'})"
   ]
  },
  {
   "cell_type": "code",
   "execution_count": 12,
   "id": "98c2185b",
   "metadata": {},
   "outputs": [
    {
     "name": "stdout",
     "output_type": "stream",
     "text": [
      "ASTNode{'name': 'c'}\n",
      "├── ASTNode{'name': 'a'}\n",
      "└── ASTNode{'name': 'b'}\n"
     ]
    }
   ],
   "source": [
    "print(c)"
   ]
  },
  {
   "cell_type": "code",
   "execution_count": 13,
   "id": "9bb4f159",
   "metadata": {},
   "outputs": [],
   "source": [
    "d = ASTNode(attributes={'name':'d'})\n",
    "e = ASTNode(subnodes=[c,d],attributes={'name':'e'})"
   ]
  },
  {
   "cell_type": "code",
   "execution_count": 14,
   "id": "fe953cdf",
   "metadata": {},
   "outputs": [
    {
     "name": "stdout",
     "output_type": "stream",
     "text": [
      "ASTNode{'name': 'e'}\n",
      "├── ASTNode{'name': 'c'}\n",
      "│   ├── ASTNode{'name': 'a'}\n",
      "│   └── ASTNode{'name': 'b'}\n",
      "└── ASTNode{'name': 'd'}\n"
     ]
    }
   ],
   "source": [
    "print(e)"
   ]
  },
  {
   "cell_type": "code",
   "execution_count": 15,
   "id": "e1903c3d",
   "metadata": {},
   "outputs": [],
   "source": [
    "def dfs_visit(node):\n",
    "    print('visiting node: {}'.format(node.attributes['name']))\n",
    "    for child in node.subnodes:\n",
    "        dfs_visit(child)"
   ]
  },
  {
   "cell_type": "code",
   "execution_count": 16,
   "id": "14c9b035",
   "metadata": {},
   "outputs": [
    {
     "name": "stdout",
     "output_type": "stream",
     "text": [
      "visiting node: e\n",
      "visiting node: c\n",
      "visiting node: a\n",
      "visiting node: b\n",
      "visiting node: d\n"
     ]
    }
   ],
   "source": [
    "dfs_visit(e)"
   ]
  }
 ],
 "metadata": {
  "kernelspec": {
   "display_name": "Python 3 (ipykernel)",
   "language": "python",
   "name": "python3"
  },
  "language_info": {
   "codemirror_mode": {
    "name": "ipython",
    "version": 3
   },
   "file_extension": ".py",
   "mimetype": "text/x-python",
   "name": "python",
   "nbconvert_exporter": "python",
   "pygments_lexer": "ipython3",
   "version": "3.8.10"
  }
 },
 "nbformat": 4,
 "nbformat_minor": 5
}
