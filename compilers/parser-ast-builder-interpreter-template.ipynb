{
 "cells": [
  {
   "cell_type": "markdown",
   "id": "e8bb67a8-e81b-4f76-9bdb-17075ba485c4",
   "metadata": {},
   "source": [
    "# Recursive descent parser + AST builder + interpreter\n",
    "Template notebook.\n"
   ]
  },
  {
   "cell_type": "code",
   "execution_count": null,
   "id": "9c871250-9ed6-48e5-b4e2-d8365c9d8d61",
   "metadata": {},
   "outputs": [],
   "source": [
    "from io import StringIO\n",
    "\n",
    "import plex\n",
    "\n",
    "from compilerlabs import ASTNode"
   ]
  },
  {
   "cell_type": "code",
   "execution_count": null,
   "id": "07b9f70a-1b4a-44e3-8dc4-b79b6677c035",
   "metadata": {},
   "outputs": [],
   "source": [
    "# parsing error, a user-defined exception\n",
    "class ParseError(Exception):\n",
    "    pass"
   ]
  },
  {
   "cell_type": "code",
   "execution_count": null,
   "id": "5a5bdeca-61b5-4ee4-935a-8460f6149f52",
   "metadata": {},
   "outputs": [],
   "source": [
    "# class of recursive descent parser\n",
    "class MyParser():\n",
    "\n",
    "    def __init__(self,scanner):\n",
    "            \n",
    "        self.scanner = scanner\n",
    "        \n",
    "\n",
    "    def match(self,expected):\n",
    "    \n",
    "        if self.next_token==expected:\n",
    "            # proceed to next token\n",
    "            self.next_token,self.next_lexeme = self.scanner.read()\n",
    "\n",
    "        else:\n",
    "            raise ParseError('Expected {}, found {} instead'.format(expected,self.next_token))\n",
    "            \n",
    "            \n",
    "    def parse(self):\n",
    "\n",
    "        # get initial input token/lexeme\n",
    "        self.next_token,self.next_lexeme = self.scanner.read()\n",
    "                \n",
    "        # TODO: replace None with method for starting symbol of grammar\n",
    "        sl = None       # sl will be the total AST of source text\n",
    "        \n",
    "        # should match end-of-text here\n",
    "        self.match(None)\n",
    "        \n",
    "        # return AST\n",
    "        return sl\n",
    "\n",
    "\n",
    "        # TODO: define methods for all non-terminal symbols here\n"
   ]
  },
  {
   "cell_type": "code",
   "execution_count": null,
   "id": "ed8cffbb",
   "metadata": {},
   "outputs": [],
   "source": [
    "# runtime error, a user-defined exception\n",
    "class RunError(Exception):\n",
    "    pass"
   ]
  },
  {
   "cell_type": "code",
   "execution_count": null,
   "id": "a89a947a",
   "metadata": {},
   "outputs": [],
   "source": [
    "# class of AST walking interpreter\n",
    "class MyInterpreter():\n",
    "\n",
    "    def __init__(self):\n",
    "    \n",
    "        # TODO: replace with any initial interpreter state, e.g. set storage space for variables etc\n",
    "        pass\n",
    "\n",
    "\n",
    "    def run(self,root_node):\n",
    "\n",
    "        # begin AST walking at root node\n",
    "        if root_node is not None:    # if not an empty AST\n",
    "            # TODO: replace with first call to AST walking methods \n",
    "            pass\n",
    "\n",
    "        \n",
    "    # TODO: define AST walking methods here\n"
   ]
  },
  {
   "cell_type": "code",
   "execution_count": null,
   "id": "26d282d5-8780-4139-8c0d-5beadca1e8e4",
   "metadata": {},
   "outputs": [],
   "source": [
    "# main part of program\n",
    "\n",
    "# TODO: define patterns for plex here\n",
    "\n",
    "\n",
    "# TODO: create plex lexicon\n",
    "lexicon = plex.Lexicon([\n",
    "\n",
    "    ])\n",
    "    \n",
    "    \n",
    "# TODO: define input text\n",
    "text = \"\"\"\n",
    "\n",
    "\"\"\"    \n",
    "    \n",
    "# create plex scanner for input text\n",
    "scanner = plex.Scanner(lexicon,StringIO(text))\n",
    "\n",
    "# create recursive descent parser/AST generator\n",
    "parser = MyParser(scanner)\n",
    "\n",
    "try:\n",
    "    ast = parser.parse()\n",
    "    #print(ast)\n",
    "    \n",
    "except ParseError as e:\n",
    "    _,lineno,charno = scanner.position()\n",
    "    print('Syntax error at line:{} char:{}, {}'.format(lineno,charno+1,e))\n",
    "            \n",
    "except plex.errors.PlexError:            \n",
    "    _,lineno,charno = scanner.position()\n",
    "    print(\"Scanner Error at line {} char {}\".format(lineno,charno+1))\n",
    "\n",
    "else:   # if no scanner or syntax error\n",
    "    \n",
    "    # create AST interpreter\n",
    "    runner = MyInterpreter()\n",
    "\n",
    "    try:\n",
    "        runner.run(ast)\n",
    "\n",
    "    except RunError as e:\n",
    "        print('Runtime error: {}'.format(e))\n"
   ]
  }
 ],
 "metadata": {
  "kernelspec": {
   "display_name": "Python 3 (ipykernel)",
   "language": "python",
   "name": "python3"
  },
  "language_info": {
   "codemirror_mode": {
    "name": "ipython",
    "version": 3
   },
   "file_extension": ".py",
   "mimetype": "text/x-python",
   "name": "python",
   "nbconvert_exporter": "python",
   "pygments_lexer": "ipython3",
   "version": "3.8.10"
  }
 },
 "nbformat": 4,
 "nbformat_minor": 5
}
