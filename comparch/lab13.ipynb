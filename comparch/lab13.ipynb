{
 "cells": [
  {
   "cell_type": "markdown",
   "id": "0529654b",
   "metadata": {},
   "source": [
    "# Εργαστήριο 13\n",
    "Όπως και στα προηγούμενα εργαστήρια συνεχίζουμε στο περιβάλλον του [online chisel bootcamp](https://mybinder.org/v2/gh/freechipsproject/chisel-bootcamp/master).\n",
    "\n",
    "Πριν ξεκινήσετε, εκτελέστε τα επόμενα 2 κελιά:"
   ]
  },
  {
   "cell_type": "code",
   "execution_count": null,
   "id": "7068aa27-1cce-40f4-a0da-0fa555842407",
   "metadata": {
    "scrolled": true
   },
   "outputs": [],
   "source": [
    "val path = System.getProperty(\"user.dir\") + \"/source/load-ivy.sc\"\n",
    "interp.load.module(ammonite.ops.Path(java.nio.file.FileSystems.getDefault().getPath(path)))"
   ]
  },
  {
   "cell_type": "code",
   "execution_count": null,
   "id": "66ca42e1-fb27-4865-963f-b13efa3a3906",
   "metadata": {
    "scrolled": true
   },
   "outputs": [],
   "source": [
    "import chisel3._\n",
    "import chisel3.util._\n",
    "import chisel3.tester._\n",
    "import chisel3.tester.RawTester.test\n",
    "import dotvisualizer._"
   ]
  },
  {
   "cell_type": "markdown",
   "id": "7e821a29",
   "metadata": {},
   "source": [
    "## Εντολές ανάγνωσης/εγγραφής (load/store) στη μνήμη δεδομένων\n",
    "Στο εργαστήριο αυτό θα ολοκληρώσετε τις προσθήκες στα υπάρχοντα modules για να υλοποιήσετε τις εντολές **ανάγνωσης (load)** και **εγγραφής (store)** μιας λέξης στη μνήμη δεδομένων (data memory).\n",
    "\n",
    "Η υλοποίηση γίνεται σε 2 μέρη:\n",
    "\n",
    "* Στο προηγούμενο εργαστήριο τροποποιήσατε τα modules `FetchUnit` και `DataPath` για να προσθέσετε τη **μνήμη δεδομένων** στο σύστημα.\n",
    "\n",
    "* Στο παρόν εργαστήριο θα προσθέσετε λειτουργικότητα στα modules `DecodeUnit` και `Cpu` για την **εκτέλεση των εντολών load και store**.\n",
    "\n",
    "Στις επόμενες ενότητες περιγράφεται ξανά η κωδικοποίηση και η αναμενόμενη λειτουργία των εντολών load και store.\n",
    "\n",
    "### Εντολή load (ανάγνωση από τη μνήμη δεδομένων)\n",
    "\n",
    "`load Dst,Rsrc2,Offset`\n",
    "\n",
    "Η εντολή αυτή θα έχει την εξής λειτουργικότητα:\n",
    "\n",
    "`Dst <- memory[address = Rsrc2 + Offset]`\n",
    "\n",
    "όπου είναι:\n",
    "\n",
    "* `Dst`: καταχωρητής προορισμού (3 bits)\n",
    "* `Rsrc2`: καταχωρητής εισόδου δεδομένων 2 (3 bits)\n",
    "* `Offset`: σταθερά (ακέραιος με πρόσημο, 7 bits), προστίθεται στο περιεχόμενο του Rsrc2 για το σχηματισμό της διεύθυνσης μνήμης για ανάγνωση\n",
    "\n",
    "Η κωδικοποίηση της εντολής αυτής έχει ως εξής:\n",
    "\n",
    "| `bits 15-13` | `bits 12-6` | `bits 5-3` | `bits 2-0` |\n",
    "| --- | --- | --- | --- |\n",
    "| `011` | `Offset[6:0]` | `Rsrc2` | `Dst` |\n",
    "\n",
    "\n",
    "### Εντολή store (εγγραφή στη μνήμη δεδομένων)\n",
    "\n",
    "`store Rsrc1,Rsrc2,Offset`\n",
    "\n",
    "Η εντολή αυτή θα έχει την εξής λειτουργικότητα:\n",
    "\n",
    "`memory[address = Rsrc2 + Offset] <- Rsrc1`\n",
    "\n",
    "όπου είναι:\n",
    "\n",
    "* `Rsrc1`: καταχωρητής εισόδου δεδομένων 1 (3 bits)\n",
    "* `Rsrc2`: καταχωρητής εισόδου δεδομένων 2 (3 bits)\n",
    "* `Offset`: σταθερά (ακέραιος με πρόσημο, 7 bits), προστίθεται στο περιεχόμενο του Rsrc2 για το σχηματισμό της διεύθυνσης μνήμης για ανάγνωση\n",
    "\n",
    "Η κωδικοποίηση της εντολής αυτής έχει ως εξής:\n",
    "\n",
    "| `bits 15-13` | `bits 12-9` | `bits 8-6` | `bits 5-3` | `bits 2-0` |\n",
    "| --- | --- | --- | --- | --- |\n",
    "| `111` | `Offset[6:3]` | `Rsrc2` | `Rsrc1` | `Offset[2:0]` |\n"
   ]
  },
  {
   "cell_type": "markdown",
   "id": "9bf41459",
   "metadata": {},
   "source": [
    "## Κώδικας από προηγούμενα εργαστήρια\n",
    "Στα παρακάτω κελιά **αντιγράψτε χωρίς αλλαγές** τα αντίστοιχα modules που έχετε ήδη από προηγούμενα εργαστήρια."
   ]
  },
  {
   "cell_type": "code",
   "execution_count": null,
   "id": "9777111b",
   "metadata": {},
   "outputs": [],
   "source": [
    "class InstructionMemory(addr_width: Int, instr_width: Int, content: Seq[UInt]) extends Module {\n",
    "\n",
    "  // ..συμπληρώστε..  \n",
    "    \n",
    "}"
   ]
  },
  {
   "cell_type": "code",
   "execution_count": null,
   "id": "e63babe7",
   "metadata": {},
   "outputs": [],
   "source": [
    "class FetchUnit(addr_width: Int, instr_width: Int, content: Seq[UInt]) extends Module {\n",
    "\n",
    "  // ..συμπληρώστε..  \n",
    "    \n",
    "}"
   ]
  },
  {
   "cell_type": "code",
   "execution_count": null,
   "id": "4c2a0c91",
   "metadata": {},
   "outputs": [],
   "source": [
    "class RegisterFile(register_width: Int, register_number: Int) extends Module {\n",
    "\n",
    "  // ..συμπληρώστε..  \n",
    "    \n",
    "}"
   ]
  },
  {
   "cell_type": "code",
   "execution_count": null,
   "id": "9cdd844d",
   "metadata": {},
   "outputs": [],
   "source": [
    "class Alu(n: Int) extends Module {\n",
    "\n",
    "  // ..συμπληρώστε..  \n",
    "    \n",
    "}"
   ]
  },
  {
   "cell_type": "code",
   "execution_count": null,
   "id": "84396310",
   "metadata": {},
   "outputs": [],
   "source": [
    "class DataMemory(word_number: Int,word_width: Int) extends Module {\n",
    "\n",
    "  // ..συμπληρώστε..  \n",
    "    \n",
    "}"
   ]
  },
  {
   "cell_type": "code",
   "execution_count": null,
   "id": "2547c52d",
   "metadata": {},
   "outputs": [],
   "source": [
    "class DataPath(word_width: Int, register_number: Int, memory_size: Int) extends Module {\n",
    "\n",
    "  // ..συμπληρώστε..  \n",
    "    \n",
    "}"
   ]
  },
  {
   "cell_type": "code",
   "execution_count": null,
   "id": "b5922d51",
   "metadata": {},
   "outputs": [],
   "source": [
    "class BranchLogic extends Module {\n",
    "\n",
    "  // ..συμπληρώστε..  \n",
    "    \n",
    "}"
   ]
  },
  {
   "cell_type": "markdown",
   "id": "257d2dec",
   "metadata": {},
   "source": [
    "## Άσκηση 1: προσθήκες στο module DecodeUnit\n",
    "Με την προσθήκη της εντολής `load` εμφανίζεται η εξής ιδιαιτερότητα: ενώ όλα τα προηγούμενα είδη εντολών (αλλά και η `store`) ολοκληρώνονται σε έναν κύκλο ρολογιού η καθεμία, η εντολή `load` χρειάζεται 2 κύκλους ρολογιού για να ολοκληρωθεί.\n",
    "* Στον 1ο κύκλο ολοκληρώνονται οι φάσεις Instruction Fetch (IF, λήψη εντολής), Instruction Decode (ID, προετοιμασία σημάτων και επιλογή πηγών) και Execute (EX, υπολογίζει τη διεύθυνση ανάγνωσης).\n",
    "* Στον 2ο κύκλο ολοκηρώνονται οι φάσεις Data Memory (DM, ανάγνωση από μνήμη) και (στο τέλος του κύκλου) η Write Back (WB, εγγραφή αποτελέσματος σε καταχωρητή).\n",
    "\n",
    "Συνεπώς απαιτείται η τήρηση **κατάστασης (state)** για τη φάση που βρίσκεται η εντολή load.\n",
    "\n",
    "Ξεκινήστε από την προηγούμενη υλοποίηση του `DecodeUnit` που έχετε, προσθέτοντας τα παρακάτω:\n",
    "\n",
    "1. Αρχικά προσθέστε τις 3 *εξόδους* ελέγχου που παράγονται στο `DecodeUnit`:\n",
    "  * `freeze_pc` (εύρος 1 bit), όταν είναι 1 δεν ενημερώνεται ο pc με νέα τιμή στο `FetchUnit`\n",
    "  * `result_sel` (εύρος 1 bit), επιλογή τελικού αποτελέσματος στο `DataPath`(0 = από alu, 1 = από μνήμη δεδομένων)\n",
    "  * `write_en` (εύρος 1 bit), αν είναι 1, η μνήμη δεδομένων στο `DataPath` εκτελεί εγγραφή.\n",
    "  \n",
    "  \n",
    "2. Αφού τελειώσει ο ορισμός του bundle `io` με τις εισόδους/εξόδους, προσθέστε έναν καταχωρητή του 1 bit, ο οποίος θα κρατά την κατάσταση της φάσης που βρίσκεται η `load` (0 = 1ος κύκλος, 1 = 2ος κύκλος, αρχική κατάσταση 0):\n",
    "\n",
    "  ~~~scala\n",
    "   val state = RegInit(0.U(1.W))\n",
    "  ~~~\n",
    "  \n",
    "3. Από την κωδικοποίηση των εντολών που δόθηκε στην αρχή της εκφώνησης, φαίνεται ότι η εντολή `store` χρησιμοποιεί το `offset1`, όπως αυτό έχει ήδη οριστεί μέσα στο `DecodeUnit`. Το offset όμως που χρησιμοποιεί η `load` είναι διαφορετικό, προσθέστε το μετά τον ορισμό του `offset1`:\n",
    "\n",
    "  ~~~scala\n",
    "  val offset2 = io.instruction(12,6).asSInt.pad(16).asUInt\n",
    "  ~~~\n",
    "  \n",
    "4. Προσθέστε την υλοποίηση της εντολής store:\n",
    "\n",
    "  ~~~scala\n",
    "  is(\"b111\".U) {  // store\n",
    "      // defaults used: read_sel_a, read_sel_b, write_sel=0, sub=0\n",
    "      io.alu_a_sel :=     // ..συμπληρώστε..\n",
    "      io.im :=            // ..συμπληρώστε..\n",
    "      io.sel :=           // ..συμπληρώστε..\n",
    "      io.write_en :=      // ..συμπληρώστε.. \n",
    "  } \n",
    "  ~~~\n",
    "  \n",
    "  Η υλοποίηση της `store` θα πρέπει να οδηγεί κατάλληλα τις εξόδους `alu_a_sel`, `im`, `sel` και `write_en` έτσι ώστε το `DataPath`:\n",
    "  * Να προσθέτει (+) το `offset1` με τα δεδομένα του καταχωρητή που επιλέγει το `read_sel_b`.\n",
    "  * Να επιτρέπει την εγγραφή στη μνήμη δεδομένων του περιεχομένου του καταχωρητή που επιλέγει το `read_sel_a`.\n",
    "  \n",
    "  \n",
    "5. Προσθέστε την υλοποίηση της εντολής load σε δύο φάσεις:\n",
    "\n",
    "  ~~~scala\n",
    "  is(\"b011\".U) {  // load (2-cycle instr)\n",
    "    when (state === 0.U) {  // cycle 1, compute address\n",
    "      state := 1.U\n",
    "      io.freeze_pc := 1.U\n",
    "      // defaults used: read_sel_b, write_sel=0, sub=0\n",
    "      io.alu_a_sel :=     // ..συμπληρώστε..\n",
    "      io.im :=            // ..συμπληρώστε..\n",
    "      io.sel :=           // ..συμπληρώστε..\n",
    "          \n",
    "    }.otherwise { // cycle 2, read mem and (prepare to) store to reg\n",
    "      state := 0.U\n",
    "      // defaults used: - \n",
    "      io.write_sel :=     // ..συμπληρώστε..\n",
    "      io.result_sel :=    // ..συμπληρώστε.. \n",
    "    }  \n",
    "  }\n",
    "  ~~~\n",
    "  \n",
    "  Στον 1ο κύκλο η υλοποίηση της load:\n",
    "  * Περνάει στη 2η φάση (state = 1)\n",
    "  * Οδηγεί το `freeze_pc` στην τιμή 1, έτσι ώστε να μην προχωρήσουμε στην επόμενη εντολή.\n",
    "  * Οδηγήστε κατάλληλα τα σήματα `alu_a_sel`, `im` και `sel` έτσι ώστε το `DataPath` να προσθέτει (+) το `offset2` με τα δεδομένα του καταχωρητή που επιλέγει το `read_sel_b`.\n",
    "  \n",
    "  Στον 2ο κύκλο η υλοποίηση της load:\n",
    "  * Περνάει στη 1η φάση (state = 0)\n",
    "  * Οδηγήστε κατάλληλα τα σήματα `result_sel` και `write_sel` έτσι ώστε το `DataPath`:\n",
    "    * Να επιλέγει αποτέλεσμα από την έξοδο της μνήμης δεδομένων (όχι την alu).\n",
    "    * Να αποθηκεύει το αποτέλεσμα στον καταχωρητή που επιλέγουν τα bits 2..0 του `instruction`.\n",
    "  "
   ]
  },
  {
   "cell_type": "code",
   "execution_count": null,
   "id": "fe086bf8",
   "metadata": {},
   "outputs": [],
   "source": [
    "class DecodeUnit extends Module {\n",
    "\n",
    "  // ..συμπληρώστε..  \n",
    "    \n",
    "}"
   ]
  },
  {
   "cell_type": "markdown",
   "id": "779631b4",
   "metadata": {},
   "source": [
    "Δοκιμάστε την ορθή λειτουργία του module `DecodeUnit`:"
   ]
  },
  {
   "cell_type": "code",
   "execution_count": null,
   "id": "c80a9fec",
   "metadata": {},
   "outputs": [],
   "source": [
    "test(new DecodeUnit) { c =>\n",
    "  // test logic-arithmetic instr\n",
    "  c.io.instruction.poke(\"b0000011001010011\".U)  // r3 = r1 + r2\n",
    "  c.io.write_en.expect(0.U)\n",
    "  c.io.result_sel.expect(0.U)\n",
    "  c.io.freeze_pc.expect(0.U)  \n",
    "  // test load immediate instr  \n",
    "  c.io.instruction.poke(\"b0010000100001001\".U)  // r1 = 33\n",
    "  c.io.write_en.expect(0.U)\n",
    "  c.io.result_sel.expect(0.U)\n",
    "  c.io.freeze_pc.expect(0.U)  \n",
    "  // test branch_if_equal instr  \n",
    "  c.io.instruction.poke(\"b0100000001010100\".U)  // if r1 == r2 then pc += 4\n",
    "  c.io.write_en.expect(0.U)\n",
    "  c.io.result_sel.expect(0.U)\n",
    "  c.io.freeze_pc.expect(0.U)  \n",
    "  // test store instr  \n",
    "  c.io.instruction.poke(\"b1110001001011111\".U)  // mem[r3+15] = r1\n",
    "  c.io.read_sel_a.expect(1.U)\n",
    "  c.io.read_sel_b.expect(3.U)\n",
    "  c.io.alu_a_sel.expect(0.U)\n",
    "  c.io.im.expect(15.U)\n",
    "  c.io.sel.expect(\"b11\".U)\n",
    "  c.io.sub.expect(0.U)\n",
    "  c.io.write_sel.expect(0.U)  \n",
    "  c.io.write_en.expect(1.U)\n",
    "  c.io.result_sel.expect(0.U)\n",
    "  c.io.freeze_pc.expect(0.U)\n",
    "  // test load instr\n",
    "  c.io.instruction.poke(\"b0111111111111100\".U)  // r4 = mem[r7-1]\n",
    "  c.io.read_sel_b.expect(7.U)\n",
    "  c.io.alu_a_sel.expect(0.U)\n",
    "  c.io.im.expect(\"b1111111111111111\".U)\n",
    "  c.io.sel.expect(\"b11\".U)\n",
    "  c.io.sub.expect(0.U)\n",
    "  c.io.write_sel.expect(0.U)    \n",
    "  c.io.write_en.expect(0.U)\n",
    "  c.io.result_sel.expect(0.U)\n",
    "  c.io.freeze_pc.expect(1.U)\n",
    "  c.clock.step()  \n",
    "  c.io.write_sel.expect(4.U)    \n",
    "  c.io.write_en.expect(0.U)\n",
    "  c.io.result_sel.expect(1.U)\n",
    "  c.io.freeze_pc.expect(0.U)\n",
    "        \n",
    "}\n",
    "println(\"SUCCESS!!\")"
   ]
  },
  {
   "cell_type": "markdown",
   "id": "7d50c952",
   "metadata": {},
   "source": [
    "## Άσκηση 2: Η νέα μορφή του module Cpu\n",
    "Προσθέστε στο module `Cpu` που έχετε από προηγούμενα εργαστήρια τις συνδέσεις των νέων σημάτων:\n",
    "\n",
    "1. Το `freeze_pc` (έξοδος από το `DecodeUnit`, είσοδος στο `FetchUnit`).\n",
    "2. Το `write_en` (έξοδος από το `DecodeUnit`, είσοδος στο `DataPath`).\n",
    "3. Το `result_sel` (έξοδος από το `DecodeUnit`, είσοδος στο `DataPath`)."
   ]
  },
  {
   "cell_type": "code",
   "execution_count": null,
   "id": "c9399b2a",
   "metadata": {},
   "outputs": [],
   "source": [
    "class Cpu(instructions: Seq[UInt]) extends Module {\n",
    "\n",
    "  // ..συμπληρώστε..  \n",
    "    \n",
    "}"
   ]
  },
  {
   "cell_type": "markdown",
   "id": "ab025120",
   "metadata": {},
   "source": [
    "Δοκιμάστε το νέο module `Cpu` εκτελώντας το παρακάτω:"
   ]
  },
  {
   "cell_type": "code",
   "execution_count": null,
   "id": "062cd1fb",
   "metadata": {},
   "outputs": [],
   "source": [
    "\n",
    "val instructions = List(\"b0010000001010001\".U,  // r1 = 10       (limit = 10)\n",
    "                        \"b0010000000000010\".U,  // r2 = 0        (sum = 0)\n",
    "                        \"b0010000000001011\".U,  // r3 = 1        (counter = 1)\n",
    "                        \"b0010000000001100\".U,  // r4 = 1        (constant 1)\n",
    "                        \"b0000011010011010\".U,  // r2 = r2 + r3  (sum = sum + counter)\n",
    "                        \"b1110000010011000\".U,  // mem[r3+0] = r2\n",
    "                        \"b0000011011100011\".U,  // r3 = r3 + r4  (counter++)\n",
    "                        \"b0000111001100001\".U,  // r1 = r1 - r4  (limit--)\n",
    "                        \"b0100000001000001\".U,  // beq r1,r0,+1  (if limit==0 then pc <- (pc+1)+1)\n",
    "                        \"b0101111000000010\".U,  // beq r0,r0,-6  (pc <- (pc+1)-6)\n",
    "                        \"b0000001010000000\".U,  // r0 = r2 or r0 (to show r2 contents, total sum 1+2+3..+10)\n",
    "                        // second part of program\n",
    "                        \"b0010000000001011\".U,  // r3 = 1        (counter = 1)\n",
    "                        \"b0010000001011001\".U,  // r1 = 11       (limit = 11)\n",
    "                        \"b0110000000011000\".U,  // r0 = mem[r3+0](to show mem contents)\n",
    "                        \"b0000011011100011\".U,  // r3 = r3 + r4  (counter++)\n",
    "                        \"b0100000001011001\".U,  // beq r1,r3,+1  (if counter==limit then pc <- (pc+1)+1)\n",
    "                        \"b0101111000000100\".U,  // beq r0,r0,-4  (pc <- (pc+1)-4)\n",
    "                        \"b0011111111111000\".U,  // r0 = 0xFFFF   (show 0xFFFF marker)\n",
    "                       )\n",
    "\n",
    "test(new Cpu(instructions)) { c =>\n",
    "  // first part of program, compute and store to memory partial sums from 1 to 10  \n",
    "  for (i <- 0 until 63) {\n",
    "    //println(c.io.results.peek())  \n",
    "    c.clock.step()\n",
    "  }\n",
    "  c.io.results.expect(55.U) // sum(1..10)\n",
    "  \n",
    "  // second part of program, retrieve from memory partial sums from 1 to 10\n",
    "  c.clock.step()\n",
    "  c.clock.step()  \n",
    "  for (i <- 0 until 10) {\n",
    "    c.clock.step()  // 2 cycles for load instruction\n",
    "    c.clock.step()  \n",
    "    println(c.io.results.peek())  \n",
    "    c.clock.step()\n",
    "    c.clock.step()\n",
    "    c.clock.step()  \n",
    "  }\n",
    "  c.io.results.expect(65535.U)   // 0xFFFF, reached end of program\n",
    "}\n",
    "println(\"SUCCESS!!\")"
   ]
  },
  {
   "cell_type": "markdown",
   "id": "7ad0403e",
   "metadata": {},
   "source": [
    "## Ανεβάστε τη λύση σας στο opencourses\n",
    "Ανεβάστε το τελικό σας notebook στο opencourses (**Εργασία 4**) έως και τη **Δευτέρα 30/1**.\n",
    "\n",
    "*(Ίσως χρειαστεί να κάνετε zip το αρχείο ipynb για να γίνει αποδεκτό από το σύστημα)*\n"
   ]
  }
 ],
 "metadata": {
  "kernelspec": {
   "display_name": "Scala",
   "language": "scala",
   "name": "scala"
  },
  "language_info": {
   "codemirror_mode": "text/x-scala",
   "file_extension": ".scala",
   "mimetype": "text/x-scala",
   "name": "scala",
   "nbconvert_exporter": "script",
   "version": "2.12.10"
  }
 },
 "nbformat": 4,
 "nbformat_minor": 5
}
