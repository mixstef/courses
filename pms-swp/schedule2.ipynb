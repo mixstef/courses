{
 "cells": [
  {
   "cell_type": "markdown",
   "metadata": {
    "deletable": true,
    "editable": true
   },
   "source": [
    "# Από το μοντέλο EAV στους γράφους τριάδων\n",
    "\n",
    "Συνέχεια της προηγούμενης άσκησης. Θα πρέπει να έχετε ήδη έτοιμο το csv με το ωρολόγιο πρόγραμμα σε μορφή EAV (τρεις στήλες, **χωρίς επικεφαλίδες**).\n",
    "\n",
    "\n",
    "## 1. Φορτώστε το csv σε μια λίστα\n",
    "Τώρα πια πρέπει να ξέρετε πώς να το κάνετε. Συμπληρώστε στο επόμενο κελί.\n",
    "\n",
    "*Πρόβλημα; Συμβουλευτείτε [τη λύση](https://gist.github.com/mixstef/4bd2bce3f543be02e1b375db5f11b92b#file-part3-py) από την προηγούμενη άσκηση. **Αποφύγετε το copy-paste!** *"
   ]
  },
  {
   "cell_type": "code",
   "execution_count": 6,
   "metadata": {
    "collapsed": false,
    "deletable": true,
    "editable": true
   },
   "outputs": [],
   "source": [
    "#import csv\n",
    "\n",
    "#eavlist = []\n",
    "\n",
    "\n",
    "# φορτώστε εδώ το csv σας σε μια λίστα        \n",
    "\n",
    "#print(eavlist)"
   ]
  },
  {
   "cell_type": "markdown",
   "metadata": {
    "deletable": true,
    "editable": true
   },
   "source": [
    "## 2. Σημειώστε αναγνωριστικά και απλές τιμές\n",
    "\n",
    "Για να είναι ευκολότερη η μελλοντική επεξεργασία, ας \"επισημειώσουμε\" τι είναι κάθε μέρος των τριάδων:\n",
    "\n",
    "* Αν είναι **ανώνυμος κόμβος** (blank nodes), βάλτε μπροστά από το ονομά του το string `'_:'`\n",
    "* Αν είναι **απλή τιμή** (literal), βάλτε μπροστά από την τιμή του το string `'#:'`\n",
    "* Σε κάθε άλλη περίπτωση έχετε **οντότητες** (entities), βάλτε ως πρόθεμα το string `'@:'`\n",
    "\n",
    "**Σημείωση:** *τα προθέματα αυτά είναι **αυθαίρετα**. Θα το διορθώσουμε όμως όταν μάθουμε τα πρότυπα αποθήκευσης τριάδων.*\n",
    "\n",
    "Στην Python μπορείτε να συνενώσετε δύο strings με το `+`:\n",
    "\n",
    "```python\n",
    "a = 'somestring'\n",
    "b = '_:'+a\n",
    "print(b)    # will print '_:somestring'\n",
    "```\n",
    "\n",
    "### Ο στόχος σας\n",
    "\n",
    "Σαρώστε την αρχική λίστα και μετατρέψτε (μέσω Python) σε νέα λίστα, όπου τα μέρη των τριάδων θα έχουν όλα το κατάλληλο πρόθεμα:\n",
    "\n",
    "* Η Ημέρα, Ωρα Έναρξης/Λήξης, Εξάμηνο είναι απλές τιμές (literals)\n",
    "* Το πρώτο μέρος κάθε τριάδας (id Διάλεξης) είναι ανώνυμος κόμβος\n",
    "\n",
    "Συμπληρώστε στο επόμενο κελί."
   ]
  },
  {
   "cell_type": "code",
   "execution_count": 1,
   "metadata": {
    "collapsed": false,
    "deletable": true,
    "editable": true
   },
   "outputs": [],
   "source": [
    "\n",
    "#triples = []\n",
    "#for e,a,v in eavlist:\n",
    "\n",
    "# η μετατροπή σας εδώ\n",
    "\n",
    "\n",
    "#print(triples)"
   ]
  },
  {
   "cell_type": "markdown",
   "metadata": {
    "deletable": true,
    "editable": true
   },
   "source": [
    "## 3. Πόσοι οι κόμβοι του γράφου;\n",
    "\n",
    "Στο θεωρητικό μέρος του μαθήματος είδαμε ότι το σύνολο των τριάδων σχηματίζει έναν γράφο.\n",
    "Βρείτε (μέσω Python πάντα!) πόσους κόμβους θα έχει ο γράφος που σχηματίζεται από το ωρολόγιο πρόγραμμα. Πόσοι κόμβοι είναι **ανώνυμοι**; πόσοι είναι **απλές τιμές** (literals); και πόσοι κόμβοι είναι **οντότητες**;\n",
    "\n",
    "*Χρησιμοποιήστε την επισημειωμένη λίστα `triples` για να βρείτε τα είδη των κόμβων.*\n",
    "\n",
    "*Για να μετρήσετε **μία φορά μόνο** ένα όνομα με πολλαπλές εμφανίσεις μπορείτε να χρησιμοποιήσετε ένα set (σύνολο). Δείτε το παράδειγμα:*\n",
    "\n",
    "```python\n",
    "s = set()\n",
    "s.add('a')\n",
    "s.add('b')\n",
    "s.add('a')\n",
    "print(s)        # will print {'a', 'b'}\n",
    "print(len(s))   # will print 2\n",
    "```\n",
    "\n",
    "*Για να ελέγξετε το πρόθεμα ενός string μπορείτε να χρησιμοποιήσετε τη συνάρτηση `startswith()`. Δείτε το παράδειγμα:*\n",
    "\n",
    "```python\n",
    "a = '#:124'\n",
    "if a.startswith('#:'):\n",
    "    print('yes')         # will print 'yes'\n",
    "```\n",
    "\n",
    "Δώστε τη λύση σας στο επόμενο κελί:"
   ]
  },
  {
   "cell_type": "code",
   "execution_count": 9,
   "metadata": {
    "collapsed": false,
    "deletable": true,
    "editable": true
   },
   "outputs": [],
   "source": [
    "\n",
    "        \n",
    "#print('Entities:{} Blank nodes:{} Literals:{}'.format(len(entities),len(blanks),literals))"
   ]
  },
  {
   "cell_type": "markdown",
   "metadata": {
    "deletable": true,
    "editable": true
   },
   "source": [
    "## 4. Αποθηκεύστε τις νέες τριάδες.\n",
    "\n",
    "Αποθηκεύστε τις επισημειωμένες τριάδες (τη λίστα `triples`) σε νέο csv.\n",
    "\n",
    "*Ακολουθήστε το υπόδειγμα:*\n",
    "\n",
    "```python\n",
    "with open('your.csv','w',newline='') as ofp:\n",
    "    writer = csv.writer(ofp)\n",
    "    \n",
    "    # για κάθε τριάδα s,p,o\n",
    "    writer.writerow([s,p,o])\n",
    "```\n",
    "\n",
    "**Θυμηθείτε:** δεν θέλουμε επικεφαλίδες στο csv αυτό!\n"
   ]
  },
  {
   "cell_type": "code",
   "execution_count": 10,
   "metadata": {
    "collapsed": false,
    "deletable": true,
    "editable": true
   },
   "outputs": [],
   "source": [
    "# αποθηκεύστε το νέο csv εδώ"
   ]
  }
 ],
 "metadata": {
  "kernelspec": {
   "display_name": "Python 3",
   "language": "python",
   "name": "python3"
  },
  "language_info": {
   "codemirror_mode": {
    "name": "ipython",
    "version": 3
   },
   "file_extension": ".py",
   "mimetype": "text/x-python",
   "name": "python",
   "nbconvert_exporter": "python",
   "pygments_lexer": "ipython3",
   "version": "3.4.4"
  }
 },
 "nbformat": 4,
 "nbformat_minor": 0
}
