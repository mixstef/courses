{
 "cells": [
  {
   "cell_type": "markdown",
   "metadata": {
    "deletable": true,
    "editable": true
   },
   "source": [
    "# Μετατρέποντας στη μορφή N-Triples\n",
    "\n",
    "Ολοκληρώνουμε την κατασκευή του ωρολογίου προγράμματος, μετατρέποντας τις τριάδες στο πρότυπο μορφότυπο [N-Triples](http://www.w3.org/TR/n-triples/).\n",
    "\n",
    "## 1. Φορτώστε τις τριάδες\n",
    "\n",
    "Βάλτε σε μια λίστα τις τριάδες από το τελικό csv του προηγούμενου εργαστηρίου. Αυτές θα πρέπει:\n",
    "\n",
    "* Να χρησιμοποιούν URIs με νόμιμους χαρακτήρες\n",
    "* Να έχουν σημειωμένους τους ανώνυμους κόμβους με το πρόθεμα `_:`\n",
    "* Όλα τα URIs να έχουν τη μορφή http URIs\n",
    "\n",
    "    * `http://dilab77.ionio.gr/swp/you/vocab#` για τα κατηγορήματα\n",
    "    * `http://dilab77.ionio.gr/swp/you/resource/` για τα υπόλοιπα URIs\n",
    "    \n",
    "    όπου you πρέπει να είναι το username που έχετε στο JupyterHub.\n",
    "   "
   ]
  },
  {
   "cell_type": "code",
   "execution_count": 1,
   "metadata": {
    "collapsed": false,
    "deletable": true,
    "editable": true
   },
   "outputs": [],
   "source": [
    "# φορτώστε τις τριάδες από το αρχείο csv σε μια λίστα"
   ]
  },
  {
   "cell_type": "markdown",
   "metadata": {
    "deletable": true,
    "editable": true
   },
   "source": [
    "## 2. Καθορίστε τους τύπους δεδομένων\n",
    "\n",
    "Οι απλές τιμές (literals) πρέπει να μετατραπούν σε **έγκυρη σύνταξη N-Triples**. Μέσω της Python\n",
    "\n",
    "* Εκφράστε τις ημέρες και το εξάμηνο σε απλά strings (π.χ. `\"Δευτέρα\"`).\n",
    "* Μετατρέψτε τις ώρες στο τύπο `xsd:time`.\n",
    "* Όλα τα URIs πρέπει να είναι μέσα σε `< >`.\n",
    "\n",
    "Ανατρέξτε στις διαφάνειες της τρέχουσας ενότητας για τη σωστή σύνταξη των προηγούμενων!\n",
    "\n",
    "**Σημείωση:** Ο τύπος `xsd:time` **πρέπει υποχρεωτικά** να έχει τη μορφή (ώρα, λεπτά, δευτερόλεπτα), π.χ. `\"18:00:00\"^^<http://www.w3.org/2001/XMLSchema#time>`."
   ]
  },
  {
   "cell_type": "code",
   "execution_count": 2,
   "metadata": {
    "collapsed": false,
    "deletable": true,
    "editable": true
   },
   "outputs": [],
   "source": [
    "# εφαρμόστε τις μετατροπές φτιάχνοντας μια νέα λίστα τριάδων"
   ]
  },
  {
   "cell_type": "markdown",
   "metadata": {
    "deletable": true,
    "editable": true
   },
   "source": [
    "## 3. Παραγωγή αρχείου N-triples\n",
    "\n",
    "Στο τελευταίο αυτό βήμα, αποθηκεύστε το περιεχόμενο των τριάδων σε αρχείο κειμένου σύμφωνα με το πρότυπο N-Triples. Το αρχείο σας θα πρέπει να έχει κατάληξη `.nt` .\n",
    "\n",
    "**Θυμηθείτε**: κάθε γραμμή ενός αρχείου N-Triples περιέχει **ακριβώς μία** τριάδα, με τα μέρη των τριάδων χωρισμένα με κενό (space). Η γραμμή τελειώνει με την **τελεία**."
   ]
  },
  {
   "cell_type": "markdown",
   "metadata": {
    "deletable": true,
    "editable": true
   },
   "source": [
    "#### Υποδειξη: μορφοποίηση strings\n",
    "\n",
    "Μια απλή μορφοποίηση ενός string μπορεί να γίνει ως εξής\n",
    "\n",
    "```python\n",
    "a = 1\n",
    "b = 2\n",
    "print('{}+{}={}'.format(a,b,a+b))\n",
    "```\n",
    "\n",
    "Χρησιμοποιήστε τη `format()` όπως στο παράδειγμα για να φτιάξετε κάθε γραμμή του αρχείου N-Triples. Όταν φτάσετε στο επιθυμητό αποτέλεσμα, αντικαταστήστε την `print()` με τη μέθοδο `write()` του αρχείου εξόδου. Προσοχή: η `write()` δεν προσθέτει αυτόματα χαρακτήρα νέας γραμμής `\\n`, πρέπει να τον βάλετε εσείς!"
   ]
  },
  {
   "cell_type": "code",
   "execution_count": 7,
   "metadata": {
    "collapsed": false,
    "deletable": true,
    "editable": true
   },
   "outputs": [],
   "source": [
    "# with open('yourfile.nt','w') as ofp:\n",
    "#    for s,p,o in newtriples:\n",
    "#        ofp.write(...)"
   ]
  },
  {
   "cell_type": "markdown",
   "metadata": {
    "deletable": true,
    "editable": true
   },
   "source": [
    "## 4. Είναι το αρχείο σας έγκυρο;\n",
    "\n",
    "Βεβαιωθείτε ότι το αρχείο σας έχει έγκυρη μορφή N-Triples. Αυτό θα το κάνετε μέσω του εργαλείου `riot`. Στο επόμενο κελί εισάγετε το εξής:\n",
    "\n",
    "`!riot --validate yourfile.nt`\n",
    "\n",
    "Περιμένετε μέχρι να ολοκληρωθεί η εκτέλεση (να μην φαίνεται `In [*]`). **Αν το αρχείο σας είναι ΟΚ, δεν θα δείτε τίποτα ως έξοδο!**"
   ]
  },
  {
   "cell_type": "code",
   "execution_count": 4,
   "metadata": {
    "collapsed": false,
    "deletable": true,
    "editable": true
   },
   "outputs": [],
   "source": [
    "# δώστε την εντολή του παραδείγματος"
   ]
  },
  {
   "cell_type": "markdown",
   "metadata": {
    "deletable": true,
    "editable": true
   },
   "source": [
    "## 5. Δεδομένα RDF σε άλλες μορφές.\n",
    "\n",
    "Εφόσον έχετε έγκυρο αρχείο N-Triples, μπορείτε να το μετατρέψετε σε διάφορες άλλες μορφές. Το εργαλείο `riot` θα σας βοηθήσει πάλι:\n",
    "\n",
    "Δοκιμάστε την εντολή `!riot --output=FMT yourfile.nt`, βάζοντας στη θέση του `FMT` τα `turtle` και `rdfxml`. Η έξοδος θα φανεί στην οθόνη σας.\n",
    "\n",
    "Αν θέλετε να σώσετε σε νέο αρχείο την καινούργια μορφή, δώστε π.χ.:\n",
    "\n",
    "`!riot --output=turtle yourfile.nt > yourfile.ttl`"
   ]
  },
  {
   "cell_type": "code",
   "execution_count": 5,
   "metadata": {
    "collapsed": false,
    "deletable": true,
    "editable": true
   },
   "outputs": [],
   "source": [
    "# δοκιμάστε με output=turtle ή output=rdfxml"
   ]
  },
  {
   "cell_type": "code",
   "execution_count": 6,
   "metadata": {
    "collapsed": true,
    "deletable": true,
    "editable": true
   },
   "outputs": [],
   "source": [
    "# δοκιμάστε να μετατρέψετε σε νέο αρχείο μορφής Turtle"
   ]
  },
  {
   "cell_type": "markdown",
   "metadata": {
    "deletable": true,
    "editable": true
   },
   "source": [
    "## Το τέλος του ωρολογίου προγράμματος.\n",
    "\n",
    "**Συγχαρητήρια!!** Μόλις περάσατε από τα ad hoc σημασιολογικά δεδομένα σε πρότυπες μορφές αναπαράστασης. Τώρα πλέον μπορείτε να επεξεργαστείτε τα δεδομένα σας με όλα τα διαθέσιμα εργαλεία του Σημασιολογικού Ιστού!"
   ]
  }
 ],
 "metadata": {
  "kernelspec": {
   "display_name": "Python 3",
   "language": "python",
   "name": "python3"
  },
  "language_info": {
   "codemirror_mode": {
    "name": "ipython",
    "version": 3
   },
   "file_extension": ".py",
   "mimetype": "text/x-python",
   "name": "python",
   "nbconvert_exporter": "python",
   "pygments_lexer": "ipython3",
   "version": "3.5.2"
  }
 },
 "nbformat": 4,
 "nbformat_minor": 0
}
