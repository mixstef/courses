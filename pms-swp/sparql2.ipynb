{
 "cells": [
  {
   "cell_type": "markdown",
   "metadata": {},
   "source": [
    "# Ερωτήματα σε SPARQL endpoints\n",
    "\n",
    "Στην άσκηση αυτή εξασκούμαστε στην αποστολή ερωτημάτων σε SPARQL endpoints στο web και επεξεργαζόμαστε τα αποτελέσματα."
   ]
  },
  {
   "cell_type": "markdown",
   "metadata": {},
   "source": [
    "## 1. Δοκιμαστικές ερωτήσεις\n",
    "Χρησιμοποιήστε το εργαλείο `curl` για να στείλετε ένα SELECT ερώτημα SPARQL από το αρχείο `your_file.rq` προς τη διεύθυνση `http://endpoint.url/sparql`. Η εντολή είναι της μορφής:\n",
    "\n",
    "```\n",
    "!curl --data-urlencode query@your_file.rq  http://endpoint.url/sparql\n",
    "```\n",
    "\n",
    "*Σημ: με το πιο πάνω ερώτημα δεν προσδιορίζουμε επιθυμητή μορφή δεδομένων, το SPARQL endpoint θα μας επιστρέψει την default μορφή.*"
   ]
  },
  {
   "cell_type": "code",
   "execution_count": 1,
   "metadata": {
    "collapsed": false
   },
   "outputs": [],
   "source": [
    "#!curl ...δοκιμάστε το παράδειγμα της διαφάνειας 5...\n"
   ]
  },
  {
   "cell_type": "markdown",
   "metadata": {},
   "source": [
    "**Διαπραγμάτευση επιστρεφόμενου περιεχομένου**\n",
    "Μπορείτε να ζητήσετε εναλλακτική μορφή επιστρεφόμενων δεδομένων ως εξής:\n",
    "\n",
    "```\n",
    "!curl --data-urlencode query@your_file.rq  http://endpoint.url/sparql -H 'Accept: application/sparql-results+json'\n",
    "```"
   ]
  },
  {
   "cell_type": "code",
   "execution_count": 2,
   "metadata": {
    "collapsed": false
   },
   "outputs": [],
   "source": [
    "#!curl ...δοκιμάστε το παράδειγμα της διαφάνειας 8\n"
   ]
  },
  {
   "cell_type": "markdown",
   "metadata": {},
   "source": [
    "## 2. Δοκιμαστικές ερωτήσεις μέσω Python\n",
    "\n",
    "Μπορείτε να ζητήσετε και να επεξεργαστείτε δεδομένα από SPARQL endpoints με τη βοήθεια της Python. Δείτε [τα παραδείγματα](https://gist.github.com/mixstef/49ed178928945cdc832c#file-linkedmdb0a-xml-py). Φορτώστε τα 2 αρχεία .py στο jupyterhub και δοκιμάστε τα στη συνέχεια."
   ]
  },
  {
   "cell_type": "code",
   "execution_count": 3,
   "metadata": {
    "collapsed": false
   },
   "outputs": [],
   "source": [
    "#%run linkedmdb0a-xml.py\n"
   ]
  },
  {
   "cell_type": "code",
   "execution_count": 4,
   "metadata": {
    "collapsed": false
   },
   "outputs": [],
   "source": [
    "# κάντε το ίδιο για το παράδειγμα με τη μορφή json\n"
   ]
  },
  {
   "cell_type": "markdown",
   "metadata": {},
   "source": [
    "## 3. Ρωτήστε κι εσείς!\n",
    "\n",
    "Επισκεφτείτε το site [Linked Movie Database](http://www.linkedmdb.org/) και δείτε το παράδειγμα αναπαράστασης της πληροφορίας ενός φίλμ σε τριάδες RDF.\n",
    "\n",
    "Στη συνέχεια, τροποποιήστε το προηγούμενο ερώτημα έτσι ώστε να λαμβάνετε τις ταινίες του Τζακ Νίκολσον και την ημερομηνία κυκλοφορίας τους, ταξινομημένες με φθίνουσα ημερομηνία.\n",
    "\n",
    " * Το URI του ηθοποιού είναι <http://data.linkedmdb.org/resource/actor/29704>\n",
    " * Ετοιμάστε την ερώτηση σε ένα αρχείο .rq\n",
    " * Δοκιμάστε με το curl **σε μορφή json**"
   ]
  },
  {
   "cell_type": "code",
   "execution_count": 6,
   "metadata": {
    "collapsed": false
   },
   "outputs": [],
   "source": [
    "#!cat your_file.rq\n"
   ]
  },
  {
   "cell_type": "code",
   "execution_count": 7,
   "metadata": {
    "collapsed": false
   },
   "outputs": [],
   "source": [
    "#!curl ...\n"
   ]
  },
  {
   "cell_type": "markdown",
   "metadata": {},
   "source": [
    "Δοκιμάστε στη συνέχεια το ίδιο ερώτημα μέσω Python (συμβουλευτείτε τα [παραδείγματα](https://gist.github.com/mixstef/49ed178928945cdc832c#file-linkedmdb0a-xml-py))."
   ]
  },
  {
   "cell_type": "code",
   "execution_count": 9,
   "metadata": {
    "collapsed": false
   },
   "outputs": [],
   "source": [
    "#%run your_file.py\n"
   ]
  },
  {
   "cell_type": "markdown",
   "metadata": {},
   "source": [
    "## 4. Η χρήση του OPTIONAL\n",
    "Δοκιμάστε τα παραδείγματα των διαφανειών 16 και 17. Βεβαιωθείτε ότι με τη χρήση του OPTIONAL επιστρέφονται απαντήσεις χωρίς τοποθεσία.\n",
    "\n",
    "* Γράψτε τα ερωτήματα SPARQL σε αρχεία .rq\n",
    "* Δοκιμάστε μέσω του `curl`"
   ]
  },
  {
   "cell_type": "code",
   "execution_count": 10,
   "metadata": {
    "collapsed": false
   },
   "outputs": [],
   "source": [
    "#!cat query_no_optional.rq\n"
   ]
  },
  {
   "cell_type": "code",
   "execution_count": 11,
   "metadata": {
    "collapsed": false
   },
   "outputs": [],
   "source": [
    "#!curl ...\n"
   ]
  },
  {
   "cell_type": "code",
   "execution_count": 12,
   "metadata": {
    "collapsed": false
   },
   "outputs": [],
   "source": [
    "#!cat query_with_optional.rq\n"
   ]
  },
  {
   "cell_type": "code",
   "execution_count": 13,
   "metadata": {
    "collapsed": false
   },
   "outputs": [],
   "source": [
    "#!curl ...\n"
   ]
  },
  {
   "cell_type": "markdown",
   "metadata": {},
   "source": [
    "## 5. Αναζήτηση με κανονικές εκφράσεις\n",
    "Βρείτε ηθοποιούς που το όνομά τους αρχίζει από Kevin! Δοκιμάστε το παράδειγμα της διαφάνειας 20."
   ]
  },
  {
   "cell_type": "code",
   "execution_count": 14,
   "metadata": {
    "collapsed": false
   },
   "outputs": [],
   "source": [
    "#!cat regex.rq\n"
   ]
  },
  {
   "cell_type": "code",
   "execution_count": 16,
   "metadata": {
    "collapsed": false
   },
   "outputs": [],
   "source": [
    "#!curl ..."
   ]
  },
  {
   "cell_type": "markdown",
   "metadata": {
    "collapsed": true
   },
   "source": [
    "## 6. Επιλογή γλώσσας\n",
    "Ζητήστε τις ετικέτες (labels) για την `Κέρκυρα`, χωρίς και με επιλογή γλώσσας. Δοκιμάστε τα 2 παραδείγματα της διαφάνειας 21.\n",
    "\n",
    "* Χρησιμοποιήστε το `curl`\n",
    "* Στη default μορφή (xml)"
   ]
  },
  {
   "cell_type": "code",
   "execution_count": 17,
   "metadata": {
    "collapsed": false
   },
   "outputs": [],
   "source": [
    "#!cat labels_no_lang.rq"
   ]
  },
  {
   "cell_type": "code",
   "execution_count": 18,
   "metadata": {
    "collapsed": false
   },
   "outputs": [],
   "source": [
    "#!curl ..."
   ]
  },
  {
   "cell_type": "code",
   "execution_count": 19,
   "metadata": {
    "collapsed": false
   },
   "outputs": [],
   "source": [
    "#!cat labels_with_lang.rq"
   ]
  },
  {
   "cell_type": "code",
   "execution_count": 20,
   "metadata": {
    "collapsed": false
   },
   "outputs": [],
   "source": [
    "#!curl ..."
   ]
  },
  {
   "cell_type": "markdown",
   "metadata": {},
   "source": [
    "## 7. Δοκιμάστε κι εσείς\n",
    "Αρχικά, επισκεφτείτε το http://fr.dbpedia.org/resource/Catégorie:Île_de_Grèce και παρατηρήστε πώς περιγράφονται τα νησιά της Ελλάδας. Στη συνέχεια χρησιμοποιήστε το endpoint\n",
    "http://fr.dbpedia.org/sparql\n",
    "\n",
    "* Ρωτήστε για όλες τις οντότητες (νησιά) που ανήκουν (prop-fr:catégorie) στην κατηγορία αυτή\n",
    "* Χρησιμοποιήστε το `PREFIX prop-fr: <http://fr.dbpedia.org/property/>`\n",
    "* Στα αποτελέσματα δείξτε το URI και τον πληθυσμό κάθε νησιού (ιδιότητα `prop-fr:population`)\n",
    "* Ταξινομήστε τα αποτελέσματα κατά φθίνουσα σειρά πληθυσμού"
   ]
  },
  {
   "cell_type": "code",
   "execution_count": 21,
   "metadata": {
    "collapsed": false
   },
   "outputs": [],
   "source": [
    "#!cat your_file.rq"
   ]
  },
  {
   "cell_type": "code",
   "execution_count": 22,
   "metadata": {
    "collapsed": false
   },
   "outputs": [],
   "source": [
    "#!curl .."
   ]
  },
  {
   "cell_type": "markdown",
   "metadata": {},
   "source": [
    "## 8. Εύρεση μεγίστου (SPARQL 1.1)\n",
    "Δοκιμάστε το παράδειγμα της διαφάνειας 24."
   ]
  },
  {
   "cell_type": "code",
   "execution_count": 23,
   "metadata": {
    "collapsed": false
   },
   "outputs": [],
   "source": [
    "#!cat ..\n",
    "#!curl .."
   ]
  },
  {
   "cell_type": "markdown",
   "metadata": {},
   "source": [
    "## 9. Υποερωτήματα\n",
    "Δοκιμάστε το παράδειγμα της διαφάνειας 25."
   ]
  },
  {
   "cell_type": "code",
   "execution_count": 24,
   "metadata": {
    "collapsed": false
   },
   "outputs": [],
   "source": [
    "#!cat ..\n",
    "#!curl .."
   ]
  },
  {
   "cell_type": "markdown",
   "metadata": {},
   "source": [
    "## 10. GROUP BY και HAVING\n",
    "Ομαδοποιήστε τα νησιά του παραδείγματος, σύμφωνα με το παράδειγμα της διαφάνειας 26."
   ]
  },
  {
   "cell_type": "code",
   "execution_count": 25,
   "metadata": {
    "collapsed": false
   },
   "outputs": [],
   "source": [
    "#!cat ..\n",
    "#!curl .."
   ]
  }
 ],
 "metadata": {
  "kernelspec": {
   "display_name": "Python 3",
   "language": "python",
   "name": "python3"
  },
  "language_info": {
   "codemirror_mode": {
    "name": "ipython",
    "version": 3
   },
   "file_extension": ".py",
   "mimetype": "text/x-python",
   "name": "python",
   "nbconvert_exporter": "python",
   "pygments_lexer": "ipython3",
   "version": "3.4.3"
  }
 },
 "nbformat": 4,
 "nbformat_minor": 0
}
