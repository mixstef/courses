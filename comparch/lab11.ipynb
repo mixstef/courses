{
 "cells": [
  {
   "cell_type": "markdown",
   "id": "0529654b",
   "metadata": {},
   "source": [
    "# Εργαστήριο 11\n",
    "Όπως και στα προηγούμενα εργαστήρια συνεχίζουμε στο περιβάλλον του [online chisel bootcamp](https://mybinder.org/v2/gh/freechipsproject/chisel-bootcamp/master).\n",
    "\n",
    "Πριν ξεκινήσετε, εκτελέστε τα επόμενα 2 κελιά:"
   ]
  },
  {
   "cell_type": "code",
   "execution_count": null,
   "id": "7068aa27-1cce-40f4-a0da-0fa555842407",
   "metadata": {
    "scrolled": true
   },
   "outputs": [],
   "source": [
    "val path = System.getProperty(\"user.dir\") + \"/source/load-ivy.sc\"\n",
    "interp.load.module(ammonite.ops.Path(java.nio.file.FileSystems.getDefault().getPath(path)))"
   ]
  },
  {
   "cell_type": "code",
   "execution_count": null,
   "id": "66ca42e1-fb27-4865-963f-b13efa3a3906",
   "metadata": {
    "scrolled": true
   },
   "outputs": [],
   "source": [
    "import chisel3._\n",
    "import chisel3.util._\n",
    "import chisel3.tester._\n",
    "import chisel3.tester.RawTester.test\n",
    "import dotvisualizer._"
   ]
  },
  {
   "cell_type": "markdown",
   "id": "7e821a29",
   "metadata": {},
   "source": [
    "## Εντολή διακλάδωσης σε περίπτωση ισότητας (branch if equal - beq)\n",
    "Στο εργαστήριο αυτό θα κάνετε προσθήκες στα υπάρχοντα modules για να υλοποιήσετε την εντολή διακλάδωσης σε περίπτωση ισότητας:\n",
    "\n",
    "`beq Rsrc1,Rsrc2,Offset`\n",
    "\n",
    "Η εντολή αυτή θα έχει την εξής λειτουργικότητα:\n",
    "\n",
    "`if Rscr1 - Rsrc2 == 0 (δηλαδή περιεχόμενο Rscr1 == περιεχόμενο Rsrc2) then pc <- pc + Offset`\n",
    "\n",
    "όπου είναι:\n",
    "\n",
    "* `Rsrc1`: καταχωρητής εισόδου δεδομένων 1 (3 bits)\n",
    "* `Rsrc2`: καταχωρητής εισόδου δεδομένων 2 (3 bits)\n",
    "* `Offset`: σταθερά διακλάδωσης (ακέραιος με πρόσημο, 7 bits), προστίθεται στον pc\n",
    "\n",
    "Η κωδικοποίηση της εντολής αυτής έχει ως εξής:\n",
    "\n",
    "| `bits 15-13` | `bits 12-9` | `bits 8-6` | `bits 5-3` | `bits 2-0` |\n",
    "| --- | --- | --- | --- | --- |\n",
    "| `010` | `Offset[6:3]` | `Rsrc1` | `Rsrc2` | `Offset[2:0]` |\n",
    "\n",
    "\n",
    "Η υλοποίηση θα γίνει βηματικά, μέσα από 4 ασκήσεις:\n",
    "\n",
    "* **Άσκηση 1**: θα υλοποιήσετε ένα νέο module `BranchLogic` το οποίο θα ρυθμίζει το πώς και πότε θα γίνει διακλάδωση.\n",
    "* **Άσκηση 2**: Θα τροποποιήσετε το module `DataPath` έτσι ώστε να προσθέσετε μία έξοδο `zero`, η οποία θα είναι αληθής όταν το αποτέλεσμα της ALU είναι 0.\n",
    "* **Άσκηση 3**: εδώ θα προσθέσετε στο `DecodeUnit`τα σήματα ελέγχου για τη λειτουργικότητα την νέας εντολής `beq`.\n",
    "* **Άσκηση 4**: τελική διασύνδεση των νέων σημάτων στο συνολικό module `Cpu`."
   ]
  },
  {
   "cell_type": "markdown",
   "id": "1bbcba21",
   "metadata": {},
   "source": [
    "## Άσκηση 1: έλεγχος διακλαδώσεων (νέο module BranchLogic)\n",
    "Το νέο module `BranchLogic` θα έχει **4 εισόδους**:\n",
    "\n",
    "* `branch` (1 bit): αν είναι 1, η εκτελούμενη εντολή είναι εντολή διακλάδωσης.\n",
    "* `zero` (1 bit): αν είναι 1, η τρέχουσα πράξη στην ALU έδωσε μηδενικό αποτέλεσμα.\n",
    "* `branch_offset` (16 bits): αν πρέπει να γίνει διακλάδωση, αυτό πρέπει να προστεθεί στον επόμενο pc.\n",
    "* `next_pc` (16 bits): η τιμή του επόμενου pc. Σε αυτή την τιμή θα προστεθεί το `branch_offset`.\n",
    "\n",
    "Οι έξοδοι θα είναι 2:\n",
    "\n",
    "* `pc_sel` (1 bit): εάν **και** το `branch` **και** το `zero` είναι 1, τότε το `pc_sel` θα είναι 1 (δηλ. **και** η εντολή είναι διακλάδωση υπό συνθήκη **και** η συνθήκη είναι αληθής, άρα η διακλάδωση πρέπει να εκτελεστεί). Σε κάθε άλλη περίπτωση το `pc_sel` θα είναι 0.\n",
    "* `branch_pc` (16 bits): θα περιέχει τη νέα τιμή του pc σε περίπτωση διακλάδωσης (δηλ. `branch_pc = next_pc + branch_offset`).\n",
    "\n",
    "Συμπληρώστε τη λειτουργικότητα του module `BranchLogic` στο επόμενο κελί:"
   ]
  },
  {
   "cell_type": "code",
   "execution_count": null,
   "id": "b5922d51",
   "metadata": {},
   "outputs": [],
   "source": [
    "class BranchLogic extends Module {\n",
    "\n",
    "  val io = IO(new Bundle {\n",
    "    val branch = Input(UInt(1.W))  // from DecodeUnit\n",
    "    val zero = Input(UInt(1.W))  // from DataPath\n",
    "      \n",
    "    val branch_offset = Input(UInt(16.W))  // from DecodeUnit\n",
    "    val next_pc = Input(UInt(16.W))  // from FetchUnit\n",
    "      \n",
    "    val pc_sel = Output(UInt(1.W))  // to FetchUnit\n",
    "    val branch_pc = Output(UInt(16.W)) // to FetchUnit   \n",
    "  })\n",
    "    \n",
    "  // συμπληρώστε... \n",
    "}"
   ]
  },
  {
   "cell_type": "markdown",
   "id": "4231aea2",
   "metadata": {},
   "source": [
    "Δοκιμάστε το `BranchLogic` εκτελώντας το επόμενο κελί."
   ]
  },
  {
   "cell_type": "code",
   "execution_count": null,
   "id": "39e4f8bb",
   "metadata": {},
   "outputs": [],
   "source": [
    "test(new BranchLogic) { c =>\n",
    "  // test all 4 combinations of branch and zero inputs\n",
    "  c.io.branch.poke(0.U)\n",
    "  c.io.zero.poke(0.U)\n",
    "  c.io.pc_sel.expect(0.U)  \n",
    "\n",
    "  c.io.branch.poke(0.U)\n",
    "  c.io.zero.poke(1.U)\n",
    "  c.io.pc_sel.expect(0.U)\n",
    "    \n",
    "  c.io.branch.poke(1.U)\n",
    "  c.io.zero.poke(0.U)\n",
    "  c.io.pc_sel.expect(0.U)\n",
    "    \n",
    "  c.io.branch.poke(1.U)\n",
    "  c.io.zero.poke(1.U)\n",
    "  c.io.pc_sel.expect(1.U)\n",
    "    \n",
    "  // test addition of branch_offset ot next_pc\n",
    "  c.io.next_pc.poke(1.U)\n",
    "  c.io.branch_offset.poke(2.U)\n",
    "  c.io.branch_pc.expect(3.U)  \n",
    "\n",
    "  c.io.next_pc.poke(\"b1111111111111111\".U)\n",
    "  c.io.branch_offset.poke(1.U)\n",
    "  c.io.branch_pc.expect(0.U)  \n",
    "    \n",
    "}\n",
    "println(\"SUCCESS!!\")"
   ]
  },
  {
   "cell_type": "markdown",
   "id": "bd4d64ab",
   "metadata": {},
   "source": [
    "## Άσκηση 2: αλλαγές στο module DataPath\n",
    "Στην άσκηση αυτή θα τροποποιήσετε το module `DataPath` έτσι ώστε να προσθέσετε μία έξοδο `zero`, η οποία θα είναι αληθής όταν το αποτέλεσμα της τρέχουσας πράξης στην ALU είναι 0.\n",
    "\n",
    "Αρχικά, **αντιγράψτε** στο επόμενο κελί τον κώδικα του module `RegisterFile` από το προηγούμενο εργαστήριο (χωρίς αλλαγές):"
   ]
  },
  {
   "cell_type": "code",
   "execution_count": null,
   "id": "4c2a0c91",
   "metadata": {},
   "outputs": [],
   "source": [
    "class RegisterFile(register_width: Int, register_number: Int) extends Module {\n",
    "  \n",
    "  // αντιγράψτε από προηγούμενα\n",
    "    \n",
    "}"
   ]
  },
  {
   "cell_type": "markdown",
   "id": "353b4708",
   "metadata": {},
   "source": [
    "Στη συνέχεια **αντιγράψτε** στο επόμενο κελί τον κώδικα του module `Alu` από το προηγούμενο εργαστήριο (ομοίως χωρίς αλλαγές):"
   ]
  },
  {
   "cell_type": "code",
   "execution_count": null,
   "id": "9cdd844d",
   "metadata": {},
   "outputs": [],
   "source": [
    "class Alu(n: Int) extends Module {\n",
    "    \n",
    "  // αντιγράψτε από προηγούμενα\n",
    "    \n",
    "}"
   ]
  },
  {
   "cell_type": "markdown",
   "id": "77844fa7",
   "metadata": {},
   "source": [
    "Τέλος, **αντιγράψτε** τον κώδικα του module `Datapath` από το προηγούμενο εργαστήριο στο επόμενο κελί και **εκτελέστε τις εξής αλλαγές**:\n",
    "\n",
    "1. Προσθέστε την έξοδο `zero` (1 bit) στο bundle `io`:\n",
    "\n",
    "    ~~~scala\n",
    "        // zero output (1 when results = 0)\n",
    "        val zero = Output(UInt(1.W))\n",
    "    ~~~\n",
    "    \n",
    "2. Προσθέστε την αντίστοιχη λειτουργικότητα της εξόδου `io.zero`:\n",
    "\n",
    "    ~~~\n",
    "    «όταν το alu.io.out είναι 0.U τότε το io.zero θα είναι 1.U (και αντίστροφα)»\n",
    "    ~~~\n",
    "    \n"
   ]
  },
  {
   "cell_type": "code",
   "execution_count": null,
   "id": "0311560b",
   "metadata": {},
   "outputs": [],
   "source": [
    "class DataPath(word_width: Int, register_number: Int) extends Module {\n",
    "    \n",
    "  // αντιγράψτε από προηγούμενα και τροποποιήστε σύμφωνα με τις οδηγίες\n",
    "    \n",
    "}"
   ]
  },
  {
   "cell_type": "markdown",
   "id": "d1a9bfbb",
   "metadata": {},
   "source": [
    "Δοκιμάστε το `DataPath` μέσω του επόμενου κώδικα που εκτελεί ορισμένες λειτουργίες και ελέγχει αν το zero είναι το αναμενόμενο:"
   ]
  },
  {
   "cell_type": "code",
   "execution_count": null,
   "id": "e3cfa006",
   "metadata": {},
   "outputs": [],
   "source": [
    "test(new DataPath(16,8)) { c =>\n",
    "  // array of command bits (micro-instructions) and expected \"zero\" output\n",
    "  val cmdbits = List(Map(\"READ_SEL_A\" -> 0.U,    // r1 <- 33\n",
    "                         \"READ_SEL_B\" -> 0.U,\n",
    "                         \"ALU_A_SEL\" -> 0.U,\n",
    "                         \"IM\" -> 33.U,\n",
    "                         \"SEL\" -> \"b01\".U,\n",
    "                         \"SUB\" -> 0.U,\n",
    "                         \"WRITE_SEL\" -> 1.U,\n",
    "                         \"zero\" -> 0.U),\n",
    "                     Map(\"READ_SEL_A\" -> 1.U,    // r0 <- r1 - r1\n",
    "                         \"READ_SEL_B\" -> 1.U,\n",
    "                         \"ALU_A_SEL\" -> 1.U,\n",
    "                         \"IM\" -> 0.U,\n",
    "                         \"SEL\" -> \"b11\".U,\n",
    "                         \"SUB\" -> 1.U,\n",
    "                         \"WRITE_SEL\" -> 0.U,\n",
    "                         \"zero\" -> 1.U)\n",
    "                    )\n",
    "      \n",
    "  for (bits <- cmdbits) {\n",
    "    c.io.read_sel_a.poke(bits(\"READ_SEL_A\"))\n",
    "    c.io.read_sel_b.poke(bits(\"READ_SEL_B\"))\n",
    "    c.io.alu_a_sel.poke(bits(\"ALU_A_SEL\"))\n",
    "    c.io.im.poke(bits(\"IM\"))\n",
    "    c.io.sel.poke(bits(\"SEL\"))\n",
    "    c.io.sub.poke(bits(\"SUB\"))\n",
    "    c.io.write_sel.poke(bits(\"WRITE_SEL\"))\n",
    "    c.io.zero.expect(bits(\"zero\"))\n",
    "    c.clock.step()\n",
    "  }  \n",
    "}\n",
    "println(\"SUCCESS!!\")"
   ]
  },
  {
   "cell_type": "markdown",
   "id": "1ae08941",
   "metadata": {},
   "source": [
    "## Άσκηση 3: αλλαγές στο module DecodeUnit\n",
    "Εδώ θα προσθέσετε στο `DecodeUnit`τα σήματα ελέγχου για την υλοποίηση της λειτουργικότητας της νέας εντολής `beq`.\n",
    "\n",
    "Οι λεπτομέρειες της εντολής `beq` επαναλαμβάνονται στη συνέχεια για να μην ανατρέχετε συνέχεια στην αρχή του notebook:\n",
    "\n",
    "**Εντολή:**\n",
    "\n",
    "`beq Rsrc1,Rsrc2,Offset`\n",
    "\n",
    "**Λειτουργικότητα:**\n",
    "\n",
    "`if Rscr1 - Rsrc2 == 0 (δηλαδή περιεχόμενο Rscr1 == περιεχόμενο Rsrc2) then pc <- pc + Offset`\n",
    "\n",
    "* `Rsrc1`: καταχωρητής εισόδου δεδομένων 1 (3 bits)\n",
    "* `Rsrc2`: καταχωρητής εισόδου δεδομένων 2 (3 bits)\n",
    "* `Offset`: σταθερά διακλάδωσης (ακέραιος με πρόσημο, 7 bits), προστίθεται στον pc\n",
    "\n",
    "**Κωδικοποίηση:**\n",
    "\n",
    "| `bits 15-13` | `bits 12-9` | `bits 8-6` | `bits 5-3` | `bits 2-0` |\n",
    "| --- | --- | --- | --- | --- |\n",
    "| `010` | `Offset[6:3]` | `Rsrc1` | `Rsrc2` | `Offset[2:0]` |\n",
    "\n",
    "\n",
    "**Αντιγράψτε** στο επόμενο κελί τον κώδικα του module `DecodeUnit` από το προηγούμενο εργαστήριο και **εκτελέστε τις ακόλουθες τροποποιήσεις**:\n",
    "\n",
    "1. Προσθέστε τις εξόδους `branch` και `branch_offset` (1 και 16 bits αντίστοιχα) στο bundle `io`:\n",
    "\n",
    "    ~~~scala\n",
    "    // outputs for branch logic\n",
    "    val branch = Output(UInt(1.W))\n",
    "    val branch_offset = Output(UInt(16.W))  \n",
    "    ~~~\n",
    "    \n",
    "    Όπως έχει ήδη αναφερθεί, η έξοδος `branch` θα είναι 1 όταν εκτελείται εντολή διακλάδωσης ενώ η έξοδος `branch_offset` θα παρέχει τη σταθερά (ακέραιος αριθμός με πρόσημο) που θα προστεθεί στην τιμή του επόμενου pc.\n",
    "    \n",
    "    \n",
    "2. Πριν τις αναθέσεις των default values στα σήματα ελέγχου, προσθέστε το επόμενο που α) εξάγει από την εντολή (από δύο μέρη) τα bits του Offset, β) τα συνενώνει μέσω του `Cat()` σε λέξη των 7 bits και γ) επεκτείνει (με πρόσημο) τη λέξη στα 16 bits:\n",
    "\n",
    "    ~~~scala\n",
    "    // immediates/offsets with sign extensions\n",
    "    val offset1 = Cat(io.instruction(12,9),io.instruction(2,0)).asSInt.pad(16).asUInt // beq instr  \n",
    "    ~~~\n",
    "\n",
    "    Από εδώ και στο εξής, έχετε την σταθερά Offset στην προσωρινή μεταβλητή `offset1`.\n",
    "    \n",
    "   \n",
    "3. Δώστε default τιμές στα `io.branch` (0.U) και `io.branch_offset` (offset1).\n",
    "\n",
    "\n",
    "4. Προσθέστε έναν κλάδο στο `switch` για να θέσετε τα σήματα της εντολής `beq` που διαφέρουν από τα default values:\n",
    "\n",
    "    ~~~scala\n",
    "    is(\"b010\".U) {  // beq (branch if equal)\n",
    "      // προσθέστε εδώ μόνο τα σήματα που διαφέρουν από τα default values  \n",
    "    }\n",
    "    ~~~\n",
    "\n",
    "    Θυμηθείτε ότι η ζητούμενη λειτουργικότητα είναι r0 <- Rsrc1 - Rsrc2 με το `io.branch` να είναι `1.U`."
   ]
  },
  {
   "cell_type": "code",
   "execution_count": null,
   "id": "fe086bf8",
   "metadata": {},
   "outputs": [],
   "source": [
    "class DecodeUnit extends Module {\n",
    "    \n",
    "  // αντιγράψτε από προηγούμενα και τροποποιήστε σύμφωνα με τις οδηγίες\n",
    "   \n",
    "}"
   ]
  },
  {
   "cell_type": "markdown",
   "id": "fe5664f9",
   "metadata": {},
   "source": [
    "Ελέγξτε την ορθότητα των αλλαγών και νέων σημάτων με το ακόλουθο:"
   ]
  },
  {
   "cell_type": "code",
   "execution_count": null,
   "id": "c80a9fec",
   "metadata": {},
   "outputs": [],
   "source": [
    "test(new DecodeUnit) { c =>\n",
    "  // test logic-arithmetic instr\n",
    "  c.io.instruction.poke(\"b0000011001010011\".U)  // r3 = r1 + r2\n",
    "  c.io.branch.expect(0.U)\n",
    "  // test load immediate instr  \n",
    "  c.io.instruction.poke(\"b0010000100001001\".U)  // r1 = 33\n",
    "  c.io.branch.expect(0.U)\n",
    "  // test branch_if_equal instr  \n",
    "  c.io.instruction.poke(\"b0100000001010100\".U)  // if r1 == r2 then pc += 4\n",
    "  c.io.branch.expect(1.U)\n",
    "  c.io.branch_offset.expect(\"b0000000000000100\".U)  \n",
    "  c.io.alu_a_sel.expect(1.U)\n",
    "  c.io.read_sel_a.expect(1.U)\n",
    "  c.io.read_sel_b.expect(2.U)\n",
    "  c.io.sel.expect(\"b11\".U)\n",
    "  c.io.sub.expect(1.U)  \n",
    "  c.io.write_sel.expect(0.U)    \n",
    "  // test sign extension in branch_if_equal instr  \n",
    "  c.io.instruction.poke(\"b0101111001010111\".U)  // if r1 == r2 then pc += -1\n",
    "  c.io.branch_offset.expect(\"b1111111111111111\".U)  \n",
    "    \n",
    "}\n",
    "println(\"SUCCESS!!\")"
   ]
  },
  {
   "cell_type": "markdown",
   "id": "f0a6284b",
   "metadata": {},
   "source": [
    "## Άσκηση 4: νέα μορφή module Cpu με υποστήριξη διακλαδώσεων\n",
    "Τελική διασύνδεση των νέων σημάτων στο συνολικό module `Cpu`.\n",
    "\n",
    "**Αντιγράψτε** (χωρίς αλλαγές) τον κώδικα του module `InstructionMemory` από το προηγούμενο εργαστήριο στο επόμενο κελί:"
   ]
  },
  {
   "cell_type": "code",
   "execution_count": null,
   "id": "9777111b",
   "metadata": {},
   "outputs": [],
   "source": [
    "class InstructionMemory(addr_width: Int, instr_width: Int, content: Seq[UInt]) extends Module {\n",
    "    \n",
    "  // αντιγράψτε από προηγούμενα\n",
    " \n",
    "}"
   ]
  },
  {
   "cell_type": "markdown",
   "id": "8d3ff744",
   "metadata": {},
   "source": [
    "**Αντιγράψτε** (επίσης χωρίς αλλαγές) τον κώδικα του module `FetchUnit` από το προηγούμενο εργαστήριο στο επόμενο κελί:"
   ]
  },
  {
   "cell_type": "code",
   "execution_count": null,
   "id": "e63babe7",
   "metadata": {},
   "outputs": [],
   "source": [
    "class FetchUnit(addr_width: Int, instr_width: Int, content: Seq[UInt]) extends Module {\n",
    "    \n",
    "  // αντιγράψτε από προηγούμενα\n",
    " \n",
    "}"
   ]
  },
  {
   "cell_type": "markdown",
   "id": "65b673c1",
   "metadata": {},
   "source": [
    "Τέλος, **αντιγράψτε** από το προηγούμενο εργαστήριο τον κώδικα του module `Cpu` στο επόμενο κελί και στη συνέχεια **προσθέστε τα εξής**:\n",
    "\n",
    "1. Δημιουργήστε ένα instance του module `BranchLogic` μέσα στο `Cpu`:\n",
    "\n",
    "    ~~~scala\n",
    "    val bLogic = Module(new BranchLogic)\n",
    "    ~~~\n",
    "    \n",
    "2. Συνδέστε μεταξύ τους τα νέα σήματα που αφορούν την εντολή `beq`:\n",
    "\n",
    "    * Μεταξύ `dPath` και `bLogic`: το σήμα `zero`.\n",
    "    * Μεταξύ `dUnit` και `bLogic`: τα σήματα `branch` και `branch_offset`.\n",
    "    * Μεταξύ `fUnit` και `bLogic`: τα σήματα `next_pc` και (στην αντίθετη κατεύθυνση) `pc_sel` και `branch_pc`.\n"
   ]
  },
  {
   "cell_type": "code",
   "execution_count": null,
   "id": "c9399b2a",
   "metadata": {},
   "outputs": [],
   "source": [
    "class Cpu(instructions: Seq[UInt]) extends Module {\n",
    "    \n",
    "  // αντιγράψτε από προηγούμενα και τροποποιήστε σύμφωνα με τις οδηγίες\n",
    " \n",
    "}"
   ]
  },
  {
   "cell_type": "markdown",
   "id": "3697d3fa",
   "metadata": {},
   "source": [
    "Δοκιμάστε την νέα εκδοχή της `Cpu` εκτελώντας το ακόλουθο πρόγραμμα που βρίσκει το άθροισμα από 1 έως 10:"
   ]
  },
  {
   "cell_type": "code",
   "execution_count": null,
   "id": "062cd1fb",
   "metadata": {},
   "outputs": [],
   "source": [
    "val instructions = List(\"b0010000001010001\".U,  // r1 = 10       (limit = 10)\n",
    "                        \"b0010000000000010\".U,  // r2 = 0        (sum = 0)\n",
    "                        \"b0010000000001011\".U,  // r3 = 1        (counter = 1)\n",
    "                        \"b0010000000001100\".U,  // r4 = 1        (constant 1)\n",
    "                        \"b0000011010011010\".U,  // r2 = r2 + r1  (sum = sum + counter)\n",
    "                        \"b0000011011100011\".U,  // r3 = r3 + r4  (counter++)\n",
    "                        \"b0000111001100001\".U,  // r1 = r1 - r4  (limit--)\n",
    "                        \"b0100000001000001\".U,  // beq r1,r0,+1  (if limit==0 then pc <- (pc+1)+1)\n",
    "                        \"b0101111000000011\".U,  // beq r0,r0,-5  (pc <- (pc+1)-5)\n",
    "                        \"b0000001010000000\".U,  // r0 = r2 or r0 (to show r2 contents)\n",
    "                        \"b0011111111111000\".U,  // r0 = 0xFFFF   (to mark end of program) \n",
    "                       )\n",
    "test(new Cpu(instructions)) { c =>\n",
    "  for (i <- 0 until 54) {\n",
    "    println(c.io.results.peek())  \n",
    "    c.clock.step()\n",
    "  }\n",
    "  c.io.results.expect(\"b1111111111111111\".U) // must be the program's end marker \n",
    "}\n",
    "println(\"SUCCESS!!\")"
   ]
  },
  {
   "cell_type": "markdown",
   "id": "9b988c20",
   "metadata": {},
   "source": [
    "## Τελειώνοντας...\n",
    "Κατεβάσετε και πάρτε μαζί σας το σημερινό notebook για να το έχετε στο αρχείο σας.\n",
    "\n",
    "**Δεν ανήκει στα παραδοτέα του εργαστηρίου.**"
   ]
  }
 ],
 "metadata": {
  "kernelspec": {
   "display_name": "Scala",
   "language": "scala",
   "name": "scala"
  },
  "language_info": {
   "codemirror_mode": "text/x-scala",
   "file_extension": ".scala",
   "mimetype": "text/x-scala",
   "name": "scala",
   "nbconvert_exporter": "script",
   "version": "2.12.10"
  }
 },
 "nbformat": 4,
 "nbformat_minor": 5
}
