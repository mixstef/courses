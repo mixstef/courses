{
 "cells": [
  {
   "cell_type": "markdown",
   "id": "4c1b750a-de9f-4929-90a0-604e9a078d8b",
   "metadata": {},
   "source": [
    "# Notebook 3ου εργαστηρίου\n",
    "Πριν προχωρήσετε, εκτελέστε τα επόμενα δύο κελιά."
   ]
  },
  {
   "cell_type": "code",
   "execution_count": null,
   "id": "0b2ca6a3-c6c4-4a95-901a-9546118a7aca",
   "metadata": {},
   "outputs": [],
   "source": [
    "val path = System.getProperty(\"user.dir\") + \"/source/load-ivy.sc\"\n",
    "interp.load.module(ammonite.ops.Path(java.nio.file.FileSystems.getDefault().getPath(path)))"
   ]
  },
  {
   "cell_type": "code",
   "execution_count": null,
   "id": "db851d79-52d5-4b34-8379-f2c198729629",
   "metadata": {},
   "outputs": [],
   "source": [
    "import chisel3._\n",
    "import chisel3.util._\n",
    "import chisel3.tester._\n",
    "import chisel3.tester.RawTester.test\n",
    "import dotvisualizer._"
   ]
  },
  {
   "cell_type": "markdown",
   "id": "1d2ad641-d536-44a9-b61b-84d00b77f709",
   "metadata": {},
   "source": [
    "## Περιγραφή συμπεριφοράς κυκλωμάτων\n",
    "Στην Chisel σπάνια θα χρειαστεί να περιγράψουμε τη συμπεριφορά ενός module στο χαμηλό επίπεδο των λογικών πράξεων με πύλες. Στο εργαστήριο αυτό θα δούμε **πώς μπορούμε να περιγράψουμε ένα κύκλωμα μέσα από την αναμενόμενη συμπεριφορά** του. Όπως και σε όλες τις άλλες περιπτώσεις, η Chisel θα κατασκευάσει μια περιγραφή κυκλώματος, η οποία όταν υλοποιηθεί με κάποια τεχνολογία θα έχει τη ζητούμενη συμπεριφορά.\n",
    "\n",
    "Η περιγραφή ενός κυκλώματος μέσω της αναμενόμενης συμπεριφοράς του είναι η προτιμώμενη μέθοδος στην Chisel.\n",
    "\n",
    "## Παράδειγμα: ο πολυπλέκτης 4-σε-1\n",
    "Στο παράδειγμα που ακολουθεί περιγράφουμε τον **πολυπλέκτη 4-σε-1** με τρεις διαφορετικούς τρόπους:\n",
    "\n",
    "1. Με πύλες (λογικές πράξεις)\n",
    "2. Με περιγραφή της αναμενόμενης συμπεριφοράς μέσω της δομής `when..elsewhen..otherwise`.\n",
    "2. Με περιγραφή της αναμενόμενης συμπεριφοράς μέσω της δομής `switch`.\n",
    "\n",
    "### 1. Περιγραφή με λογικές πράξεις\n",
    "\n",
    "Στο επόμενο κελί εμφανίζεται μια πιθανή υλοποίηση του **πολυπλέκτη 4-σε-1** με πύλες (λογικές πράξεις):\n",
    "\n",
    "![mux4to1.png](https://mixstef.github.io/courses/comparch/labimg/mux4to1.png)\n",
    "\n",
    "Και ακολουθεί η υλοποίηση του πολυπλέκτη 4-σε-1 με λογικές πύλες στην Chisel στο επόμενο κελί (εκτελέστε το):"
   ]
  },
  {
   "cell_type": "code",
   "execution_count": null,
   "id": "e1e058d8-58f1-4a15-b452-647de62804c7",
   "metadata": {},
   "outputs": [],
   "source": [
    "class Mux4to1 extends Module {\n",
    "  val io = IO(new Bundle {\n",
    "    val in = Input(UInt(4.W))\n",
    "    val out = Output(UInt(1.W))\n",
    "    val sel = Input(UInt(2.W))\n",
    "  })\n",
    "    \n",
    "  val p0 = io.in(0) & ~io.sel(0) & ~io.sel(1)\n",
    "  val p1 = io.in(1) & io.sel(0) & ~io.sel(1)\n",
    "  val p2 = io.in(2) & ~io.sel(0) & io.sel(1)\n",
    "  val p3 = io.in(3) & io.sel(0) & io.sel(1)\n",
    "  io.out := p0 | p1 | p2 | p3\n",
    "}"
   ]
  },
  {
   "cell_type": "markdown",
   "id": "822f302a-5568-43c0-b6e5-e8af88b1d378",
   "metadata": {},
   "source": [
    "Στο επόμενο κελί, ο έλεγχος ορθότητας εξετάζει για κάθε συνδυασμό του `io.sel` (εξωτερικό for από 0 έως 3) αν εμφανίζεται στην έξοδο η κατάλληλη είσοδος, για κάθε πιθανή τιμή εισόδου `io.in` (εσωτερικό for από 0 έως 15). \n",
    "\n",
    "Παρατηρήστε ότι χρησιμοποιούμε την υποκείμενη γλώσσα (Scala) για να αυτοματοποιήσουμε τον έλεγχο. Η μεταβλητή `mask` χρησιμοποιείται για να απομονώνουμε την επιλεγμένη είσοδο `io.in(s)` και να ελέγχουμε αν αυτή η είσοδος ταιριάζει με την έξοδο.\n",
    "\n",
    "*(εκτελέστε το επόμενο κελί)*"
   ]
  },
  {
   "cell_type": "code",
   "execution_count": null,
   "id": "76a2cf10-c154-4774-9acf-3bef8ac703cc",
   "metadata": {},
   "outputs": [],
   "source": [
    "test(new Mux4to1()) { c =>\n",
    "  for (s <- 0 to 3) {\n",
    "    c.io.sel.poke(s.U)\n",
    "    for (i <- 0 to 15) {\n",
    "      c.io.in.poke(i.U)\n",
    "      val mask = 1 << s\n",
    "      c.io.out.expect(if ((i&mask)!=0) 1.U else 0.U)\n",
    "    }\n",
    "  }\n",
    "}\n",
    "println(\"SUCCESS!!\")"
   ]
  },
  {
   "cell_type": "markdown",
   "id": "f33660bb",
   "metadata": {},
   "source": [
    "\n",
    "### 2. Περιγραφή συμπεριφοράς με τη δομή when..elsewhen..otherwise\n",
    "\n",
    "Ο ίδιος πολυπλέκτης 4-σε-1 με τη δομή `when..elsewhen..otherwise`.\n",
    "\n",
    "**Παρατηρήστε ότι η ισότητα ελέγχεται με το `===`(τριπλό ίσον)!**\n",
    "\n",
    "Εκτελέστε το επόμενο κελί που επανακαθορίζει το module `Mux4to1`. Στη συνέχεια τρέξτε το προηγούμενο `test` για να βεβαιωθείτε ότι και αυτή η εκδοχή του πολυπλέκτη δουλεύει κατά το αναμενόμενο. "
   ]
  },
  {
   "cell_type": "code",
   "execution_count": null,
   "id": "7dc1ef09-c304-4c52-b3fc-a33741234a1a",
   "metadata": {},
   "outputs": [],
   "source": [
    "class Mux4to1 extends Module {\n",
    "  val io = IO(new Bundle {\n",
    "    val in = Input(UInt(4.W))\n",
    "    val out = Output(UInt(1.W))\n",
    "    val sel = Input(UInt(2.W))\n",
    "  })\n",
    "  \n",
    "  when(io.sel===0.U) {\n",
    "    io.out := io.in(0)\n",
    "  }.elsewhen (io.sel===1.U) {\n",
    "    io.out := io.in(1)\n",
    "  }.elsewhen (io.sel===2.U) {\n",
    "    io.out := io.in(2)\n",
    "  }.otherwise {\n",
    "    io.out := io.in(3)\n",
    "  }\n",
    "}"
   ]
  },
  {
   "cell_type": "markdown",
   "id": "05caf445-0963-4ca9-8474-670b95281bd1",
   "metadata": {},
   "source": [
    "### 3. Περιγραφή συμπεριφοράς με τη δομή switch\n",
    "\n",
    "Μια δεύτερη δομή της Chisel για την περιγραφή συμπεριφοράς είναι το `switch`.\n",
    "\n",
    "Στο επόμενο κελί ο ίδιος πολυπλέκτης 4-σε-1 με τη δομή `switch`.\n",
    "\n",
    "**Προσοχή! Η Chisel απαιτεί την αρχική τιμή (safeguard) για να μπορέσει να υλοποιήσει (elaborate) το κύκλωμα!**\n",
    "\n",
    "Ελέγξτε και πάλι το αποτέλεσμα με το `test` που δόθηκε προηγουμένως."
   ]
  },
  {
   "cell_type": "code",
   "execution_count": null,
   "id": "53351074-d952-4bd7-b040-84d983260f22",
   "metadata": {},
   "outputs": [],
   "source": [
    "class Mux4to1 extends Module {\n",
    "  val io = IO(new Bundle {\n",
    "    val in = Input(UInt(4.W))\n",
    "    val out = Output(UInt(1.W))\n",
    "    val sel = Input(UInt(2.W))\n",
    "  })\n",
    "    \n",
    "  io.out := 0.U   // safeguard\n",
    "  switch(io.sel) {\n",
    "    is(0.U) {  io.out := io.in(0) }\n",
    "    is(1.U) {  io.out := io.in(1) }\n",
    "    is(2.U) {  io.out := io.in(2) }\n",
    "    is(3.U) {  io.out := io.in(3) }\n",
    "  }\n",
    "}"
   ]
  },
  {
   "cell_type": "markdown",
   "id": "60982ba7-2d8b-417e-8ccd-57ca8d2860fd",
   "metadata": {},
   "source": [
    "## Άσκηση: Αριθμητική λογική μονάδα του ενός bit\n",
    "Με βάση τα προηγούμενα, κατασκευάστε module `Alu` με τη δομή `when..elsewhen..otherwise` το οποίο θα έχει:\n",
    "\n",
    "* Δύο εισόδους δεδομένων `a` και `b` εύρους 1 bit η καθεμία.\n",
    "* Μία έξοδο δεδομένων `out` εύρους 1 bit.\n",
    "* Μία είσοδο ελέγχου `s` εύρους 2 bits.\n",
    "\n",
    "Το module `Alu` θα λειτουργεί σύμφωνα με τον παρακάτω πίνακα:\n",
    "\n",
    "| s(1) | s(0) | out |\n",
    "| ---- | ---- | --- |\n",
    "| 0 | 0 | a AND b |\n",
    "| 0 | 1 | a OR b |\n",
    "| 1 | 0 | a XOR b |\n",
    "| 1 | 1 | a + b |\n",
    "\n",
    "Χρησιμοποιήστε τους γνωστούς τελεστές λογικών πράξεων της Chisel και τον τελεστή πρόσθεσης `+` (θυμηθείτε ότι η Chisel δεν κάνει πρόσθεση αλλά δημιουργεί περιγραφή κυκλώματος αθροιστή) σύμφωνα με τον πίνακα:\n",
    "\n",
    "| Τελεστής | Πράξη μεταξύ bits |\n",
    "| -------- | ----------------- |\n",
    "| & | AND |\n",
    "| \\| | OR |\n",
    "| ^ | XOR |\n",
    "| + | πρόσθεση (χωρίς τελικό κρατούμενο) |\n"
   ]
  },
  {
   "cell_type": "code",
   "execution_count": null,
   "id": "687fdb06-69f6-4dab-8c96-aac95993a23c",
   "metadata": {},
   "outputs": [],
   "source": [
    "class Alu extends Module {\n",
    "  val io = IO(new Bundle {\n",
    "    val a = // ..συμπληρώστε..\n",
    "    val b = // ..συμπληρώστε..\n",
    "    val out = // ..συμπληρώστε..\n",
    "    val s = // ..συμπληρώστε..\n",
    "  })\n",
    "  \n",
    "  when // ..συμπληρώστε..\n",
    "}"
   ]
  },
  {
   "cell_type": "markdown",
   "id": "967179b6-e998-47e1-8468-54fd027f8687",
   "metadata": {},
   "source": [
    "Ελέγξτε την ορθότητα της υλοποίησής σας εκτελώντας το επόμενο κελί:"
   ]
  },
  {
   "cell_type": "code",
   "execution_count": null,
   "id": "537da927-6759-4e23-9e14-9eada44a1313",
   "metadata": {},
   "outputs": [],
   "source": [
    "test(new Alu()) { c =>\n",
    "    for (aval <- 0 to 1) {  // για τις 2 πιθανές τιμές του io.a\n",
    "        c.io.a.poke(aval.U)\n",
    "        for (bval <- 0 to 1) {  // για τις 2 πιθανές τιμές του io.b\n",
    "            c.io.b.poke(bval.U)\n",
    "            // έλεγχος εξόδων κάνοντας τις αντίστοιχες πράξεις με τη Scala\n",
    "            c.io.s.poke(0.U)  // AND\n",
    "            c.io.out.expect((aval & bval).U)\n",
    "            c.io.s.poke(1.U)  // OR\n",
    "            c.io.out.expect((aval | bval).U)\n",
    "            c.io.s.poke(2.U)  // XOR\n",
    "            c.io.out.expect((aval ^ bval).U)\n",
    "            c.io.s.poke(3.U)  // +\n",
    "            val result = (aval+bval) & 0x1  // αφαίρεση πιθανού κρατουμένου από το αποτέλεσμα της Scala\n",
    "            c.io.out.expect(result.U)\n",
    "        }\n",
    "    }\n",
    "}\n",
    "println(\"SUCCESS!!\")"
   ]
  },
  {
   "cell_type": "markdown",
   "id": "a09daf22-8813-46fa-83e5-737db706404a",
   "metadata": {},
   "source": [
    "Περιγράψτε στη συνέχεια το ίδιο module `Alu` με τη βοήθεια της δομής `switch`:"
   ]
  },
  {
   "cell_type": "code",
   "execution_count": null,
   "id": "cf79fdb8-dff8-41c9-bd7b-9500cb67ae4f",
   "metadata": {},
   "outputs": [],
   "source": [
    "class Alu extends Module {\n",
    "  val io = IO(new Bundle {\n",
    "    val a = // ..συμπληρώστε..\n",
    "    val b = // ..συμπληρώστε..\n",
    "    val out = // ..συμπληρώστε..\n",
    "    val s = // ..συμπληρώστε..\n",
    "  })\n",
    "  \n",
    "  io.out := 0.U   // safeguard\n",
    "  switch // ..συμπληρώστε..\n",
    "}"
   ]
  },
  {
   "cell_type": "markdown",
   "id": "08244f14-b3ec-4245-9921-0871a675dc8b",
   "metadata": {},
   "source": [
    "Δοκιμάστε με το προηγούμενο `test` την ορθότητα και αυτού του κυκλώματος.\n",
    "\n",
    "## Τελειώνοντας...\n",
    "Μπορείτε να κατεβάσετε και να πάρετε μαζί σας το σημερινό notebook για να το έχετε στο αρχείο σας.\n",
    "\n",
    "**Δεν ανήκει στα παραδοτέα του εργαστηρίου.**"
   ]
  }
 ],
 "metadata": {
  "kernelspec": {
   "display_name": "Scala",
   "language": "scala",
   "name": "scala"
  },
  "language_info": {
   "codemirror_mode": "text/x-scala",
   "file_extension": ".scala",
   "mimetype": "text/x-scala",
   "name": "scala",
   "nbconvert_exporter": "script",
   "version": "2.12.10"
  }
 },
 "nbformat": 4,
 "nbformat_minor": 5
}
