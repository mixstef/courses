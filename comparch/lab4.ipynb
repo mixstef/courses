{
 "cells": [
  {
   "cell_type": "markdown",
   "id": "4a09652d-4fbf-4ea8-97e2-d04e78cf3a0c",
   "metadata": {},
   "source": [
    "# Εργαστήριο 4\n",
    "Όπως πάντα, ξεκινήστε **εκτελώντας τα επόμενα δύο κελιά**\n",
    "\n",
    "*(Αυτό θα πρέπει να γίνεται επίσης κάθε φορά που κάνετε kernel restart)*"
   ]
  },
  {
   "cell_type": "code",
   "execution_count": null,
   "id": "39597367-0820-4930-9cd7-9e859769dcd7",
   "metadata": {},
   "outputs": [],
   "source": [
    "val path = System.getProperty(\"user.dir\") + \"/source/load-ivy.sc\"\n",
    "interp.load.module(ammonite.ops.Path(java.nio.file.FileSystems.getDefault().getPath(path)))"
   ]
  },
  {
   "cell_type": "code",
   "execution_count": null,
   "id": "c019ee9b-87fb-4bdf-b44e-f958aa122c8e",
   "metadata": {},
   "outputs": [],
   "source": [
    "import chisel3._\n",
    "import chisel3.util._\n",
    "import chisel3.tester._\n",
    "import chisel3.tester.RawTester.test\n",
    "import dotvisualizer._"
   ]
  },
  {
   "cell_type": "markdown",
   "id": "216230fa-c037-4a1b-8590-f51685357e5e",
   "metadata": {},
   "source": [
    "## Αυτόματη προσαρμογή στο εύρος των σημάτων\n",
    "Ένα μεγάλο πλεονέκτημα της Chisel είναι ότι η **ίδια έκφραση** μπορεί να κατασκευάσει πολλαπλά κυκλώματα, ανάλογα με το **εύρος** (width) των σημάτων που μετέχουν στην έκφραση. Για παράδειγμα, η έκφραση\n",
    "\n",
    "~~~scala\n",
    "io.y := io.a & io.b\n",
    "~~~\n",
    "\n",
    "θα φτιάξει το κύκλωμα `y = a AND b` (μία πύλη AND) αν τα a και b έχουν εύρος 1 bit.\n",
    "\n",
    "Εάν όμως το εύρος των a και b είναι π.χ. 4 bits, **η ίδια έκφραση** (`io.y := io.a & io.b`) θα φτιάξει τα εξής (4 πύλες AND):\n",
    "~~~\n",
    "y(3) = a(3) AND b(3)\n",
    "y(2) = a(2) AND b(2)\n",
    "y(1) = a(1) AND b(1)\n",
    "y(0) = a(0) AND b(0)\n",
    "~~~\n",
    "\n",
    "Το εύρος του αποτελέσματος των τελεστών πράξεων με bits προσαρμόζεται ως εξής:\n",
    "\n",
    "| τελεστής | εύρος αποτελέσματος |\n",
    "| --- | --- |\n",
    "| ~x (NOT) | εύρος(x) |\n",
    "| x & y (AND) | max(εύρος(x),εύρος(y)) |\n",
    "| x \\| y (OR) | max(εύρος(x),εύρος(y)) |\n",
    "| x ^ y (XOR) | max(εύρος(x),εύρος(y)) |\n",
    "\n",
    "Αυτή την ιδιότητα προσαρμογής μπορούμε να την εκμεταλλευτούμε για την περιγραφή **παραμετρικών κυκλωμάτων** (μεταβλητού εύρους σημάτων εισόδου-εξόδου, όπως θα φανεί στη συνέχεια.\n",
    "\n",
    "## Περιγραφή παραμετρικών κυκλωμάτων\n",
    "**Μελετήστε** το επόμενο κύκλωμα, στο οποίο ορίζεται παραμετρικά (με τη μεταβλητή `n`) το εύρος των σημάτων εισόδου-εξόδου.\n",
    "\n",
    "Όταν χρησιμοποιηθεί το κύκλωμα αυτό, το ακριβές εύρος ορίζεται κατά τη δημιουργία του, π.χ. το επόμενο δημιουργεί ένα κύκλωμα με εισόδους-εξόδους εύρους 8 bits:\n",
    "~~~scala\n",
    "new SomeLogic(8)\n",
    "~~~"
   ]
  },
  {
   "cell_type": "code",
   "execution_count": null,
   "id": "f1e95f8e-91fe-4d94-887b-783f67b1eec3",
   "metadata": {},
   "outputs": [],
   "source": [
    "class SomeLogic(n: Int) extends Module {\n",
    "  val io = IO(new Bundle {\n",
    "    val a = Input(UInt(n.W))\n",
    "    val b = Input(UInt(n.W))\n",
    "    val y = Output(UInt(n.W))\n",
    "  })\n",
    "  \n",
    "  io.y := io.a & io.b\n",
    "}"
   ]
  },
  {
   "cell_type": "markdown",
   "id": "4e5a9ffb-48de-4481-8124-eba7e43527e4",
   "metadata": {},
   "source": [
    "Μπορείτε να **ελέγξετε** τη λειτουργία του κυκλώματος για συγκεκριμένο εύρος (στο επόμενο παράδειγμα 8 bits):"
   ]
  },
  {
   "cell_type": "code",
   "execution_count": null,
   "id": "6cb008dc-3921-4d03-9113-17f0fa06b263",
   "metadata": {},
   "outputs": [],
   "source": [
    "test(new SomeLogic(8)) { c =>\n",
    "  c.io.a.poke(\"b00101101\".U)\n",
    "  c.io.b.poke(\"b10110111\".U)\n",
    "  c.io.y.expect(\"b00100101\".U)\n",
    "}\n",
    "println(\"SUCCESS!!\")"
   ]
  },
  {
   "cell_type": "markdown",
   "id": "5d44289a-5189-4437-b872-e88a519913c4",
   "metadata": {},
   "source": [
    "## Πρόσθεση και αφαίρεση\n",
    "Όπως έχει αναφερθεί στο προηγούμενο εργαστήριο, η Chisel μας παρέχει τους τελεστές `+` και `-` για να περιγράψουμε κυκλώματα που εκτελούν **πρόσθεση** και **αφαίρεση** αντίστοιχα. Και αυτοί οι τελεστές προσαρμόζουν αυτόματα το εύρος της εξόδου σύμφωνα με το εύρος των σημάτων εισόδου:\n",
    "\n",
    "| τελεστής | εύρος αποτελέσματος |\n",
    "| --- | --- |\n",
    "| x + y (πρόσθεση) | max(εύρος(x),εύρος(y)) |\n",
    "| x - y (αφαίρεση) | max(εύρος(x),εύρος(y)) |\n",
    "\n",
    "**Μελετήστε** το επόμενο παραμετρικό κύκλωμα που αθροίζει δύο αριθμούς των `n` bits. Το αποτέλεσμα είναι πάλι `n` bits."
   ]
  },
  {
   "cell_type": "code",
   "execution_count": null,
   "id": "56284d5c-ecd2-43c7-a20d-5492fdbc226c",
   "metadata": {},
   "outputs": [],
   "source": [
    "class AdderTest(n: Int) extends Module {\n",
    "  val io = IO(new Bundle {\n",
    "    val a = Input(UInt(n.W))\n",
    "    val b = Input(UInt(n.W))\n",
    "    val y = Output(UInt(n.W))\n",
    "  })\n",
    "  \n",
    "  io.y := io.a + io.b\n",
    "}"
   ]
  },
  {
   "cell_type": "markdown",
   "id": "51834bab-c9b3-41a6-9392-d32737a79082",
   "metadata": {},
   "source": [
    "**Ελέγξτε** μια υλοποίηση με αριθμούς 8 bits:"
   ]
  },
  {
   "cell_type": "code",
   "execution_count": null,
   "id": "2ae21030-856b-42ee-982f-d01d68998df6",
   "metadata": {},
   "outputs": [],
   "source": [
    "test(new AdderTest(8)) { c =>\n",
    "  c.io.a.poke(\"b00101101\".U)\n",
    "  c.io.b.poke(\"b10110111\".U)\n",
    "  c.io.y.expect(\"b11100100\".U)\n",
    "\n",
    "  c.io.a.poke(\"b11111111\".U)\n",
    "  c.io.b.poke(\"b00000001\".U)\n",
    "  c.io.y.expect(\"b00000000\".U) // no carry-out capture!\n",
    "}\n",
    "println(\"SUCCESS!!\")"
   ]
  },
  {
   "cell_type": "markdown",
   "id": "6be19a4c-d94e-43b9-a29f-652b0e497666",
   "metadata": {},
   "source": [
    "## Λήψη τελικού κρατουμένου εξόδου\n",
    "Στον προηγούμενο αθροιστή δεν έχουμε δυνατότητα λήψης του τελικού κρατουμένου εξόδου (αν παράγεται). Η Chisel όμως παρέχει παραλλαγές των τελεστών πρόσθεσης και αφαίρεσης, οι οποίοι επεκτείνουν το αποτέλεσμα **σε ένα επιπλέον bit** στα αριστερά. Αυτό το bit θα περιέχει το τελικό κρατούμενο εξόδου, αν αυτό υπάρχει.\n",
    "\n",
    "| τελεστής | εύρος αποτελέσματος |\n",
    "| --- | --- |\n",
    "| x +& y (πρόσθεση με επέκταση) | max(εύρος(x),εύρος(y))+1 |\n",
    "| x -& y (αφαίρεση με επέκταση) | max(εύρος(x),εύρος(y))+1 |\n",
    "\n",
    "**Μελετήστε** στο επόμενο κύκλωμα πώς μπορύμε με τη χρήση του τελεστή `+&` να λάβουμε το αποτέλεσμα `y` (bits n-1 έως 0 της μεταβλητής `sum`) και το κρατούμενο εξόδου `c` (bit n της μεταβλητής `sum`) της πρόσθεσης δύο αριθμών (a και b) εύρους `n` bits: "
   ]
  },
  {
   "cell_type": "code",
   "execution_count": null,
   "id": "cecca4eb-af2f-4ed1-88df-309fd8976250",
   "metadata": {},
   "outputs": [],
   "source": [
    "class AdderTest2(n: Int) extends Module {\n",
    "  val io = IO(new Bundle {\n",
    "    val a = Input(UInt(n.W))\n",
    "    val b = Input(UInt(n.W))\n",
    "    val y = Output(UInt(n.W))\n",
    "    val c = Output(UInt(1.W))\n",
    "  })\n",
    "  \n",
    "  val sum = io.a +& io.b\n",
    "  io.y := sum(n-1,0)\n",
    "  io.c := sum(n)\n",
    "}"
   ]
  },
  {
   "cell_type": "markdown",
   "id": "8c9bf519-e962-4ab4-8b1d-ac99ebdd0d6c",
   "metadata": {},
   "source": [
    "**Ελέγξτε** μια υλοποίηση με αριθμούς 8 bits:"
   ]
  },
  {
   "cell_type": "code",
   "execution_count": null,
   "id": "76f2b775-006c-42a2-aa8b-6635eada2a77",
   "metadata": {},
   "outputs": [],
   "source": [
    "test(new AdderTest2(8)) { c =>\n",
    "  c.io.a.poke(\"b00101101\".U)\n",
    "  c.io.b.poke(\"b10110111\".U)\n",
    "  c.io.y.expect(\"b11100100\".U)\n",
    "  c.io.c.expect(0.U)\n",
    "\n",
    "  c.io.a.poke(\"b11111111\".U)\n",
    "  c.io.b.poke(\"b00000001\".U)\n",
    "  c.io.y.expect(\"b00000000\".U)\n",
    "  c.io.c.expect(1.U) // carry-out\n",
    "}\n",
    "println(\"SUCCESS!!\")"
   ]
  },
  {
   "cell_type": "markdown",
   "id": "090e8843-5eff-40d2-8e45-b1e47ee9798f",
   "metadata": {},
   "source": [
    "## Άσκηση 1: Επιλογή πρόσθεσης ή αφαίρεσης\n",
    "Το ζητούμενο είναι να περιγράψετε το module `AddSub`, το οποίο δέχεται τις εισόδους `a` `b` με παραμετρικό εύρος `n` και παράγει την έξοδο `out` με εύρος επίσης `n`. Το module εκτελεί εναλλακτικά πρόσθεση ή αφαίρεση (**χωρίς τελικό κρατούμενο**), ανάλογα με την τιμή τρίτου σήματος εισόδου `sub` εύρους 1 bit (0 = πρόσθεση, 1 = αφαίρεση), χρησιμοποιώντας τη δομή `when`.\n",
    "\n",
    "**Συμπληρώστε** στο επόμενο κελί."
   ]
  },
  {
   "cell_type": "code",
   "execution_count": null,
   "id": "317379e4-44d3-4a14-8ac9-959291970a66",
   "metadata": {},
   "outputs": [],
   "source": [
    "class AddSub(n: Int) extends Module {\n",
    "  val io = IO(new Bundle {\n",
    "    val a = // ..συμπληρώστε..\n",
    "    val b = // ..συμπληρώστε..\n",
    "    val sub = // ..συμπληρώστε..\n",
    "    val out = // ..συμπληρώστε..\n",
    "  })\n",
    "  \n",
    "  // ..συμπληρώστε..    \n",
    "    \n",
    "}"
   ]
  },
  {
   "cell_type": "markdown",
   "id": "25877e3d",
   "metadata": {},
   "source": [
    "Δοκιμάστε το module που φτιάξατε με εύρος εισόδων/εξόδου = 8 bits. Οι δυαδικές τιμές ελέγχου και το αντίστοιχο αποτέλεσμα θα πρέπει να είναι:\n",
    "\n",
    "~~~\n",
    "00101101 + 10110111 = 11100100\n",
    "11111111 + 00000001 = 00000000\n",
    "\n",
    "00101101 - 10110111 = 01110110\n",
    "11111111 - 00000001 = 11111110\n",
    "~~~\n",
    "\n",
    "Θυμηθείτε ότι οι δυαδικές σταθερές UInt γράφονται στην Chisel ως π.χ. `\"b10110111\"`.\n",
    "\n",
    "**Συμπληρώστε** τα κατάλληλα poke() και expect() στο επόμενο κελί:"
   ]
  },
  {
   "cell_type": "code",
   "execution_count": null,
   "id": "ebaffd1f",
   "metadata": {},
   "outputs": [],
   "source": [
    "test(new AddSub(8)) { c =>\n",
    "  c.io.sub.poke(0.U)  // test addition\n",
    "    \n",
    "  c.io.a.poke(\"b00101101\".U)\n",
    "  c.io.b.poke(\"b10110111\".U)\n",
    "  c.io.out.expect(..συμπληρώστε..)\n",
    "\n",
    "  c.io.a.poke(\"b11111111\".U)\n",
    "  c.io.b.poke(\"b00000001\".U)\n",
    "  c.io.out.expect(..συμπληρώστε..) \n",
    "\n",
    "  // ..συμπληρώστε όμοια τα 2 παραδείγματα για την αφαίρεση..\n",
    "\n",
    "}\n",
    "println(\"SUCCESS!!\")"
   ]
  },
  {
   "cell_type": "markdown",
   "id": "19acd42d-f8d0-4bc7-a36b-057c8d31eb0f",
   "metadata": {},
   "source": [
    "## Άσκηση 2: Αριθμητική λογική μονάδα με παραμετρικό εύρος δεδομένων\n",
    "Με βάση τα προηγούμενα (και το [προηγούμενο εργαστήριο](https://nbviewer.org/urls/mixstef.github.io/courses/comparch/lab3.ipynb)), κατασκευάστε (**συμπληρώστε στο επόμενο κελί**) παραμετρικό κύκλωμα `Alu` (αριθμητική-λογική μονάδα), το οποίο θα έχει τις εξής εισόδους-εξόδους:\n",
    "\n",
    "* `a`, `b` (είσοδοι): οι δύο αριθμοί εισόδου, `n` bits εύρος ο καθένας\n",
    "* `sel` (είσοδος): σήμα επιλογής πράξης, 2 bits εύρος\n",
    "* `sub` (είσοδος): σήμα επιλογής πρόσθεσης ή αφαίρεσης, 1 bit εύρος\n",
    "* `out` (έξοδος): αποτέλεσμα πράξης, `n` bits εύρος\n",
    "\n",
    "**Η λειτουργία του κυκλώματος πρέπει να είναι η εξής:**\n",
    "\n",
    "| sel(1) | sel(0) | out |\n",
    "| :---: | :---: | :---: |\n",
    "| 0 | 0 | a AND b |\n",
    "| 0 | 1 | a OR b |\n",
    "| 1 | 0 | a XOR b |\n",
    "| 1 | 1 | a + b (αν sub=0), a - b (αν sub=1) |\n",
    "\n",
    "**Υπόδειξη:** Μπορείτε να γράψετε nested δομές `when` μέσα σε άλλα `when`. Μπορείτε επίσης να συνδυάσετε συνθήκες π.χ. (προσέξτε πώς μπαίνουν οι παρενθέσεις):\n",
    "~~~scala\n",
    "when (io.x===0.U && io.y===1.U)  {\n",
    "~~~\n"
   ]
  },
  {
   "cell_type": "code",
   "execution_count": null,
   "id": "15c433db-94f0-4663-80f7-3113e394bad3",
   "metadata": {},
   "outputs": [],
   "source": [
    "class Alu(n: Int) extends Module {\n",
    "  val io = IO(new Bundle {\n",
    "    val a = // ..συμπληρώστε..\n",
    "    val b = // ..συμπληρώστε..\n",
    "    val sel = // ..συμπληρώστε..\n",
    "    val sub = // ..συμπληρώστε..\n",
    "    val out = // ..συμπληρώστε..\n",
    "  })\n",
    "  \n",
    "  // ..συμπληρώστε..\n",
    "    \n",
    "}"
   ]
  },
  {
   "cell_type": "markdown",
   "id": "9e07c1a7",
   "metadata": {},
   "source": [
    "### Ελέγξτε την υλοποίησή σας\n",
    "Βεβαιωθείτε ότι το κύκλωμά σας περνάει επιτυχώς τον έλεγχο **εκτελώντας το επόμενο κελί**."
   ]
  },
  {
   "cell_type": "code",
   "execution_count": null,
   "id": "cd8b1abb-fa7b-48b0-a725-ffeaf4d787f9",
   "metadata": {
    "scrolled": true
   },
   "outputs": [],
   "source": [
    "import scala.util.{Random => rnd }\n",
    "test(new Alu(8)) { c =>\n",
    "  for (i <- 0 until 10) {     // 10 φορές\n",
    "    val a = rnd.nextInt(256)  // για τυχαίους αριθμούς a\n",
    "    val b = rnd.nextInt(256)  // και b\n",
    "    c.io.a.poke(a.U)\n",
    "    c.io.b.poke(b.U)\n",
    "\n",
    "    // test AND\n",
    "    c.io.sel.poke(\"b00\".U)\n",
    "    c.io.out.expect((a & b).U)\n",
    "    // test OR\n",
    "    c.io.sel.poke(\"b01\".U)\n",
    "    c.io.out.expect((a | b).U)\n",
    "    // test XOR\n",
    "    c.io.sel.poke(\"b10\".U)\n",
    "    c.io.out.expect((a ^ b).U)\n",
    "    // test ADD\n",
    "    val total = a+b\n",
    "    val sum = total & 0xFF  // απομάκρυνση κρατουμένου εξόδου, αν υπάρχει\n",
    "    c.io.sel.poke(\"b11\".U)  \n",
    "    c.io.sub.poke(0.U)\n",
    "    c.io.out.expect(sum.U)\n",
    "    // test SUB\n",
    "    val total2 = a-b\n",
    "    val sum2 = total2 & 0xFF  // απομάκρυνση κρατουμένου εξόδου, αν υπάρχει\n",
    "    c.io.sel.poke(\"b11\".U) \n",
    "    c.io.sub.poke(1.U)\n",
    "    c.io.out.expect(sum2.U)\n",
    "\n",
    "  }\n",
    "}\n",
    "println(\"SUCCESS!!\")"
   ]
  },
  {
   "cell_type": "markdown",
   "id": "9a281a7e",
   "metadata": {},
   "source": [
    "### Ανεβάστε τη λύση σας στο opencourses\n",
    "Ανεβάστε το τελικό σας notebook όπου φαίνονται και τα αποτελέσματα της εκτέλεσης στο opencourses (**Εργασία 1**) έως και την **Δευτέρα 30/10**.\n",
    "\n",
    "*(Ίσως χρειαστεί να κάνετε zip το αρχείο ipynb για να γίνει αποδεκτό από το σύστημα)*\n"
   ]
  }
 ],
 "metadata": {
  "kernelspec": {
   "display_name": "Scala",
   "language": "scala",
   "name": "scala"
  },
  "language_info": {
   "codemirror_mode": "text/x-scala",
   "file_extension": ".scala",
   "mimetype": "text/x-scala",
   "name": "scala",
   "nbconvert_exporter": "script",
   "version": "2.12.10"
  }
 },
 "nbformat": 4,
 "nbformat_minor": 5
}
