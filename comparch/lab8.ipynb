{
 "cells": [
  {
   "cell_type": "markdown",
   "id": "63ca177a",
   "metadata": {},
   "source": [
    "# Εργαστήριο 8\n",
    "Όπως και στα προηγούμενα εργαστήρια συνεχίζουμε στο περιβάλλον του [online chisel bootcamp](https://mybinder.org/v2/gh/freechipsproject/chisel-bootcamp/master).\n",
    "\n",
    "Πριν ξεκινήσετε, εκτελέστε τα επόμενα 2 κελιά:"
   ]
  },
  {
   "cell_type": "code",
   "execution_count": null,
   "id": "855e0248",
   "metadata": {},
   "outputs": [],
   "source": [
    "val path = System.getProperty(\"user.dir\") + \"/source/load-ivy.sc\"\n",
    "interp.load.module(ammonite.ops.Path(java.nio.file.FileSystems.getDefault().getPath(path)))"
   ]
  },
  {
   "cell_type": "code",
   "execution_count": null,
   "id": "af2689a8",
   "metadata": {},
   "outputs": [],
   "source": [
    "import chisel3._\n",
    "import chisel3.util._\n",
    "import chisel3.tester._\n",
    "import chisel3.tester.RawTester.test\n",
    "import dotvisualizer._"
   ]
  },
  {
   "cell_type": "markdown",
   "id": "bd136859",
   "metadata": {},
   "source": [
    "## Προαπαιτούμενα modules\n",
    "Για την υλοποίηση της τρέχουσας άσκησης θα χρειαστείτε **από τα προηγούμενα εργαστήρια** τα εξής:\n",
    "\n",
    "* Το παραμετρικό module `RegisterFile(register_width: Int, register_number: Int)`\n",
    "\n",
    "* Το παραμετρικό module `Alu(n: Int)`\n",
    "\n",
    "\n",
    " **Αντιγράψτε** τα πιο πάνω modules στα επόμενα 2 κελιά."
   ]
  },
  {
   "cell_type": "code",
   "execution_count": null,
   "id": "7e5ed7ac",
   "metadata": {},
   "outputs": [],
   "source": [
    "class RegisterFile(register_width: Int, register_number: Int) extends Module {\n",
    "  \n",
    "  // συμπληρώστε τον κώδικα από το δικό σας module\n",
    "    \n",
    "}"
   ]
  },
  {
   "cell_type": "code",
   "execution_count": null,
   "id": "2673bd36",
   "metadata": {},
   "outputs": [],
   "source": [
    "class Alu(n: Int) extends Module {\n",
    "\n",
    "  // συμπληρώστε τον κώδικα από το δικό σας module\n",
    "\n",
    "}"
   ]
  },
  {
   "cell_type": "markdown",
   "id": "c17dac58",
   "metadata": {},
   "source": [
    "## Άσκηση\n",
    "Εδώ υλοποιείτε μια πρώτη εκδοχή του module `DataPath` που συνδυάζει `RegisterFile` με `register_number` καταχωρητές και εύρος λέξης `word_width` bits και αντίστοιχα `Alu` των `word_width` bits επίσης, για την υλοποίηση ενός κυκλώματος που θα μπορεί\n",
    "\n",
    "* να εκτελεί πράξεις μεταξύ δύο καταχωρητών και \n",
    "* να αποθηκεύει το αποτέλεσμα σε καταχωρητή.\n",
    "\n",
    "Η υλοποίηση πρέπει να γίνει σύμφωνα με το **επόμενο σχήμα**:\n",
    "\n",
    "![datapath1.png](https://mixstef.github.io/courses/comparch/labimg/datapath1.png)\n",
    "\n",
    "\n",
    "Στο σχήμα, τα νέα σήματα είναι το `alu_a_sel` και το `im` (για τα υπόλοιπα σήματα ανατρέξτε στο αντίστοιχο εργαστήριο του alu ή του registerfile).\n",
    "\n",
    "Η λειτουργία του σήματος `alu_a_sel` (εύρους 1 bit) είναι η ακόλουθη:\n",
    "\n",
    "* Όταν το `alu_a_sel` είναι 0, τότε στην είσοδο a της alu εισάγεται η λέξη της εισόδου `im` (με εύρος `word_width` bits).\n",
    "\n",
    "* Όταν το `alu_a_sel` είναι 1, τότε στην είσοδο a της alu εισάγεται η έξοδος `out_a` του register file.\n",
    "\n",
    "\n",
    "Στο επόμενο κελί υπάρχει ο βασικός σκελετός κώδικα για το module `DataPath`. Παρατηρήστε πώς εισάγουμε instances των `RegisterFile` και `Alu` για χρήση μέσα στο module:\n",
    "\n",
    "~~~scala\n",
    "val regfile = Module(new RegisterFile(word_width,register_number))\n",
    "val alu = Module(new Alu(word_width))\n",
    "~~~\n",
    "\n",
    "Εάν ορίσετε τα δύο instances όπως πάνω, τότε μπορείτε να δημιουργήσετε συνδέσεις όπως π.χ.:\n",
    "\n",
    "~~~scala\n",
    "regfile.io.in := alu.io.out  // η είσοδος in του regfile συνδέεται στην έξοδο out του alu\n",
    "\n",
    "alu.io.sel := io.sel  // η είσοδος sel του alu συνδέεται στην είσοδο sel του κυρίως module (DataPath)\n",
    "~~~\n",
    "\n",
    "Συμπληρώστε ό,τι χρειάζεται στο επόμενο κελί, έτσι ώστε να παραχθεί το κύκλωμα του προηγούμενου σχήματος.\n",
    "\n",
    "**Υπόδειξη:** Ο πολυπλέκτης (MUX) του σχήματος που επιλέγει μία από δύο εισόδους με βάση το σήμα `alu_a_sel` μπορεί να υλοποιηθεί με μια δομή `when`."
   ]
  },
  {
   "cell_type": "code",
   "execution_count": null,
   "id": "d2d2def4",
   "metadata": {},
   "outputs": [],
   "source": [
    "class DataPath(word_width: Int, register_number: Int) extends Module {\n",
    "  val io = IO(new Bundle {\n",
    "\n",
    "    // συμπληρώστε τις εισόδους και εξόδους σύμφωνα με το σχήμα\n",
    "    \n",
    "    // διατηρήστε τα ονόματα των σημάτων!\n",
    "      \n",
    "  })\n",
    "  \n",
    "  // διατηρήστε τις δύο επόμενες γραμμές\n",
    "  val regfile = Module(new RegisterFile(word_width,register_number))\n",
    "  val alu = Module(new Alu(word_width))\n",
    "\n",
    "  // συμπληρώστε υλοποιώντας τις συνδέσεις του σχήματος\n",
    "\n",
    "}"
   ]
  },
  {
   "cell_type": "markdown",
   "id": "afdb481d",
   "metadata": {},
   "source": [
    "## Δοκιμή κυκλώματος datapath\n",
    "Μελετήστε προσεκτικά τι κάνει ο επόμενος δοκιμαστικός κώδικας:\n",
    "\n",
    "Η μεταβλητή `cmdbits` είναι μια λίστα (List) από Maps.\n",
    "* Στη Scala, List είναι μια ακολουθία που μπορούμε να διασχίσουμε από την μια άκρη στην άλλη (όχι όμως να πάρουμε το i-οστό στοιχείο). Εδώ έχουμε ένα `for (bits <- cmdbits) {}` που σε κάθε επανάληψη αναθέτει στη μεταβλητή `bits` ένα-ένα τα περιεχόμενα της λίστας `cmdbits`.\n",
    "\n",
    "* Map στη Scala είναι μια δομή (κλειδιού/τιμής). Στον κώδικα που ακολουθεί παίρνουμε τις τιμές από κάθε Map και οδηγούμε ανάλογα τα σήματα εισόδου του DataPath. Στη συνέχεια δίνουμε έναν παλμό ρολογιού και τυπώνουμε την έξοδο `results`. Αυτό επαναλαμβάνεται για κάθε Map της λίστας.\n",
    "\n",
    "Όπως φαίνεται, στον επόμενο κώδικα εκτελούνται 2 \"λειτουργίες\" (micro-instructions). **Μπορείτε να βρείτε ποιες είναι αυτές;**"
   ]
  },
  {
   "cell_type": "code",
   "execution_count": null,
   "id": "977be5cb",
   "metadata": {},
   "outputs": [],
   "source": [
    "test(new DataPath(8,8)) { c =>\n",
    "  // array of command bits (micro-instructions)\n",
    "  val cmdbits = List(Map(\"READ_SEL_A\" -> 0.U,    // λειτουργία Α\n",
    "                         \"READ_SEL_B\" -> 0.U,\n",
    "                         \"ALU_A_SEL\" -> 0.U,\n",
    "                         \"IM\" -> 33.U,\n",
    "                         \"SEL\" -> \"b01\".U,\n",
    "                         \"SUB\" -> 0.U,\n",
    "                         \"WRITE_SEL\" -> 1.U),\n",
    "                     Map(\"READ_SEL_A\" -> 0.U,    // λειτουργία Β\n",
    "                         \"READ_SEL_B\" -> 1.U,\n",
    "                         \"ALU_A_SEL\" -> 1.U,\n",
    "                         \"IM\" -> 0.U,\n",
    "                         \"SEL\" -> \"b01\".U,\n",
    "                         \"SUB\" -> 0.U,\n",
    "                         \"WRITE_SEL\" -> 0.U)\n",
    "                    )\n",
    "      \n",
    "  for (bits <- cmdbits) {\n",
    "    c.io.read_sel_a.poke(bits(\"READ_SEL_A\"))\n",
    "    c.io.read_sel_b.poke(bits(\"READ_SEL_B\"))\n",
    "    c.io.alu_a_sel.poke(bits(\"ALU_A_SEL\"))\n",
    "    c.io.im.poke(bits(\"IM\"))\n",
    "    c.io.sel.poke(bits(\"SEL\"))\n",
    "    c.io.sub.poke(bits(\"SUB\"))\n",
    "    c.io.write_sel.poke(bits(\"WRITE_SEL\"))\n",
    "    println(c.io.results.peek())\n",
    "    c.clock.step()\n",
    "  }  \n",
    "}"
   ]
  },
  {
   "cell_type": "markdown",
   "id": "4e8dfe85",
   "metadata": {
    "tags": []
   },
   "source": [
    "### Δοκιμάστε κι εσείς\n",
    "Μπορείτε να τροποποιήσετε το περιεχόμενο της λίστας `cmdbits` (προσθέτοντας κι άλλα Maps, αν χρειάζεται), έτσι ώστε να υλοποιηθούν οι εξής λειτουργίες:\n",
    "~~~\n",
    "r1 = 33\n",
    "r2 = 34\n",
    "r3 = r1 + r2\n",
    "~~~\n",
    "\n",
    "**Θυμηθείτε ότι μπορείτε να τροποποιήσετε στον κώδικα μόνο το περιεχόμενο της λίστας `cmdbits`!**"
   ]
  },
  {
   "cell_type": "code",
   "execution_count": null,
   "id": "bc04f092",
   "metadata": {},
   "outputs": [],
   "source": [
    "test(new DataPath(8,8)) { c =>\n",
    "  // array of command bits (micro-instructions)\n",
    "  val cmdbits = List(Map(\"READ_SEL_A\" -> ..συμπληρώστε..,    // r1 = 33\n",
    "                         \"READ_SEL_B\" -> ..συμπληρώστε..,\n",
    "                         \"ALU_A_SEL\" -> ..συμπληρώστε..,\n",
    "                         \"IM\" -> ..συμπληρώστε..,\n",
    "                         \"SEL\" -> ..συμπληρώστε..,\n",
    "                         \"SUB\" -> ..συμπληρώστε..,\n",
    "                         \"WRITE_SEL\" -> ..συμπληρώστε..),\n",
    "                     Map(..συμπληρώστε..,    // r2 = 34\n",
    "                        ),\n",
    "                     Map(..συμπληρώστε..,    // r3 = r1 + r2\n",
    "                        )\n",
    "                    )\n",
    "      \n",
    "  for (bits <- cmdbits) {\n",
    "    c.io.read_sel_a.poke(bits(\"READ_SEL_A\"))\n",
    "    c.io.read_sel_b.poke(bits(\"READ_SEL_B\"))\n",
    "    c.io.alu_a_sel.poke(bits(\"ALU_A_SEL\"))\n",
    "    c.io.im.poke(bits(\"IM\"))\n",
    "    c.io.sel.poke(bits(\"SEL\"))\n",
    "    c.io.sub.poke(bits(\"SUB\"))\n",
    "    c.io.write_sel.poke(bits(\"WRITE_SEL\"))\n",
    "    println(c.io.results.peek())\n",
    "    c.clock.step()\n",
    "  }  \n",
    "}"
   ]
  },
  {
   "cell_type": "markdown",
   "id": "9efe139c",
   "metadata": {},
   "source": [
    "## Τελειώνοντας...\n",
    "Κατεβάσετε και πάρτε μαζί σας το σημερινό notebook για να το έχετε στο αρχείο σας.\n",
    "\n",
    "**Δεν ανήκει στα παραδοτέα του εργαστηρίου.**"
   ]
  }
 ],
 "metadata": {
  "kernelspec": {
   "display_name": "Scala",
   "language": "scala",
   "name": "scala"
  },
  "language_info": {
   "codemirror_mode": "text/x-scala",
   "file_extension": ".scala",
   "mimetype": "text/x-scala",
   "name": "scala",
   "nbconvert_exporter": "script",
   "version": "2.12.10"
  }
 },
 "nbformat": 4,
 "nbformat_minor": 5
}
