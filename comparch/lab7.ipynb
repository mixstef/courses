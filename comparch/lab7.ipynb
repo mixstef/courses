{
 "cells": [
  {
   "cell_type": "markdown",
   "id": "eec6c7e7",
   "metadata": {
    "tags": []
   },
   "source": [
    "# Εργαστήριο 7\n",
    "Όπως και στα προηγούμενα εργαστήρια συνεχίζουμε στο περιβάλλον του [online chisel bootcamp](https://mybinder.org/v2/gh/freechipsproject/chisel-bootcamp/master).\n",
    "\n",
    "Πριν ξεκινήσετε, εκτελέστε τα επόμενα 2 κελιά:"
   ]
  },
  {
   "cell_type": "code",
   "execution_count": null,
   "id": "f9a9b21a",
   "metadata": {},
   "outputs": [],
   "source": [
    "val path = System.getProperty(\"user.dir\") + \"/source/load-ivy.sc\"\n",
    "interp.load.module(ammonite.ops.Path(java.nio.file.FileSystems.getDefault().getPath(path)))"
   ]
  },
  {
   "cell_type": "code",
   "execution_count": null,
   "id": "35451e55",
   "metadata": {},
   "outputs": [],
   "source": [
    "import chisel3._\n",
    "import chisel3.util._\n",
    "import chisel3.tester._\n",
    "import chisel3.tester.RawTester.test\n",
    "import dotvisualizer._"
   ]
  },
  {
   "cell_type": "markdown",
   "id": "97c343c0",
   "metadata": {},
   "source": [
    "## Άσκηση\n",
    "Ζητούμενο είναι η κατασκευή ενός **register file** για χρήση σε μια μονάδα επεξεργασίας. Επειδή το register file θα τροφοδοτεί και τις δύο εισόδους της αριθμητικής-λογικής μονάδας, θα πρέπει το register file να διαθέτει **δύο εξόδους** A και B όπου θα εμφανίζονται οι τιμές των επιλεγμένων καταχωρητών (αντί για *μία έξοδο*, όπως υλοποιήσατε στο προηγούμενο εργαστήριο).\n",
    "\n",
    "Χρησιμοποιώντας υλικό από τα προηγούμενα εργαστήρια κατασκευάστε register file (module `RegisterFile`) με τα εξής χαρακτηριστικά:\n",
    "\n",
    "* Το module `RegisterFile` θα ορίζεται παραμετρικά τόσο για το πλήθος των καταχωρητών (παράμετρος `register_number`), όσο και για το εύρος λέξης των καταχωρητών (παράμετρος `register_width`). Το mudule σας θα πρέπει δηλαδή να ορίζεται ως εξής:\n",
    "\n",
    "  ~~~scala\n",
    "  class RegisterFile(register_number: Int, register_width: Int) extends Module {\n",
    "  ~~~~\n",
    "    \n",
    "* Οι είσοδοι και έξοδοι του module `RegisterFile` θα πρέπει να είναι οι ακόλουθες:\n",
    "  * `in`: λέξη εισόδου (για εγγραφή) στο register file, με εύρος `register_width` bits.\n",
    "  * `out_a`: έξοδος A από το register file, με εύρος `register_width` bits.\n",
    "  * `out_b`: έξοδος B από το register file, με εύρος `register_width` bits.\n",
    "  * `read_sel_a`: είσοδος, επιλέγει ποιου καταχωρητή το περιεχόμενο θα εμφανιστεί στην έξοδο A (`out_a`), με εύρος `log2Ceil(register_number)` bits.\n",
    "  * `read_sel_b`: είσοδος, επιλέγει ποιου καταχωρητή το περιεχόμενο θα εμφανιστεί στην έξοδο B (`out_b`), με εύρος `log2Ceil(register_number)` bits.\n",
    "  * `write_sel`: είσοδος, επιλέγει σε ποιον καταχωρητή θα αποθηκευτεί η λέξη εισόδου `in`, με εύρος `log2Ceil(register_number)` bits.\n",
    "\n",
    "  \n",
    "  \n",
    "* Όλοι οι καταχωρητές κατά την έναρξη λειτουργίας **θα πρέπει να αρχικοποιούνται στην τιμή 0**.\n",
    "\n",
    "\n",
    "* Ο καταχωρητής 0 **δεν είναι εγγράψιμος και παραμένει πάντα 0 κατά την ανάγνωση**."
   ]
  },
  {
   "cell_type": "code",
   "execution_count": null,
   "id": "11b63288",
   "metadata": {},
   "outputs": [],
   "source": [
    "class RegisterFile(register_number: Int, register_width: Int) extends Module {\n",
    "  \n",
    "  val io = IO(new Bundle {\n",
    "      \n",
    "    // συμπληρώστε τις εισόδους/εξόδους..    \n",
    "      \n",
    "  })\n",
    "    \n",
    "  // συμπληρώστε...\n",
    "    \n",
    "}"
   ]
  },
  {
   "cell_type": "markdown",
   "id": "af6e8c6b",
   "metadata": {},
   "source": [
    "Προσθέστε **τον δικό σας** κώδικα ελέγχου (δείτε τον αντίστοιχο κώδικα από το προηγούμενο εργαστήριο) που θα δημιουργεί και θα ελέγχει ένα register file **με 8 καταχωρητές και εύρος λέξης 16 bits** για να βεβαιωθείτε ότι:\n",
    "\n",
    "\n",
    "* Μπορείτε να θέσετε μια διαφορετική τιμή σε κάθε καταχωρητή (εκτός από τον καταχωρητή 0).\n",
    "\n",
    "\n",
    "* Θέτοντας την κατάλληλη τιμή στα σήματα επιλογής καταχωρητή, μπορείτε να διαβάσετε από τις εξόδους Α και Β τις τιμές που γράψατε προηγουμένως."
   ]
  },
  {
   "cell_type": "code",
   "execution_count": null,
   "id": "7b6e9480",
   "metadata": {},
   "outputs": [],
   "source": [
    "test(new RegisterFile(..συμπληρώστε τις παραμέτρους..)) { c =>\n",
    "\n",
    "  // ..συμπληρώστε..\n",
    "\n",
    "}\n",
    "println(\"SUCCESS!!\")"
   ]
  },
  {
   "cell_type": "markdown",
   "id": "188c23e3",
   "metadata": {},
   "source": [
    "## Ανεβάστε τη λύση σας στο opencourses\n",
    "Ανεβάστε το τελικό σας notebook στο opencourses (**Εργασία 2**) έως και τη **Δευτέρα 27/11**.\n",
    "\n",
    "*(Ίσως χρειαστεί να κάνετε zip το αρχείο ipynb για να γίνει αποδεκτό από το σύστημα)*\n"
   ]
  }
 ],
 "metadata": {
  "kernelspec": {
   "display_name": "Scala",
   "language": "scala",
   "name": "scala"
  },
  "language_info": {
   "codemirror_mode": "text/x-scala",
   "file_extension": ".scala",
   "mimetype": "text/x-scala",
   "name": "scala",
   "nbconvert_exporter": "script",
   "version": "2.12.10"
  }
 },
 "nbformat": 4,
 "nbformat_minor": 5
}
