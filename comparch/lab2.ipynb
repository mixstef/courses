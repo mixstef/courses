{
 "cells": [
  {
   "cell_type": "markdown",
   "id": "b632deef-3d63-4253-b1c0-0018d9df3fa1",
   "metadata": {},
   "source": [
    "# Notebook 2ου εργαστηρίου\n",
    "\n",
    "Πριν ξεκινήσετε **εκτελέστε τα δύο επόμενα κελιά**.\n",
    "\n",
    "*(Σημ.: Αυτό θα πρέπει να γίνει μια φορά μόνο, στην αρχή. Αν όμως κάνετε kernel restart θα πρέπει να το επαναλάβετε!)*"
   ]
  },
  {
   "cell_type": "code",
   "execution_count": null,
   "id": "1eee3d67-b484-4766-b875-da0126404269",
   "metadata": {
    "tags": []
   },
   "outputs": [],
   "source": [
    "val path = System.getProperty(\"user.dir\") + \"/source/load-ivy.sc\"\n",
    "interp.load.module(ammonite.ops.Path(java.nio.file.FileSystems.getDefault().getPath(path)))"
   ]
  },
  {
   "cell_type": "code",
   "execution_count": null,
   "id": "f47b4871-6c87-48f1-9b73-2141e8f5a54d",
   "metadata": {
    "scrolled": true,
    "tags": []
   },
   "outputs": [],
   "source": [
    "import chisel3._\n",
    "import chisel3.util._\n",
    "import chisel3.tester._\n",
    "import chisel3.tester.RawTester.test"
   ]
  },
  {
   "cell_type": "markdown",
   "id": "98cac8e0-9d84-4fbd-9451-5d9abde7fa94",
   "metadata": {},
   "source": [
    "## Βασικές πράξεις μεταξύ bits\n",
    "Η Chisel ορίζει τελεστές για τις βασικές πράξεις μεταξύ bits ως εξής:\n",
    "\n",
    "| Τελεστής | Πράξη μεταξύ bits |\n",
    "| -------- | ----------------- |\n",
    "| ~ | NOT |\n",
    "| & | AND |\n",
    "| \\| | OR |\n",
    "\n",
    "\n",
    "Η προτεραιότητα των τελεστών στον προηγούμενο πίνακα είναι από πάνω προς τα κάτω, με την υψηλότερη προτεραιότητα στο NOT και τη χαμηλότερη στο OR.\n",
    "\n",
    "Οι τελεστές εφαρμόζονται σε οποιαδήποτε σήματα και έχουν ως αποτέλεσμα την κατασκευή του κυκλώματος που θα εκτελεσει τις αντίστοιχες λογικές πράξεις. Μπορείτε π.χ. να γράψετε μέσα σε ένα module:\n",
    "\n",
    "~~~scala\n",
    "io.out := ~io.a & io.b\n",
    "~~~\n",
    "\n",
    "Το προηγούμενο σημαίνει ότι το σήμα `io.out` παράγεται από τον συνδυασμό με τη λογική πράξη AND των σημάτων `NOT(io.a)` και `io.b`."
   ]
  },
  {
   "cell_type": "markdown",
   "id": "666d4a05-b21b-4cdc-8228-aff3b08f9bc7",
   "metadata": {},
   "source": [
    "## Άσκηση\n",
    "Με βάση τα προηγούμενα (και [τα παραδείγματα του 1ου εργαστηρίου](https://nbviewer.org/urls/mixstef.github.io/courses/comparch/lab1.ipynb)) κατασκευάστε το module `MyXOR` το οποίο θα υλοποιεί τη λογική πράξη XOR μεταξύ των εισόδων `a` και `b` (με εύρος 1 bit η καθεμία) και θα εμφανίζει το αποτέλεσμα στην έξοδο `out` (εύρος 1 bit).\n",
    "\n",
    "Υπενθυμιζεται ότι η πράξη XOR ορίζεται μαθηματικά ως:\n",
    "\n",
    "~~~\n",
    "a xor b = ab' + a'b\n",
    "~~~\n",
    "\n",
    "ή αλλιώς:\n",
    "\n",
    "~~~\n",
    "a xor b = (a and (not b)) or ((not a) and b)\n",
    "~~~\n",
    "\n",
    "\n",
    "Συμπληρώστε τον σκελετό κώδικα που δίνεται στο αμέσως επόμενο κελί. Εκτελέστε τον κώδικα του κελιού όταν τελειώσετε."
   ]
  },
  {
   "cell_type": "code",
   "execution_count": null,
   "id": "08e25421-7c8c-4723-b3a3-382855a9c666",
   "metadata": {
    "tags": []
   },
   "outputs": [],
   "source": [
    "class MyXOR extends Module {\n",
    "  val io = IO(new Bundle {\n",
    "    val a = // ...συμπληρώστε...\n",
    "    val b = // ...συμπληρώστε...\n",
    "    val out = // ...συμπληρώστε...\n",
    "  })\n",
    "    \n",
    "  io.out := // ...συμπληρώστε...\n",
    "}"
   ]
  },
  {
   "cell_type": "markdown",
   "id": "9d85eeeb-966c-48e2-887a-52a1b747c764",
   "metadata": {},
   "source": [
    "Ελέγξτε την ορθή λειτουργία του module που φτιάξατε (με `poke` και `expect`) για **όλους του συνδυασμούς εισόδων** σύμφωνα με τον επόμενο πίνακα αλήθειας της λογικής πράξης XOR:\n",
    "\n",
    "| a | b | out |\n",
    "| ----- | ----- | --- |\n",
    "| 0 | 0 | 0 |\n",
    "| 0 | 1 | 1 |\n",
    "| 1 | 0 | 1 |\n",
    "| 1 | 1 | 0 |\n",
    "\n",
    "Συμπληρώστε και εκτελέστε τον κώδικα στο επόμενο κελί."
   ]
  },
  {
   "cell_type": "code",
   "execution_count": null,
   "id": "c4c48b9f-4735-481d-9cdd-a2428c83c3a9",
   "metadata": {
    "tags": []
   },
   "outputs": [],
   "source": [
    "test(new MyXOR()) { c =>\n",
    "  c.io.a.poke(0.U)\n",
    "  c.io.b.poke(0.U)  \n",
    "  c.io.out.expect(0.U)\n",
    "    \n",
    "  // ...συμπληρώστε και τους υπόλοιπους 3 συνδυασμούς...        \n",
    "}\n",
    "println(\"SUCCESS!!\")"
   ]
  },
  {
   "cell_type": "markdown",
   "id": "bd2e2314-2684-41c8-85db-cf01c123555c",
   "metadata": {},
   "source": [
    "## Τελειώνοντας...\n",
    "Στην πραγματικότητα **δεν χρειάζεται** να υλοποιήσετε την πράξη XOR γιατί η Chisel έχει τον αντίστοιχο τελεστή `^` (η άσκηση δόθηκε μόνο για εξάσκηση!):\n",
    "\n",
    "| Τελεστής | Πράξη μεταξύ bits |\n",
    "| -------- | ----------------- |\n",
    "| ~ | NOT |\n",
    "| & | AND |\n",
    "| \\| | OR |\n",
    "| ^ | XOR |\n",
    "\n",
    "Μπορείτε να κατεβάσετε και να πάρετε μαζί σας το σημερινό notebook για να το έχετε στο αρχείο σας.\n",
    "\n",
    "**Δεν ανήκει στα παραδοτέα του εργαστηρίου.**"
   ]
  }
 ],
 "metadata": {
  "kernelspec": {
   "display_name": "Scala",
   "language": "scala",
   "name": "scala"
  },
  "language_info": {
   "codemirror_mode": "text/x-scala",
   "file_extension": ".scala",
   "mimetype": "text/x-scala",
   "name": "scala",
   "nbconvert_exporter": "script",
   "version": "2.12.10"
  }
 },
 "nbformat": 4,
 "nbformat_minor": 5
}
